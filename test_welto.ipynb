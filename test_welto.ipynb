{
 "cells": [
  {
   "cell_type": "markdown",
   "source": [
    "# Importation des librairies"
   ],
   "metadata": {
    "collapsed": false
   }
  },
  {
   "cell_type": "code",
   "execution_count": 25,
   "metadata": {
    "collapsed": true,
    "ExecuteTime": {
     "end_time": "2024-05-21T21:28:38.715328Z",
     "start_time": "2024-05-21T21:28:38.715093Z"
    }
   },
   "outputs": [],
   "source": [
    "import BankModel\n",
    "import header\n",
    "import ProcessRakuten\n",
    "\n",
    "import numpy as np\n",
    "import pandas as pd\n",
    "import spacy\n",
    "\n",
    "from sklearn.ensemble import GradientBoostingClassifier\n",
    "from sklearn.model_selection import train_test_split, GridSearchCV\n",
    "from sklearn.metrics import accuracy_score, f1_score\n",
    "from sklearn.feature_extraction.text import TfidfVectorizer\n",
    "from sklearn.svm import SVC\n",
    "from sklearn.pipeline import make_pipeline"
   ]
  },
  {
   "cell_type": "markdown",
   "source": [
    "# Importation des données"
   ],
   "metadata": {
    "collapsed": false
   }
  },
  {
   "cell_type": "code",
   "execution_count": 3,
   "outputs": [],
   "source": [
    "X_train = pd.read_csv(\n",
    "    \"/Users/welto/Library/CloudStorage/OneDrive-CentraleSupelec/2A/CASA/RakutenPjct/data/X_train_update.csv\",\n",
    "    sep=','\n",
    ")\n",
    "X_test = pd.read_csv(\n",
    "    \"/Users/welto/Library/CloudStorage/OneDrive-CentraleSupelec/2A/CASA/RakutenPjct/data/X_test_update.csv\",\n",
    "    sep=','\n",
    ")\n",
    "Y_train = pd.read_csv(\n",
    "    \"/Users/welto/Library/CloudStorage/OneDrive-CentraleSupelec/2A/CASA/RakutenPjct/data/Y_train_CVw08PX.csv\",\n",
    "    sep=','\n",
    ")"
   ],
   "metadata": {
    "collapsed": false,
    "ExecuteTime": {
     "end_time": "2024-05-21T21:12:47.128338Z",
     "start_time": "2024-05-21T21:12:46.571119Z"
    }
   }
  },
  {
   "cell_type": "markdown",
   "source": [
    "# Preprocessing"
   ],
   "metadata": {
    "collapsed": false
   }
  },
  {
   "cell_type": "markdown",
   "source": [
    "### Supression des colonnes inutilisées"
   ],
   "metadata": {
    "collapsed": false
   }
  },
  {
   "cell_type": "code",
   "execution_count": 4,
   "outputs": [],
   "source": [
    "X_train = X_train.drop(\n",
    "    labels=['Unnamed: 0', 'imageid', 'description']\n",
    "    , axis=1\n",
    ")\n",
    "X_test = X_test.drop(\n",
    "    labels=['imageid',\n",
    "            'description', 'Unnamed: 0'],\n",
    "    axis=1\n",
    ")\n",
    "Y_train = Y_train.drop(\n",
    "    labels='Unnamed: 0',\n",
    "    axis=1\n",
    ")"
   ],
   "metadata": {
    "collapsed": false,
    "ExecuteTime": {
     "end_time": "2024-05-21T21:12:52.779505Z",
     "start_time": "2024-05-21T21:12:52.768040Z"
    }
   }
  },
  {
   "cell_type": "code",
   "execution_count": 10,
   "outputs": [
    {
     "data": {
      "text/plain": "((84916, 2), (84916, 2), (84916, 1))"
     },
     "execution_count": 10,
     "metadata": {},
     "output_type": "execute_result"
    }
   ],
   "source": [
    "X_train.shape, X_train.shape, Y_train.shape"
   ],
   "metadata": {
    "collapsed": false,
    "ExecuteTime": {
     "end_time": "2024-05-21T21:14:23.361276Z",
     "start_time": "2024-05-21T21:14:23.359211Z"
    }
   }
  },
  {
   "cell_type": "markdown",
   "source": [
    "### Séparation train-test"
   ],
   "metadata": {
    "collapsed": false
   }
  },
  {
   "cell_type": "code",
   "execution_count": 11,
   "outputs": [],
   "source": [
    "Y_train, Y_test = train_test_split(Y_train, test_size=0.2, random_state=42)"
   ],
   "metadata": {
    "collapsed": false,
    "ExecuteTime": {
     "end_time": "2024-05-21T21:14:33.940125Z",
     "start_time": "2024-05-21T21:14:33.931855Z"
    }
   }
  },
  {
   "cell_type": "code",
   "execution_count": 12,
   "outputs": [
    {
     "data": {
      "text/plain": "((67932, 1), (16984, 1))"
     },
     "execution_count": 12,
     "metadata": {},
     "output_type": "execute_result"
    }
   ],
   "source": [
    "Y_train.shape, Y_test.shape"
   ],
   "metadata": {
    "collapsed": false,
    "ExecuteTime": {
     "end_time": "2024-05-21T21:14:52.611800Z",
     "start_time": "2024-05-21T21:14:52.608125Z"
    }
   }
  },
  {
   "cell_type": "markdown",
   "source": [
    "### Conversion en listes"
   ],
   "metadata": {
    "collapsed": false
   }
  },
  {
   "cell_type": "code",
   "execution_count": 13,
   "outputs": [],
   "source": [
    "Y_train = Y_train['prdtypecode'].tolist()\n",
    "Y_test = Y_test['prdtypecode'].tolist()"
   ],
   "metadata": {
    "collapsed": false,
    "ExecuteTime": {
     "end_time": "2024-05-21T21:15:00.995259Z",
     "start_time": "2024-05-21T21:15:00.990732Z"
    }
   }
  },
  {
   "cell_type": "markdown",
   "source": [
    "### Tokenisation et cleaning"
   ],
   "metadata": {
    "collapsed": false
   }
  },
  {
   "cell_type": "code",
   "execution_count": 15,
   "outputs": [],
   "source": [
    "X_train_raw_designation = [k for k in X_train['designation'].tolist()[:len(Y_train)]] # On s'assure que X et Y sont de même dimension\n",
    "X_test_raw_designation = [k for k in X_test['designation'].tolist()[:len(Y_test)]]"
   ],
   "metadata": {
    "collapsed": false,
    "ExecuteTime": {
     "end_time": "2024-05-21T21:16:02.275839Z",
     "start_time": "2024-05-21T21:16:02.275419Z"
    }
   }
  },
  {
   "cell_type": "code",
   "execution_count": 16,
   "outputs": [
    {
     "name": "stdout",
     "output_type": "stream",
     "text": [
      "X_train_raw_designation_clean: |██████████████████████████████████████████████████| 100.0% Complete\r\n",
      "X_test_raw_designation_clean: |██████████████████████████████████████████████████| 100.0% Complete\r\n"
     ]
    }
   ],
   "source": [
    "spacy_nlp = spacy.load(\"fr_core_news_sm\")\n",
    "\n",
    "X_train_raw_designation_clean = []\n",
    "X_test_raw_designation_clean = []\n",
    "\n",
    "a = len(X_train_raw_designation)\n",
    "b = len(X_test_raw_designation)\n",
    "\n",
    "header.progress_bar(\n",
    "    0,\n",
    "    a,\n",
    "    prefix='Progress:',\n",
    "    suffix='Complete',\n",
    "    length=50\n",
    ")\n",
    "\n",
    "for k in range(a):\n",
    "    X_train_raw_designation_clean.append(\n",
    "        header.raw_to_tokens(\n",
    "            X_train_raw_designation[k],\n",
    "            spacy_nlp\n",
    "        )\n",
    "    )\n",
    "    header.progress_bar(\n",
    "        k + 1,\n",
    "        a,\n",
    "        prefix='X_train_raw_designation_clean:',\n",
    "        suffix='Complete',\n",
    "        length=50\n",
    "    )\n",
    "\n",
    "for k in range(b):\n",
    "    X_test_raw_designation_clean.append(\n",
    "        header.raw_to_tokens(\n",
    "            X_test_raw_designation[k],\n",
    "            spacy_nlp\n",
    "        )\n",
    "    )\n",
    "    header.progress_bar(\n",
    "        k + 1,\n",
    "        b,\n",
    "        prefix='X_test_raw_designation_clean:',\n",
    "        suffix='Complete',\n",
    "        length=50\n",
    "    )"
   ],
   "metadata": {
    "collapsed": false,
    "ExecuteTime": {
     "end_time": "2024-05-21T21:21:00.911700Z",
     "start_time": "2024-05-21T21:16:04.950338Z"
    }
   }
  },
  {
   "cell_type": "markdown",
   "source": [
    "### Vectorisation"
   ],
   "metadata": {
    "collapsed": false
   }
  },
  {
   "cell_type": "code",
   "execution_count": 17,
   "outputs": [
    {
     "name": "stdout",
     "output_type": "stream",
     "text": [
      "X_train_tfidf shape: (67932, 69739)\n",
      "X_test_tfidf shape: (13812, 69739)\n"
     ]
    }
   ],
   "source": [
    "tfidf = TfidfVectorizer()\n",
    "\n",
    "X_train_tfidf = tfidf.fit_transform(X_train_raw_designation_clean)\n",
    "X_test_tfidf = tfidf.transform(X_test_raw_designation_clean)\n",
    "\n",
    "print(\"X_train_tfidf shape:\", X_train_tfidf.shape)\n",
    "print(\"X_test_tfidf shape:\", X_test_tfidf.shape)"
   ],
   "metadata": {
    "collapsed": false,
    "ExecuteTime": {
     "end_time": "2024-05-21T21:21:37.893465Z",
     "start_time": "2024-05-21T21:21:37.519933Z"
    }
   }
  },
  {
   "cell_type": "code",
   "execution_count": 24,
   "outputs": [
    {
     "data": {
      "text/plain": "(matrix([[0., 0., 0., ..., 0., 0., 0.],\n         [0., 0., 0., ..., 0., 0., 0.],\n         [0., 0., 0., ..., 0., 0., 0.],\n         ...,\n         [0., 0., 0., ..., 0., 0., 0.],\n         [0., 0., 0., ..., 0., 0., 0.],\n         [0., 0., 0., ..., 0., 0., 0.]]),\n matrix([[0., 0., 0., ..., 0., 0., 0.],\n         [0., 0., 0., ..., 0., 0., 0.],\n         [0., 0., 0., ..., 0., 0., 0.],\n         ...,\n         [0., 0., 0., ..., 0., 0., 0.],\n         [0., 0., 0., ..., 0., 0., 0.],\n         [0., 0., 0., ..., 0., 0., 0.]]))"
     },
     "execution_count": 24,
     "metadata": {},
     "output_type": "execute_result"
    }
   ],
   "source": [
    "X_train_tfidf.todense(), X_test_tfidf.todense()"
   ],
   "metadata": {
    "collapsed": false,
    "ExecuteTime": {
     "end_time": "2024-05-21T21:26:58.441357Z",
     "start_time": "2024-05-21T21:26:56.864923Z"
    }
   }
  },
  {
   "cell_type": "markdown",
   "source": [
    "# Entraînement"
   ],
   "metadata": {
    "collapsed": false
   }
  },
  {
   "cell_type": "markdown",
   "source": [
    "## Gradient Boosting (ne fonctionne pas)"
   ],
   "metadata": {
    "collapsed": false
   }
  },
  {
   "cell_type": "code",
   "execution_count": null,
   "outputs": [],
   "source": [
    "params = {\n",
    "    'n_estimators': [100, 150, 200, 250, 300],\n",
    "    'learning_rate': [0.02, 0.03, 0.04, 0.05, 0.1]\n",
    "}\n",
    "\n",
    "gb = GradientBoostingClassifier()\n",
    "\n",
    "gb_grid = GridSearchCV(\n",
    "    estimator=gb,\n",
    "    param_grid=params,\n",
    "    scoring='accuracy',\n",
    "    cv=10, n_jobs=-1,\n",
    "    verbose=10\n",
    ")\n",
    "\n",
    "gb_grid.fit(\n",
    "    X_train_tfidf,\n",
    "    Y_train\n",
    ")\n",
    "\n",
    "Y_pred_gb = gb_grid.predict(X_test_tfidf)\n",
    "print(\n",
    "    \"Accuracy score:\",\n",
    "    accuracy_score(\n",
    "        Y_test,\n",
    "        Y_pred_gb\n",
    "    )\n",
    ")"
   ],
   "metadata": {
    "collapsed": false
   }
  },
  {
   "cell_type": "markdown",
   "source": [
    "# SVM"
   ],
   "metadata": {
    "collapsed": false
   }
  },
  {
   "cell_type": "code",
   "execution_count": null,
   "outputs": [],
   "source": [
    "svm = make_pipeline(SVC())\n",
    "\n",
    "svm.fit(\n",
    "    X_train_tfidf,\n",
    "    Y_train\n",
    ")\n",
    "\n",
    "Y_pred_svm = svm.predict(X_test_tfidf)\n",
    "\n",
    "print(\n",
    "    \"Accuracy score :\",\n",
    "    accuracy_score(\n",
    "        Y_test,\n",
    "        Y_pred_svm\n",
    "    )\n",
    ")"
   ],
   "metadata": {
    "collapsed": false,
    "is_executing": true,
    "ExecuteTime": {
     "start_time": "2024-05-21T21:31:20.873259Z"
    }
   }
  },
  {
   "cell_type": "code",
   "execution_count": null,
   "outputs": [],
   "source": [],
   "metadata": {
    "collapsed": false
   }
  }
 ],
 "metadata": {
  "kernelspec": {
   "display_name": "Python 3",
   "language": "python",
   "name": "python3"
  },
  "language_info": {
   "codemirror_mode": {
    "name": "ipython",
    "version": 2
   },
   "file_extension": ".py",
   "mimetype": "text/x-python",
   "name": "python",
   "nbconvert_exporter": "python",
   "pygments_lexer": "ipython2",
   "version": "2.7.6"
  }
 },
 "nbformat": 4,
 "nbformat_minor": 0
}
