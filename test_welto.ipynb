{
 "cells": [
  {
   "cell_type": "markdown",
   "source": [
    "# Importation des librairies"
   ],
   "metadata": {
    "collapsed": false
   }
  },
  {
   "cell_type": "code",
   "execution_count": 25,
   "metadata": {
    "collapsed": true,
    "ExecuteTime": {
     "end_time": "2024-05-21T21:28:38.715328Z",
     "start_time": "2024-05-21T21:28:38.715093Z"
    }
   },
   "outputs": [],
   "source": [
    "import BankModel\n",
    "import header\n",
    "import ProcessRakuten\n",
    "\n",
    "import numpy as np\n",
    "import pandas as pd\n",
    "import spacy\n",
    "\n",
    "from sklearn.ensemble import GradientBoostingClassifier\n",
    "from sklearn.model_selection import train_test_split, GridSearchCV\n",
    "from sklearn.metrics import accuracy_score, f1_score\n",
    "from sklearn.feature_extraction.text import TfidfVectorizer\n",
    "from sklearn.svm import SVC\n",
    "from sklearn.pipeline import make_pipeline"
   ]
  },
  {
   "cell_type": "markdown",
   "source": [
    "# Importation des données"
   ],
   "metadata": {
    "collapsed": false
   }
  },
  {
   "cell_type": "code",
   "execution_count": 3,
   "outputs": [],
   "source": [
    "X_train = pd.read_csv(\n",
    "    \"/Users/welto/Library/CloudStorage/OneDrive-CentraleSupelec/2A/CASA/RakutenPjct/data/X_train_update.csv\",\n",
    "    sep=','\n",
    ")\n",
    "X_test = pd.read_csv(\n",
    "    \"/Users/welto/Library/CloudStorage/OneDrive-CentraleSupelec/2A/CASA/RakutenPjct/data/X_test_update.csv\",\n",
    "    sep=','\n",
    ")\n",
    "Y_train = pd.read_csv(\n",
    "    \"/Users/welto/Library/CloudStorage/OneDrive-CentraleSupelec/2A/CASA/RakutenPjct/data/Y_train_CVw08PX.csv\",\n",
    "    sep=','\n",
    ")"
   ],
   "metadata": {
    "collapsed": false,
    "ExecuteTime": {
     "end_time": "2024-05-21T21:12:47.128338Z",
     "start_time": "2024-05-21T21:12:46.571119Z"
    }
   }
  },
  {
   "cell_type": "markdown",
   "source": [
    "# Preprocessing"
   ],
   "metadata": {
    "collapsed": false
   }
  },
  {
   "cell_type": "markdown",
   "source": [
    "### Supression des colonnes inutilisées"
   ],
   "metadata": {
    "collapsed": false
   }
  },
  {
   "cell_type": "code",
   "execution_count": 4,
   "outputs": [],
   "source": [
    "X_train = X_train.drop(\n",
    "    labels=['Unnamed: 0', 'imageid', 'description']\n",
    "    , axis=1\n",
    ")\n",
    "X_test = X_test.drop(\n",
    "    labels=['imageid',\n",
    "            'description', 'Unnamed: 0'],\n",
    "    axis=1\n",
    ")\n",
    "Y_train = Y_train.drop(\n",
    "    labels='Unnamed: 0',\n",
    "    axis=1\n",
    ")"
   ],
   "metadata": {
    "collapsed": false,
    "ExecuteTime": {
     "end_time": "2024-05-21T21:12:52.779505Z",
     "start_time": "2024-05-21T21:12:52.768040Z"
    }
   }
  },
  {
   "cell_type": "code",
   "execution_count": 10,
   "outputs": [
    {
     "data": {
      "text/plain": "((84916, 2), (84916, 2), (84916, 1))"
     },
     "execution_count": 10,
     "metadata": {},
     "output_type": "execute_result"
    }
   ],
   "source": [
    "X_train.shape, X_train.shape, Y_train.shape"
   ],
   "metadata": {
    "collapsed": false,
    "ExecuteTime": {
     "end_time": "2024-05-21T21:14:23.361276Z",
     "start_time": "2024-05-21T21:14:23.359211Z"
    }
   }
  },
  {
   "cell_type": "markdown",
   "source": [
    "### Séparation train-test"
   ],
   "metadata": {
    "collapsed": false
   }
  },
  {
   "cell_type": "code",
   "execution_count": 11,
   "outputs": [],
   "source": [
    "Y_train, Y_test = train_test_split(Y_train, test_size=0.2, random_state=42)"
   ],
   "metadata": {
    "collapsed": false,
    "ExecuteTime": {
     "end_time": "2024-05-21T21:14:33.940125Z",
     "start_time": "2024-05-21T21:14:33.931855Z"
    }
   }
  },
  {
   "cell_type": "code",
   "execution_count": 12,
   "outputs": [
    {
     "data": {
      "text/plain": "((67932, 1), (16984, 1))"
     },
     "execution_count": 12,
     "metadata": {},
     "output_type": "execute_result"
    }
   ],
   "source": [
    "Y_train.shape, Y_test.shape"
   ],
   "metadata": {
    "collapsed": false,
    "ExecuteTime": {
     "end_time": "2024-05-21T21:14:52.611800Z",
     "start_time": "2024-05-21T21:14:52.608125Z"
    }
   }
  },
  {
   "cell_type": "markdown",
   "source": [
    "### Conversion en listes"
   ],
   "metadata": {
    "collapsed": false
   }
  },
  {
   "cell_type": "code",
   "execution_count": 13,
   "outputs": [],
   "source": [
    "Y_train = Y_train['prdtypecode'].tolist()\n",
    "Y_test = Y_test['prdtypecode'].tolist()"
   ],
   "metadata": {
    "collapsed": false,
    "ExecuteTime": {
     "end_time": "2024-05-21T21:15:00.995259Z",
     "start_time": "2024-05-21T21:15:00.990732Z"
    }
   }
  },
  {
   "cell_type": "markdown",
   "source": [
    "### Tokenisation et cleaning"
   ],
   "metadata": {
    "collapsed": false
   }
  },
  {
   "cell_type": "code",
   "execution_count": 15,
   "outputs": [],
   "source": [
    "X_train_raw_designation = [k for k in X_train['designation'].tolist()[:len(Y_train)]] # On s'assure que X et Y sont de même dimension\n",
    "X_test_raw_designation = [k for k in X_test['designation'].tolist()[:len(Y_test)]]"
   ],
   "metadata": {
    "collapsed": false,
    "ExecuteTime": {
     "end_time": "2024-05-21T21:16:02.275839Z",
     "start_time": "2024-05-21T21:16:02.275419Z"
    }
   }
  },
  {
   "cell_type": "code",
   "execution_count": 16,
   "outputs": [
    {
     "name": "stdout",
     "output_type": "stream",
     "text": [
      "X_train_raw_designation_clean: |██████████████████████████████████████████████████| 100.0% Complete\r\n",
      "X_test_raw_designation_clean: |██████████████████████████████████████████████████| 100.0% Complete\r\n"
     ]
    }
   ],
   "source": [
    "spacy_nlp = spacy.load(\"fr_core_news_sm\")\n",
    "\n",
    "X_train_raw_designation_clean = []\n",
    "X_test_raw_designation_clean = []\n",
    "\n",
    "a = len(X_train_raw_designation)\n",
    "b = len(X_test_raw_designation)\n",
    "\n",
    "header.progress_bar(\n",
    "    0,\n",
    "    a,\n",
    "    prefix='Progress:',\n",
    "    suffix='Complete',\n",
    "    length=50\n",
    ")\n",
    "\n",
    "for k in range(a):\n",
    "    X_train_raw_designation_clean.append(\n",
    "        header.raw_to_tokens(\n",
    "            X_train_raw_designation[k],\n",
    "            spacy_nlp\n",
    "        )\n",
    "    )\n",
    "    header.progress_bar(\n",
    "        k + 1,\n",
    "        a,\n",
    "        prefix='X_train_raw_designation_clean:',\n",
    "        suffix='Complete',\n",
    "        length=50\n",
    "    )\n",
    "\n",
    "for k in range(b):\n",
    "    X_test_raw_designation_clean.append(\n",
    "        header.raw_to_tokens(\n",
    "            X_test_raw_designation[k],\n",
    "            spacy_nlp\n",
    "        )\n",
    "    )\n",
    "    header.progress_bar(\n",
    "        k + 1,\n",
    "        b,\n",
    "        prefix='X_test_raw_designation_clean:',\n",
    "        suffix='Complete',\n",
    "        length=50\n",
    "    )"
   ],
   "metadata": {
    "collapsed": false,
    "ExecuteTime": {
     "end_time": "2024-05-21T21:21:00.911700Z",
     "start_time": "2024-05-21T21:16:04.950338Z"
    }
   }
  },
  {
   "cell_type": "markdown",
   "source": [
    "### Vectorisation"
   ],
   "metadata": {
    "collapsed": false
   }
  },
  {
   "cell_type": "code",
   "execution_count": 17,
   "outputs": [
    {
     "name": "stdout",
     "output_type": "stream",
     "text": [
      "X_train_tfidf shape: (67932, 69739)\n",
      "X_test_tfidf shape: (13812, 69739)\n"
     ]
    }
   ],
   "source": [
    "tfidf = TfidfVectorizer()\n",
    "\n",
    "X_train_tfidf = tfidf.fit_transform(X_train_raw_designation_clean)\n",
    "X_test_tfidf = tfidf.transform(X_test_raw_designation_clean)\n",
    "\n",
    "print(\"X_train_tfidf shape:\", X_train_tfidf.shape)\n",
    "print(\"X_test_tfidf shape:\", X_test_tfidf.shape)"
   ],
   "metadata": {
    "collapsed": false,
    "ExecuteTime": {
     "end_time": "2024-05-21T21:21:37.893465Z",
     "start_time": "2024-05-21T21:21:37.519933Z"
    }
   }
  },
  {
   "cell_type": "code",
   "execution_count": 24,
   "outputs": [
    {
     "data": {
      "text/plain": "(matrix([[0., 0., 0., ..., 0., 0., 0.],\n         [0., 0., 0., ..., 0., 0., 0.],\n         [0., 0., 0., ..., 0., 0., 0.],\n         ...,\n         [0., 0., 0., ..., 0., 0., 0.],\n         [0., 0., 0., ..., 0., 0., 0.],\n         [0., 0., 0., ..., 0., 0., 0.]]),\n matrix([[0., 0., 0., ..., 0., 0., 0.],\n         [0., 0., 0., ..., 0., 0., 0.],\n         [0., 0., 0., ..., 0., 0., 0.],\n         ...,\n         [0., 0., 0., ..., 0., 0., 0.],\n         [0., 0., 0., ..., 0., 0., 0.],\n         [0., 0., 0., ..., 0., 0., 0.]]))"
     },
     "execution_count": 24,
     "metadata": {},
     "output_type": "execute_result"
    }
   ],
   "source": [
    "X_train_tfidf.todense(), X_test_tfidf.todense()"
   ],
   "metadata": {
    "collapsed": false,
    "ExecuteTime": {
     "end_time": "2024-05-21T21:26:58.441357Z",
     "start_time": "2024-05-21T21:26:56.864923Z"
    }
   }
  },
  {
   "cell_type": "markdown",
   "source": [
    "# Entraînement"
   ],
   "metadata": {
    "collapsed": false
   }
  },
  {
   "cell_type": "code",
   "execution_count": 65,
   "outputs": [],
   "source": [
    "fast_coeff = 10"
   ],
   "metadata": {
    "collapsed": false,
    "ExecuteTime": {
     "end_time": "2024-05-22T08:52:56.232476Z",
     "start_time": "2024-05-22T08:52:56.227413Z"
    }
   }
  },
  {
   "cell_type": "markdown",
   "source": [
    "## Gradient Boosting (ne fonctionne pas)"
   ],
   "metadata": {
    "collapsed": false
   }
  },
  {
   "cell_type": "code",
   "execution_count": 55,
   "outputs": [
    {
     "name": "stdout",
     "output_type": "stream",
     "text": [
      "Fitting 10 folds for each of 10 candidates, totalling 100 fits\n"
     ]
    },
    {
     "ename": "ValueError",
     "evalue": "\nAll the 100 fits failed.\nIt is very likely that your model is misconfigured.\nYou can try to debug the error by setting error_score='raise'.\n\nBelow are more details about the failures:\n--------------------------------------------------------------------------------\n10 fits failed with the following error:\nTraceback (most recent call last):\n  File \"/Library/Frameworks/Python.framework/Versions/3.12/lib/python3.12/site-packages/sklearn/model_selection/_validation.py\", line 895, in _fit_and_score\n    estimator.fit(X_train, y_train, **fit_params)\n  File \"/Library/Frameworks/Python.framework/Versions/3.12/lib/python3.12/site-packages/sklearn/base.py\", line 1467, in wrapper\n    estimator._validate_params()\n  File \"/Library/Frameworks/Python.framework/Versions/3.12/lib/python3.12/site-packages/sklearn/base.py\", line 666, in _validate_params\n    validate_parameter_constraints(\n  File \"/Library/Frameworks/Python.framework/Versions/3.12/lib/python3.12/site-packages/sklearn/utils/_param_validation.py\", line 95, in validate_parameter_constraints\n    raise InvalidParameterError(\nsklearn.utils._param_validation.InvalidParameterError: The 'n_estimators' parameter of GradientBoostingClassifier must be an int in the range [1, inf). Got 1.0 instead.\n\n--------------------------------------------------------------------------------\n10 fits failed with the following error:\nTraceback (most recent call last):\n  File \"/Library/Frameworks/Python.framework/Versions/3.12/lib/python3.12/site-packages/sklearn/model_selection/_validation.py\", line 895, in _fit_and_score\n    estimator.fit(X_train, y_train, **fit_params)\n  File \"/Library/Frameworks/Python.framework/Versions/3.12/lib/python3.12/site-packages/sklearn/base.py\", line 1467, in wrapper\n    estimator._validate_params()\n  File \"/Library/Frameworks/Python.framework/Versions/3.12/lib/python3.12/site-packages/sklearn/base.py\", line 666, in _validate_params\n    validate_parameter_constraints(\n  File \"/Library/Frameworks/Python.framework/Versions/3.12/lib/python3.12/site-packages/sklearn/utils/_param_validation.py\", line 95, in validate_parameter_constraints\n    raise InvalidParameterError(\nsklearn.utils._param_validation.InvalidParameterError: The 'n_estimators' parameter of GradientBoostingClassifier must be an int in the range [1, inf). Got 56.44444444444444 instead.\n\n--------------------------------------------------------------------------------\n10 fits failed with the following error:\nTraceback (most recent call last):\n  File \"/Library/Frameworks/Python.framework/Versions/3.12/lib/python3.12/site-packages/sklearn/model_selection/_validation.py\", line 895, in _fit_and_score\n    estimator.fit(X_train, y_train, **fit_params)\n  File \"/Library/Frameworks/Python.framework/Versions/3.12/lib/python3.12/site-packages/sklearn/base.py\", line 1467, in wrapper\n    estimator._validate_params()\n  File \"/Library/Frameworks/Python.framework/Versions/3.12/lib/python3.12/site-packages/sklearn/base.py\", line 666, in _validate_params\n    validate_parameter_constraints(\n  File \"/Library/Frameworks/Python.framework/Versions/3.12/lib/python3.12/site-packages/sklearn/utils/_param_validation.py\", line 95, in validate_parameter_constraints\n    raise InvalidParameterError(\nsklearn.utils._param_validation.InvalidParameterError: The 'n_estimators' parameter of GradientBoostingClassifier must be an int in the range [1, inf). Got 111.88888888888889 instead.\n\n--------------------------------------------------------------------------------\n10 fits failed with the following error:\nTraceback (most recent call last):\n  File \"/Library/Frameworks/Python.framework/Versions/3.12/lib/python3.12/site-packages/sklearn/model_selection/_validation.py\", line 895, in _fit_and_score\n    estimator.fit(X_train, y_train, **fit_params)\n  File \"/Library/Frameworks/Python.framework/Versions/3.12/lib/python3.12/site-packages/sklearn/base.py\", line 1467, in wrapper\n    estimator._validate_params()\n  File \"/Library/Frameworks/Python.framework/Versions/3.12/lib/python3.12/site-packages/sklearn/base.py\", line 666, in _validate_params\n    validate_parameter_constraints(\n  File \"/Library/Frameworks/Python.framework/Versions/3.12/lib/python3.12/site-packages/sklearn/utils/_param_validation.py\", line 95, in validate_parameter_constraints\n    raise InvalidParameterError(\nsklearn.utils._param_validation.InvalidParameterError: The 'n_estimators' parameter of GradientBoostingClassifier must be an int in the range [1, inf). Got 167.33333333333331 instead.\n\n--------------------------------------------------------------------------------\n10 fits failed with the following error:\nTraceback (most recent call last):\n  File \"/Library/Frameworks/Python.framework/Versions/3.12/lib/python3.12/site-packages/sklearn/model_selection/_validation.py\", line 895, in _fit_and_score\n    estimator.fit(X_train, y_train, **fit_params)\n  File \"/Library/Frameworks/Python.framework/Versions/3.12/lib/python3.12/site-packages/sklearn/base.py\", line 1467, in wrapper\n    estimator._validate_params()\n  File \"/Library/Frameworks/Python.framework/Versions/3.12/lib/python3.12/site-packages/sklearn/base.py\", line 666, in _validate_params\n    validate_parameter_constraints(\n  File \"/Library/Frameworks/Python.framework/Versions/3.12/lib/python3.12/site-packages/sklearn/utils/_param_validation.py\", line 95, in validate_parameter_constraints\n    raise InvalidParameterError(\nsklearn.utils._param_validation.InvalidParameterError: The 'n_estimators' parameter of GradientBoostingClassifier must be an int in the range [1, inf). Got 222.77777777777777 instead.\n\n--------------------------------------------------------------------------------\n10 fits failed with the following error:\nTraceback (most recent call last):\n  File \"/Library/Frameworks/Python.framework/Versions/3.12/lib/python3.12/site-packages/sklearn/model_selection/_validation.py\", line 895, in _fit_and_score\n    estimator.fit(X_train, y_train, **fit_params)\n  File \"/Library/Frameworks/Python.framework/Versions/3.12/lib/python3.12/site-packages/sklearn/base.py\", line 1467, in wrapper\n    estimator._validate_params()\n  File \"/Library/Frameworks/Python.framework/Versions/3.12/lib/python3.12/site-packages/sklearn/base.py\", line 666, in _validate_params\n    validate_parameter_constraints(\n  File \"/Library/Frameworks/Python.framework/Versions/3.12/lib/python3.12/site-packages/sklearn/utils/_param_validation.py\", line 95, in validate_parameter_constraints\n    raise InvalidParameterError(\nsklearn.utils._param_validation.InvalidParameterError: The 'n_estimators' parameter of GradientBoostingClassifier must be an int in the range [1, inf). Got 278.22222222222223 instead.\n\n--------------------------------------------------------------------------------\n10 fits failed with the following error:\nTraceback (most recent call last):\n  File \"/Library/Frameworks/Python.framework/Versions/3.12/lib/python3.12/site-packages/sklearn/model_selection/_validation.py\", line 895, in _fit_and_score\n    estimator.fit(X_train, y_train, **fit_params)\n  File \"/Library/Frameworks/Python.framework/Versions/3.12/lib/python3.12/site-packages/sklearn/base.py\", line 1467, in wrapper\n    estimator._validate_params()\n  File \"/Library/Frameworks/Python.framework/Versions/3.12/lib/python3.12/site-packages/sklearn/base.py\", line 666, in _validate_params\n    validate_parameter_constraints(\n  File \"/Library/Frameworks/Python.framework/Versions/3.12/lib/python3.12/site-packages/sklearn/utils/_param_validation.py\", line 95, in validate_parameter_constraints\n    raise InvalidParameterError(\nsklearn.utils._param_validation.InvalidParameterError: The 'n_estimators' parameter of GradientBoostingClassifier must be an int in the range [1, inf). Got 333.66666666666663 instead.\n\n--------------------------------------------------------------------------------\n10 fits failed with the following error:\nTraceback (most recent call last):\n  File \"/Library/Frameworks/Python.framework/Versions/3.12/lib/python3.12/site-packages/sklearn/model_selection/_validation.py\", line 895, in _fit_and_score\n    estimator.fit(X_train, y_train, **fit_params)\n  File \"/Library/Frameworks/Python.framework/Versions/3.12/lib/python3.12/site-packages/sklearn/base.py\", line 1467, in wrapper\n    estimator._validate_params()\n  File \"/Library/Frameworks/Python.framework/Versions/3.12/lib/python3.12/site-packages/sklearn/base.py\", line 666, in _validate_params\n    validate_parameter_constraints(\n  File \"/Library/Frameworks/Python.framework/Versions/3.12/lib/python3.12/site-packages/sklearn/utils/_param_validation.py\", line 95, in validate_parameter_constraints\n    raise InvalidParameterError(\nsklearn.utils._param_validation.InvalidParameterError: The 'n_estimators' parameter of GradientBoostingClassifier must be an int in the range [1, inf). Got 389.1111111111111 instead.\n\n--------------------------------------------------------------------------------\n10 fits failed with the following error:\nTraceback (most recent call last):\n  File \"/Library/Frameworks/Python.framework/Versions/3.12/lib/python3.12/site-packages/sklearn/model_selection/_validation.py\", line 895, in _fit_and_score\n    estimator.fit(X_train, y_train, **fit_params)\n  File \"/Library/Frameworks/Python.framework/Versions/3.12/lib/python3.12/site-packages/sklearn/base.py\", line 1467, in wrapper\n    estimator._validate_params()\n  File \"/Library/Frameworks/Python.framework/Versions/3.12/lib/python3.12/site-packages/sklearn/base.py\", line 666, in _validate_params\n    validate_parameter_constraints(\n  File \"/Library/Frameworks/Python.framework/Versions/3.12/lib/python3.12/site-packages/sklearn/utils/_param_validation.py\", line 95, in validate_parameter_constraints\n    raise InvalidParameterError(\nsklearn.utils._param_validation.InvalidParameterError: The 'n_estimators' parameter of GradientBoostingClassifier must be an int in the range [1, inf). Got 444.55555555555554 instead.\n\n--------------------------------------------------------------------------------\n10 fits failed with the following error:\nTraceback (most recent call last):\n  File \"/Library/Frameworks/Python.framework/Versions/3.12/lib/python3.12/site-packages/sklearn/model_selection/_validation.py\", line 895, in _fit_and_score\n    estimator.fit(X_train, y_train, **fit_params)\n  File \"/Library/Frameworks/Python.framework/Versions/3.12/lib/python3.12/site-packages/sklearn/base.py\", line 1467, in wrapper\n    estimator._validate_params()\n  File \"/Library/Frameworks/Python.framework/Versions/3.12/lib/python3.12/site-packages/sklearn/base.py\", line 666, in _validate_params\n    validate_parameter_constraints(\n  File \"/Library/Frameworks/Python.framework/Versions/3.12/lib/python3.12/site-packages/sklearn/utils/_param_validation.py\", line 95, in validate_parameter_constraints\n    raise InvalidParameterError(\nsklearn.utils._param_validation.InvalidParameterError: The 'n_estimators' parameter of GradientBoostingClassifier must be an int in the range [1, inf). Got 500.0 instead.\n",
     "output_type": "error",
     "traceback": [
      "\u001B[0;31m---------------------------------------------------------------------------\u001B[0m",
      "\u001B[0;31mValueError\u001B[0m                                Traceback (most recent call last)",
      "Cell \u001B[0;32mIn[55], line 16\u001B[0m\n\u001B[1;32m      6\u001B[0m gb \u001B[38;5;241m=\u001B[39m GradientBoostingClassifier()\n\u001B[1;32m      8\u001B[0m gb_grid \u001B[38;5;241m=\u001B[39m GridSearchCV(\n\u001B[1;32m      9\u001B[0m     estimator\u001B[38;5;241m=\u001B[39mgb,\n\u001B[1;32m     10\u001B[0m     param_grid\u001B[38;5;241m=\u001B[39mparams,\n\u001B[0;32m   (...)\u001B[0m\n\u001B[1;32m     13\u001B[0m     verbose\u001B[38;5;241m=\u001B[39m\u001B[38;5;241m10\u001B[39m\n\u001B[1;32m     14\u001B[0m )\n\u001B[0;32m---> 16\u001B[0m \u001B[43mgb_grid\u001B[49m\u001B[38;5;241;43m.\u001B[39;49m\u001B[43mfit\u001B[49m\u001B[43m(\u001B[49m\n\u001B[1;32m     17\u001B[0m \u001B[43m    \u001B[49m\u001B[43mX_train_tfidf\u001B[49m\u001B[43m,\u001B[49m\n\u001B[1;32m     18\u001B[0m \u001B[43m    \u001B[49m\u001B[43mY_train\u001B[49m\n\u001B[1;32m     19\u001B[0m \u001B[43m)\u001B[49m\n\u001B[1;32m     21\u001B[0m Y_pred_gb \u001B[38;5;241m=\u001B[39m gb_grid\u001B[38;5;241m.\u001B[39mpredict(X_test_tfidf)\n\u001B[1;32m     22\u001B[0m \u001B[38;5;28mprint\u001B[39m(\n\u001B[1;32m     23\u001B[0m     \u001B[38;5;124m\"\u001B[39m\u001B[38;5;124mAccuracy score:\u001B[39m\u001B[38;5;124m\"\u001B[39m,\n\u001B[1;32m     24\u001B[0m     accuracy_score(\n\u001B[0;32m   (...)\u001B[0m\n\u001B[1;32m     27\u001B[0m     )\n\u001B[1;32m     28\u001B[0m )\n",
      "File \u001B[0;32m/Library/Frameworks/Python.framework/Versions/3.12/lib/python3.12/site-packages/sklearn/base.py:1474\u001B[0m, in \u001B[0;36m_fit_context.<locals>.decorator.<locals>.wrapper\u001B[0;34m(estimator, *args, **kwargs)\u001B[0m\n\u001B[1;32m   1467\u001B[0m     estimator\u001B[38;5;241m.\u001B[39m_validate_params()\n\u001B[1;32m   1469\u001B[0m \u001B[38;5;28;01mwith\u001B[39;00m config_context(\n\u001B[1;32m   1470\u001B[0m     skip_parameter_validation\u001B[38;5;241m=\u001B[39m(\n\u001B[1;32m   1471\u001B[0m         prefer_skip_nested_validation \u001B[38;5;129;01mor\u001B[39;00m global_skip_validation\n\u001B[1;32m   1472\u001B[0m     )\n\u001B[1;32m   1473\u001B[0m ):\n\u001B[0;32m-> 1474\u001B[0m     \u001B[38;5;28;01mreturn\u001B[39;00m \u001B[43mfit_method\u001B[49m\u001B[43m(\u001B[49m\u001B[43mestimator\u001B[49m\u001B[43m,\u001B[49m\u001B[43m \u001B[49m\u001B[38;5;241;43m*\u001B[39;49m\u001B[43margs\u001B[49m\u001B[43m,\u001B[49m\u001B[43m \u001B[49m\u001B[38;5;241;43m*\u001B[39;49m\u001B[38;5;241;43m*\u001B[39;49m\u001B[43mkwargs\u001B[49m\u001B[43m)\u001B[49m\n",
      "File \u001B[0;32m/Library/Frameworks/Python.framework/Versions/3.12/lib/python3.12/site-packages/sklearn/model_selection/_search.py:970\u001B[0m, in \u001B[0;36mBaseSearchCV.fit\u001B[0;34m(self, X, y, **params)\u001B[0m\n\u001B[1;32m    964\u001B[0m     results \u001B[38;5;241m=\u001B[39m \u001B[38;5;28mself\u001B[39m\u001B[38;5;241m.\u001B[39m_format_results(\n\u001B[1;32m    965\u001B[0m         all_candidate_params, n_splits, all_out, all_more_results\n\u001B[1;32m    966\u001B[0m     )\n\u001B[1;32m    968\u001B[0m     \u001B[38;5;28;01mreturn\u001B[39;00m results\n\u001B[0;32m--> 970\u001B[0m \u001B[38;5;28;43mself\u001B[39;49m\u001B[38;5;241;43m.\u001B[39;49m\u001B[43m_run_search\u001B[49m\u001B[43m(\u001B[49m\u001B[43mevaluate_candidates\u001B[49m\u001B[43m)\u001B[49m\n\u001B[1;32m    972\u001B[0m \u001B[38;5;66;03m# multimetric is determined here because in the case of a callable\u001B[39;00m\n\u001B[1;32m    973\u001B[0m \u001B[38;5;66;03m# self.scoring the return type is only known after calling\u001B[39;00m\n\u001B[1;32m    974\u001B[0m first_test_score \u001B[38;5;241m=\u001B[39m all_out[\u001B[38;5;241m0\u001B[39m][\u001B[38;5;124m\"\u001B[39m\u001B[38;5;124mtest_scores\u001B[39m\u001B[38;5;124m\"\u001B[39m]\n",
      "File \u001B[0;32m/Library/Frameworks/Python.framework/Versions/3.12/lib/python3.12/site-packages/sklearn/model_selection/_search.py:1527\u001B[0m, in \u001B[0;36mGridSearchCV._run_search\u001B[0;34m(self, evaluate_candidates)\u001B[0m\n\u001B[1;32m   1525\u001B[0m \u001B[38;5;28;01mdef\u001B[39;00m \u001B[38;5;21m_run_search\u001B[39m(\u001B[38;5;28mself\u001B[39m, evaluate_candidates):\n\u001B[1;32m   1526\u001B[0m \u001B[38;5;250m    \u001B[39m\u001B[38;5;124;03m\"\"\"Search all candidates in param_grid\"\"\"\u001B[39;00m\n\u001B[0;32m-> 1527\u001B[0m     \u001B[43mevaluate_candidates\u001B[49m\u001B[43m(\u001B[49m\u001B[43mParameterGrid\u001B[49m\u001B[43m(\u001B[49m\u001B[38;5;28;43mself\u001B[39;49m\u001B[38;5;241;43m.\u001B[39;49m\u001B[43mparam_grid\u001B[49m\u001B[43m)\u001B[49m\u001B[43m)\u001B[49m\n",
      "File \u001B[0;32m/Library/Frameworks/Python.framework/Versions/3.12/lib/python3.12/site-packages/sklearn/model_selection/_search.py:947\u001B[0m, in \u001B[0;36mBaseSearchCV.fit.<locals>.evaluate_candidates\u001B[0;34m(candidate_params, cv, more_results)\u001B[0m\n\u001B[1;32m    940\u001B[0m \u001B[38;5;28;01melif\u001B[39;00m \u001B[38;5;28mlen\u001B[39m(out) \u001B[38;5;241m!=\u001B[39m n_candidates \u001B[38;5;241m*\u001B[39m n_splits:\n\u001B[1;32m    941\u001B[0m     \u001B[38;5;28;01mraise\u001B[39;00m \u001B[38;5;167;01mValueError\u001B[39;00m(\n\u001B[1;32m    942\u001B[0m         \u001B[38;5;124m\"\u001B[39m\u001B[38;5;124mcv.split and cv.get_n_splits returned \u001B[39m\u001B[38;5;124m\"\u001B[39m\n\u001B[1;32m    943\u001B[0m         \u001B[38;5;124m\"\u001B[39m\u001B[38;5;124minconsistent results. Expected \u001B[39m\u001B[38;5;132;01m{}\u001B[39;00m\u001B[38;5;124m \u001B[39m\u001B[38;5;124m\"\u001B[39m\n\u001B[1;32m    944\u001B[0m         \u001B[38;5;124m\"\u001B[39m\u001B[38;5;124msplits, got \u001B[39m\u001B[38;5;132;01m{}\u001B[39;00m\u001B[38;5;124m\"\u001B[39m\u001B[38;5;241m.\u001B[39mformat(n_splits, \u001B[38;5;28mlen\u001B[39m(out) \u001B[38;5;241m/\u001B[39m\u001B[38;5;241m/\u001B[39m n_candidates)\n\u001B[1;32m    945\u001B[0m     )\n\u001B[0;32m--> 947\u001B[0m \u001B[43m_warn_or_raise_about_fit_failures\u001B[49m\u001B[43m(\u001B[49m\u001B[43mout\u001B[49m\u001B[43m,\u001B[49m\u001B[43m \u001B[49m\u001B[38;5;28;43mself\u001B[39;49m\u001B[38;5;241;43m.\u001B[39;49m\u001B[43merror_score\u001B[49m\u001B[43m)\u001B[49m\n\u001B[1;32m    949\u001B[0m \u001B[38;5;66;03m# For callable self.scoring, the return type is only know after\u001B[39;00m\n\u001B[1;32m    950\u001B[0m \u001B[38;5;66;03m# calling. If the return type is a dictionary, the error scores\u001B[39;00m\n\u001B[1;32m    951\u001B[0m \u001B[38;5;66;03m# can now be inserted with the correct key. The type checking\u001B[39;00m\n\u001B[1;32m    952\u001B[0m \u001B[38;5;66;03m# of out will be done in `_insert_error_scores`.\u001B[39;00m\n\u001B[1;32m    953\u001B[0m \u001B[38;5;28;01mif\u001B[39;00m \u001B[38;5;28mcallable\u001B[39m(\u001B[38;5;28mself\u001B[39m\u001B[38;5;241m.\u001B[39mscoring):\n",
      "File \u001B[0;32m/Library/Frameworks/Python.framework/Versions/3.12/lib/python3.12/site-packages/sklearn/model_selection/_validation.py:536\u001B[0m, in \u001B[0;36m_warn_or_raise_about_fit_failures\u001B[0;34m(results, error_score)\u001B[0m\n\u001B[1;32m    529\u001B[0m \u001B[38;5;28;01mif\u001B[39;00m num_failed_fits \u001B[38;5;241m==\u001B[39m num_fits:\n\u001B[1;32m    530\u001B[0m     all_fits_failed_message \u001B[38;5;241m=\u001B[39m (\n\u001B[1;32m    531\u001B[0m         \u001B[38;5;124mf\u001B[39m\u001B[38;5;124m\"\u001B[39m\u001B[38;5;130;01m\\n\u001B[39;00m\u001B[38;5;124mAll the \u001B[39m\u001B[38;5;132;01m{\u001B[39;00mnum_fits\u001B[38;5;132;01m}\u001B[39;00m\u001B[38;5;124m fits failed.\u001B[39m\u001B[38;5;130;01m\\n\u001B[39;00m\u001B[38;5;124m\"\u001B[39m\n\u001B[1;32m    532\u001B[0m         \u001B[38;5;124m\"\u001B[39m\u001B[38;5;124mIt is very likely that your model is misconfigured.\u001B[39m\u001B[38;5;130;01m\\n\u001B[39;00m\u001B[38;5;124m\"\u001B[39m\n\u001B[1;32m    533\u001B[0m         \u001B[38;5;124m\"\u001B[39m\u001B[38;5;124mYou can try to debug the error by setting error_score=\u001B[39m\u001B[38;5;124m'\u001B[39m\u001B[38;5;124mraise\u001B[39m\u001B[38;5;124m'\u001B[39m\u001B[38;5;124m.\u001B[39m\u001B[38;5;130;01m\\n\u001B[39;00m\u001B[38;5;130;01m\\n\u001B[39;00m\u001B[38;5;124m\"\u001B[39m\n\u001B[1;32m    534\u001B[0m         \u001B[38;5;124mf\u001B[39m\u001B[38;5;124m\"\u001B[39m\u001B[38;5;124mBelow are more details about the failures:\u001B[39m\u001B[38;5;130;01m\\n\u001B[39;00m\u001B[38;5;132;01m{\u001B[39;00mfit_errors_summary\u001B[38;5;132;01m}\u001B[39;00m\u001B[38;5;124m\"\u001B[39m\n\u001B[1;32m    535\u001B[0m     )\n\u001B[0;32m--> 536\u001B[0m     \u001B[38;5;28;01mraise\u001B[39;00m \u001B[38;5;167;01mValueError\u001B[39;00m(all_fits_failed_message)\n\u001B[1;32m    538\u001B[0m \u001B[38;5;28;01melse\u001B[39;00m:\n\u001B[1;32m    539\u001B[0m     some_fits_failed_message \u001B[38;5;241m=\u001B[39m (\n\u001B[1;32m    540\u001B[0m         \u001B[38;5;124mf\u001B[39m\u001B[38;5;124m\"\u001B[39m\u001B[38;5;130;01m\\n\u001B[39;00m\u001B[38;5;132;01m{\u001B[39;00mnum_failed_fits\u001B[38;5;132;01m}\u001B[39;00m\u001B[38;5;124m fits failed out of a total of \u001B[39m\u001B[38;5;132;01m{\u001B[39;00mnum_fits\u001B[38;5;132;01m}\u001B[39;00m\u001B[38;5;124m.\u001B[39m\u001B[38;5;130;01m\\n\u001B[39;00m\u001B[38;5;124m\"\u001B[39m\n\u001B[1;32m    541\u001B[0m         \u001B[38;5;124m\"\u001B[39m\u001B[38;5;124mThe score on these train-test partitions for these parameters\u001B[39m\u001B[38;5;124m\"\u001B[39m\n\u001B[0;32m   (...)\u001B[0m\n\u001B[1;32m    545\u001B[0m         \u001B[38;5;124mf\u001B[39m\u001B[38;5;124m\"\u001B[39m\u001B[38;5;124mBelow are more details about the failures:\u001B[39m\u001B[38;5;130;01m\\n\u001B[39;00m\u001B[38;5;132;01m{\u001B[39;00mfit_errors_summary\u001B[38;5;132;01m}\u001B[39;00m\u001B[38;5;124m\"\u001B[39m\n\u001B[1;32m    546\u001B[0m     )\n",
      "\u001B[0;31mValueError\u001B[0m: \nAll the 100 fits failed.\nIt is very likely that your model is misconfigured.\nYou can try to debug the error by setting error_score='raise'.\n\nBelow are more details about the failures:\n--------------------------------------------------------------------------------\n10 fits failed with the following error:\nTraceback (most recent call last):\n  File \"/Library/Frameworks/Python.framework/Versions/3.12/lib/python3.12/site-packages/sklearn/model_selection/_validation.py\", line 895, in _fit_and_score\n    estimator.fit(X_train, y_train, **fit_params)\n  File \"/Library/Frameworks/Python.framework/Versions/3.12/lib/python3.12/site-packages/sklearn/base.py\", line 1467, in wrapper\n    estimator._validate_params()\n  File \"/Library/Frameworks/Python.framework/Versions/3.12/lib/python3.12/site-packages/sklearn/base.py\", line 666, in _validate_params\n    validate_parameter_constraints(\n  File \"/Library/Frameworks/Python.framework/Versions/3.12/lib/python3.12/site-packages/sklearn/utils/_param_validation.py\", line 95, in validate_parameter_constraints\n    raise InvalidParameterError(\nsklearn.utils._param_validation.InvalidParameterError: The 'n_estimators' parameter of GradientBoostingClassifier must be an int in the range [1, inf). Got 1.0 instead.\n\n--------------------------------------------------------------------------------\n10 fits failed with the following error:\nTraceback (most recent call last):\n  File \"/Library/Frameworks/Python.framework/Versions/3.12/lib/python3.12/site-packages/sklearn/model_selection/_validation.py\", line 895, in _fit_and_score\n    estimator.fit(X_train, y_train, **fit_params)\n  File \"/Library/Frameworks/Python.framework/Versions/3.12/lib/python3.12/site-packages/sklearn/base.py\", line 1467, in wrapper\n    estimator._validate_params()\n  File \"/Library/Frameworks/Python.framework/Versions/3.12/lib/python3.12/site-packages/sklearn/base.py\", line 666, in _validate_params\n    validate_parameter_constraints(\n  File \"/Library/Frameworks/Python.framework/Versions/3.12/lib/python3.12/site-packages/sklearn/utils/_param_validation.py\", line 95, in validate_parameter_constraints\n    raise InvalidParameterError(\nsklearn.utils._param_validation.InvalidParameterError: The 'n_estimators' parameter of GradientBoostingClassifier must be an int in the range [1, inf). Got 56.44444444444444 instead.\n\n--------------------------------------------------------------------------------\n10 fits failed with the following error:\nTraceback (most recent call last):\n  File \"/Library/Frameworks/Python.framework/Versions/3.12/lib/python3.12/site-packages/sklearn/model_selection/_validation.py\", line 895, in _fit_and_score\n    estimator.fit(X_train, y_train, **fit_params)\n  File \"/Library/Frameworks/Python.framework/Versions/3.12/lib/python3.12/site-packages/sklearn/base.py\", line 1467, in wrapper\n    estimator._validate_params()\n  File \"/Library/Frameworks/Python.framework/Versions/3.12/lib/python3.12/site-packages/sklearn/base.py\", line 666, in _validate_params\n    validate_parameter_constraints(\n  File \"/Library/Frameworks/Python.framework/Versions/3.12/lib/python3.12/site-packages/sklearn/utils/_param_validation.py\", line 95, in validate_parameter_constraints\n    raise InvalidParameterError(\nsklearn.utils._param_validation.InvalidParameterError: The 'n_estimators' parameter of GradientBoostingClassifier must be an int in the range [1, inf). Got 111.88888888888889 instead.\n\n--------------------------------------------------------------------------------\n10 fits failed with the following error:\nTraceback (most recent call last):\n  File \"/Library/Frameworks/Python.framework/Versions/3.12/lib/python3.12/site-packages/sklearn/model_selection/_validation.py\", line 895, in _fit_and_score\n    estimator.fit(X_train, y_train, **fit_params)\n  File \"/Library/Frameworks/Python.framework/Versions/3.12/lib/python3.12/site-packages/sklearn/base.py\", line 1467, in wrapper\n    estimator._validate_params()\n  File \"/Library/Frameworks/Python.framework/Versions/3.12/lib/python3.12/site-packages/sklearn/base.py\", line 666, in _validate_params\n    validate_parameter_constraints(\n  File \"/Library/Frameworks/Python.framework/Versions/3.12/lib/python3.12/site-packages/sklearn/utils/_param_validation.py\", line 95, in validate_parameter_constraints\n    raise InvalidParameterError(\nsklearn.utils._param_validation.InvalidParameterError: The 'n_estimators' parameter of GradientBoostingClassifier must be an int in the range [1, inf). Got 167.33333333333331 instead.\n\n--------------------------------------------------------------------------------\n10 fits failed with the following error:\nTraceback (most recent call last):\n  File \"/Library/Frameworks/Python.framework/Versions/3.12/lib/python3.12/site-packages/sklearn/model_selection/_validation.py\", line 895, in _fit_and_score\n    estimator.fit(X_train, y_train, **fit_params)\n  File \"/Library/Frameworks/Python.framework/Versions/3.12/lib/python3.12/site-packages/sklearn/base.py\", line 1467, in wrapper\n    estimator._validate_params()\n  File \"/Library/Frameworks/Python.framework/Versions/3.12/lib/python3.12/site-packages/sklearn/base.py\", line 666, in _validate_params\n    validate_parameter_constraints(\n  File \"/Library/Frameworks/Python.framework/Versions/3.12/lib/python3.12/site-packages/sklearn/utils/_param_validation.py\", line 95, in validate_parameter_constraints\n    raise InvalidParameterError(\nsklearn.utils._param_validation.InvalidParameterError: The 'n_estimators' parameter of GradientBoostingClassifier must be an int in the range [1, inf). Got 222.77777777777777 instead.\n\n--------------------------------------------------------------------------------\n10 fits failed with the following error:\nTraceback (most recent call last):\n  File \"/Library/Frameworks/Python.framework/Versions/3.12/lib/python3.12/site-packages/sklearn/model_selection/_validation.py\", line 895, in _fit_and_score\n    estimator.fit(X_train, y_train, **fit_params)\n  File \"/Library/Frameworks/Python.framework/Versions/3.12/lib/python3.12/site-packages/sklearn/base.py\", line 1467, in wrapper\n    estimator._validate_params()\n  File \"/Library/Frameworks/Python.framework/Versions/3.12/lib/python3.12/site-packages/sklearn/base.py\", line 666, in _validate_params\n    validate_parameter_constraints(\n  File \"/Library/Frameworks/Python.framework/Versions/3.12/lib/python3.12/site-packages/sklearn/utils/_param_validation.py\", line 95, in validate_parameter_constraints\n    raise InvalidParameterError(\nsklearn.utils._param_validation.InvalidParameterError: The 'n_estimators' parameter of GradientBoostingClassifier must be an int in the range [1, inf). Got 278.22222222222223 instead.\n\n--------------------------------------------------------------------------------\n10 fits failed with the following error:\nTraceback (most recent call last):\n  File \"/Library/Frameworks/Python.framework/Versions/3.12/lib/python3.12/site-packages/sklearn/model_selection/_validation.py\", line 895, in _fit_and_score\n    estimator.fit(X_train, y_train, **fit_params)\n  File \"/Library/Frameworks/Python.framework/Versions/3.12/lib/python3.12/site-packages/sklearn/base.py\", line 1467, in wrapper\n    estimator._validate_params()\n  File \"/Library/Frameworks/Python.framework/Versions/3.12/lib/python3.12/site-packages/sklearn/base.py\", line 666, in _validate_params\n    validate_parameter_constraints(\n  File \"/Library/Frameworks/Python.framework/Versions/3.12/lib/python3.12/site-packages/sklearn/utils/_param_validation.py\", line 95, in validate_parameter_constraints\n    raise InvalidParameterError(\nsklearn.utils._param_validation.InvalidParameterError: The 'n_estimators' parameter of GradientBoostingClassifier must be an int in the range [1, inf). Got 333.66666666666663 instead.\n\n--------------------------------------------------------------------------------\n10 fits failed with the following error:\nTraceback (most recent call last):\n  File \"/Library/Frameworks/Python.framework/Versions/3.12/lib/python3.12/site-packages/sklearn/model_selection/_validation.py\", line 895, in _fit_and_score\n    estimator.fit(X_train, y_train, **fit_params)\n  File \"/Library/Frameworks/Python.framework/Versions/3.12/lib/python3.12/site-packages/sklearn/base.py\", line 1467, in wrapper\n    estimator._validate_params()\n  File \"/Library/Frameworks/Python.framework/Versions/3.12/lib/python3.12/site-packages/sklearn/base.py\", line 666, in _validate_params\n    validate_parameter_constraints(\n  File \"/Library/Frameworks/Python.framework/Versions/3.12/lib/python3.12/site-packages/sklearn/utils/_param_validation.py\", line 95, in validate_parameter_constraints\n    raise InvalidParameterError(\nsklearn.utils._param_validation.InvalidParameterError: The 'n_estimators' parameter of GradientBoostingClassifier must be an int in the range [1, inf). Got 389.1111111111111 instead.\n\n--------------------------------------------------------------------------------\n10 fits failed with the following error:\nTraceback (most recent call last):\n  File \"/Library/Frameworks/Python.framework/Versions/3.12/lib/python3.12/site-packages/sklearn/model_selection/_validation.py\", line 895, in _fit_and_score\n    estimator.fit(X_train, y_train, **fit_params)\n  File \"/Library/Frameworks/Python.framework/Versions/3.12/lib/python3.12/site-packages/sklearn/base.py\", line 1467, in wrapper\n    estimator._validate_params()\n  File \"/Library/Frameworks/Python.framework/Versions/3.12/lib/python3.12/site-packages/sklearn/base.py\", line 666, in _validate_params\n    validate_parameter_constraints(\n  File \"/Library/Frameworks/Python.framework/Versions/3.12/lib/python3.12/site-packages/sklearn/utils/_param_validation.py\", line 95, in validate_parameter_constraints\n    raise InvalidParameterError(\nsklearn.utils._param_validation.InvalidParameterError: The 'n_estimators' parameter of GradientBoostingClassifier must be an int in the range [1, inf). Got 444.55555555555554 instead.\n\n--------------------------------------------------------------------------------\n10 fits failed with the following error:\nTraceback (most recent call last):\n  File \"/Library/Frameworks/Python.framework/Versions/3.12/lib/python3.12/site-packages/sklearn/model_selection/_validation.py\", line 895, in _fit_and_score\n    estimator.fit(X_train, y_train, **fit_params)\n  File \"/Library/Frameworks/Python.framework/Versions/3.12/lib/python3.12/site-packages/sklearn/base.py\", line 1467, in wrapper\n    estimator._validate_params()\n  File \"/Library/Frameworks/Python.framework/Versions/3.12/lib/python3.12/site-packages/sklearn/base.py\", line 666, in _validate_params\n    validate_parameter_constraints(\n  File \"/Library/Frameworks/Python.framework/Versions/3.12/lib/python3.12/site-packages/sklearn/utils/_param_validation.py\", line 95, in validate_parameter_constraints\n    raise InvalidParameterError(\nsklearn.utils._param_validation.InvalidParameterError: The 'n_estimators' parameter of GradientBoostingClassifier must be an int in the range [1, inf). Got 500.0 instead.\n"
     ]
    }
   ],
   "source": [
    "params = {\n",
    "    'n_estimators': [100, 150, 200, 250, 300],\n",
    "    'learning_rate': [0.02, 0.03, 0.04, 0.05, 0.1]\n",
    "}\n",
    "\n",
    "gb = GradientBoostingClassifier()\n",
    "\n",
    "gb_grid = GridSearchCV(\n",
    "    estimator=gb,\n",
    "    param_grid=params,\n",
    "    scoring='accuracy',\n",
    "    cv=10, n_jobs=-1,\n",
    "    verbose=10\n",
    ")\n",
    "\n",
    "gb_grid.fit(\n",
    "    X_train_tfidf,\n",
    "    Y_train\n",
    ")\n",
    "\n",
    "Y_pred_gb = gb_grid.predict(X_test_tfidf)\n",
    "print(\n",
    "    \"Accuracy score:\",\n",
    "    accuracy_score(\n",
    "        Y_test,\n",
    "        Y_pred_gb\n",
    "    )\n",
    ")"
   ],
   "metadata": {
    "collapsed": false,
    "ExecuteTime": {
     "end_time": "2024-05-22T08:46:52.806418Z",
     "start_time": "2024-05-22T08:46:51.111696Z"
    }
   }
  },
  {
   "cell_type": "markdown",
   "source": [
    "# SVM"
   ],
   "metadata": {
    "collapsed": false
   }
  },
  {
   "cell_type": "markdown",
   "source": [
    "13min"
   ],
   "metadata": {
    "collapsed": false
   }
  },
  {
   "cell_type": "code",
   "execution_count": 40,
   "outputs": [],
   "source": [
    "svm = SVC()\n",
    "\n",
    "svm.fit(\n",
    "    X_train_tfidf,\n",
    "    Y_train\n",
    ")\n",
    "\n",
    "Y_pred_svm = svm.predict(X_test_tfidf)"
   ],
   "metadata": {
    "collapsed": false,
    "ExecuteTime": {
     "end_time": "2024-05-21T22:05:07.957915Z",
     "start_time": "2024-05-21T21:51:32.632621Z"
    }
   }
  },
  {
   "cell_type": "code",
   "execution_count": 66,
   "outputs": [
    {
     "name": "stdout",
     "output_type": "stream",
     "text": [
      "Fitting 5 folds for each of 32 candidates, totalling 160 fits\n",
      "[CV] END .........................C=0.1, gamma=1, kernel=rbf; total time=   4.3s\n",
      "[CV] END .........................C=0.1, gamma=1, kernel=rbf; total time=   4.2s\n",
      "[CV] END .........................C=0.1, gamma=1, kernel=rbf; total time=   4.2s\n",
      "[CV] END .........................C=0.1, gamma=1, kernel=rbf; total time=   4.3s\n",
      "[CV] END .........................C=0.1, gamma=1, kernel=rbf; total time=   4.3s\n",
      "[CV] END ......................C=0.1, gamma=1, kernel=linear; total time=   3.9s\n",
      "[CV] END ......................C=0.1, gamma=1, kernel=linear; total time=   3.9s\n",
      "[CV] END ......................C=0.1, gamma=1, kernel=linear; total time=   3.9s\n",
      "[CV] END ......................C=0.1, gamma=1, kernel=linear; total time=   3.9s\n",
      "[CV] END ......................C=0.1, gamma=1, kernel=linear; total time=   4.0s\n",
      "[CV] END .......................C=0.1, gamma=0.1, kernel=rbf; total time=   4.0s\n",
      "[CV] END .......................C=0.1, gamma=0.1, kernel=rbf; total time=   4.1s\n",
      "[CV] END .......................C=0.1, gamma=0.1, kernel=rbf; total time=   4.0s\n",
      "[CV] END .......................C=0.1, gamma=0.1, kernel=rbf; total time=   4.1s\n",
      "[CV] END .......................C=0.1, gamma=0.1, kernel=rbf; total time=   4.0s\n",
      "[CV] END ....................C=0.1, gamma=0.1, kernel=linear; total time=   3.9s\n",
      "[CV] END ....................C=0.1, gamma=0.1, kernel=linear; total time=   3.9s\n",
      "[CV] END ....................C=0.1, gamma=0.1, kernel=linear; total time=   3.9s\n",
      "[CV] END ....................C=0.1, gamma=0.1, kernel=linear; total time=   3.9s\n",
      "[CV] END ....................C=0.1, gamma=0.1, kernel=linear; total time=   3.9s\n",
      "[CV] END ......................C=0.1, gamma=0.01, kernel=rbf; total time=   3.5s\n",
      "[CV] END ......................C=0.1, gamma=0.01, kernel=rbf; total time=   3.5s\n",
      "[CV] END ......................C=0.1, gamma=0.01, kernel=rbf; total time=   3.5s\n",
      "[CV] END ......................C=0.1, gamma=0.01, kernel=rbf; total time=   3.5s\n",
      "[CV] END ......................C=0.1, gamma=0.01, kernel=rbf; total time=   3.5s\n",
      "[CV] END ...................C=0.1, gamma=0.01, kernel=linear; total time=   3.9s\n",
      "[CV] END ...................C=0.1, gamma=0.01, kernel=linear; total time=   3.9s\n",
      "[CV] END ...................C=0.1, gamma=0.01, kernel=linear; total time=   3.9s\n",
      "[CV] END ...................C=0.1, gamma=0.01, kernel=linear; total time=   3.9s\n",
      "[CV] END ...................C=0.1, gamma=0.01, kernel=linear; total time=   3.9s\n",
      "[CV] END .....................C=0.1, gamma=0.001, kernel=rbf; total time=   2.9s\n",
      "[CV] END .....................C=0.1, gamma=0.001, kernel=rbf; total time=   2.9s\n",
      "[CV] END .....................C=0.1, gamma=0.001, kernel=rbf; total time=   2.9s\n",
      "[CV] END .....................C=0.1, gamma=0.001, kernel=rbf; total time=   2.9s\n",
      "[CV] END .....................C=0.1, gamma=0.001, kernel=rbf; total time=   2.9s\n",
      "[CV] END ..................C=0.1, gamma=0.001, kernel=linear; total time=   3.9s\n",
      "[CV] END ..................C=0.1, gamma=0.001, kernel=linear; total time=   4.0s\n",
      "[CV] END ..................C=0.1, gamma=0.001, kernel=linear; total time=   3.9s\n",
      "[CV] END ..................C=0.1, gamma=0.001, kernel=linear; total time=   3.9s\n",
      "[CV] END ..................C=0.1, gamma=0.001, kernel=linear; total time=   3.9s\n",
      "[CV] END ...........................C=1, gamma=1, kernel=rbf; total time=   4.3s\n",
      "[CV] END ...........................C=1, gamma=1, kernel=rbf; total time=   4.3s\n",
      "[CV] END ...........................C=1, gamma=1, kernel=rbf; total time=   4.3s\n",
      "[CV] END ...........................C=1, gamma=1, kernel=rbf; total time=   4.3s\n",
      "[CV] END ...........................C=1, gamma=1, kernel=rbf; total time=   4.3s\n",
      "[CV] END ........................C=1, gamma=1, kernel=linear; total time=   4.0s\n",
      "[CV] END ........................C=1, gamma=1, kernel=linear; total time=   4.0s\n",
      "[CV] END ........................C=1, gamma=1, kernel=linear; total time=   4.0s\n",
      "[CV] END ........................C=1, gamma=1, kernel=linear; total time=   4.0s\n",
      "[CV] END ........................C=1, gamma=1, kernel=linear; total time=   4.1s\n",
      "[CV] END .........................C=1, gamma=0.1, kernel=rbf; total time=   4.2s\n",
      "[CV] END .........................C=1, gamma=0.1, kernel=rbf; total time=   4.2s\n",
      "[CV] END .........................C=1, gamma=0.1, kernel=rbf; total time=   4.2s\n",
      "[CV] END .........................C=1, gamma=0.1, kernel=rbf; total time=   4.2s\n",
      "[CV] END .........................C=1, gamma=0.1, kernel=rbf; total time=   4.2s\n",
      "[CV] END ......................C=1, gamma=0.1, kernel=linear; total time=   4.0s\n",
      "[CV] END ......................C=1, gamma=0.1, kernel=linear; total time=   4.0s\n",
      "[CV] END ......................C=1, gamma=0.1, kernel=linear; total time=   4.0s\n",
      "[CV] END ......................C=1, gamma=0.1, kernel=linear; total time=   4.1s\n",
      "[CV] END ......................C=1, gamma=0.1, kernel=linear; total time=   4.0s\n",
      "[CV] END ........................C=1, gamma=0.01, kernel=rbf; total time=   4.0s\n",
      "[CV] END ........................C=1, gamma=0.01, kernel=rbf; total time=   4.0s\n",
      "[CV] END ........................C=1, gamma=0.01, kernel=rbf; total time=   4.0s\n",
      "[CV] END ........................C=1, gamma=0.01, kernel=rbf; total time=   4.0s\n",
      "[CV] END ........................C=1, gamma=0.01, kernel=rbf; total time=   4.1s\n",
      "[CV] END .....................C=1, gamma=0.01, kernel=linear; total time=   4.0s\n",
      "[CV] END .....................C=1, gamma=0.01, kernel=linear; total time=   4.0s\n",
      "[CV] END .....................C=1, gamma=0.01, kernel=linear; total time=   4.0s\n",
      "[CV] END .....................C=1, gamma=0.01, kernel=linear; total time=   4.0s\n",
      "[CV] END .....................C=1, gamma=0.01, kernel=linear; total time=   4.0s\n",
      "[CV] END .......................C=1, gamma=0.001, kernel=rbf; total time=   3.5s\n",
      "[CV] END .......................C=1, gamma=0.001, kernel=rbf; total time=   3.5s\n",
      "[CV] END .......................C=1, gamma=0.001, kernel=rbf; total time=   3.5s\n",
      "[CV] END .......................C=1, gamma=0.001, kernel=rbf; total time=   3.5s\n",
      "[CV] END .......................C=1, gamma=0.001, kernel=rbf; total time=   3.5s\n",
      "[CV] END ....................C=1, gamma=0.001, kernel=linear; total time=   4.0s\n",
      "[CV] END ....................C=1, gamma=0.001, kernel=linear; total time=   4.0s\n",
      "[CV] END ....................C=1, gamma=0.001, kernel=linear; total time=   4.0s\n",
      "[CV] END ....................C=1, gamma=0.001, kernel=linear; total time=   4.0s\n",
      "[CV] END ....................C=1, gamma=0.001, kernel=linear; total time=   4.0s\n",
      "[CV] END ..........................C=10, gamma=1, kernel=rbf; total time=   4.4s\n",
      "[CV] END ..........................C=10, gamma=1, kernel=rbf; total time=   4.4s\n",
      "[CV] END ..........................C=10, gamma=1, kernel=rbf; total time=   4.4s\n",
      "[CV] END ..........................C=10, gamma=1, kernel=rbf; total time=   4.4s\n",
      "[CV] END ..........................C=10, gamma=1, kernel=rbf; total time=   4.4s\n",
      "[CV] END .......................C=10, gamma=1, kernel=linear; total time=   4.1s\n",
      "[CV] END .......................C=10, gamma=1, kernel=linear; total time=   4.1s\n",
      "[CV] END .......................C=10, gamma=1, kernel=linear; total time=   4.1s\n",
      "[CV] END .......................C=10, gamma=1, kernel=linear; total time=   4.1s\n",
      "[CV] END .......................C=10, gamma=1, kernel=linear; total time=   4.1s\n",
      "[CV] END ........................C=10, gamma=0.1, kernel=rbf; total time=   4.3s\n",
      "[CV] END ........................C=10, gamma=0.1, kernel=rbf; total time=   4.3s\n",
      "[CV] END ........................C=10, gamma=0.1, kernel=rbf; total time=   4.3s\n",
      "[CV] END ........................C=10, gamma=0.1, kernel=rbf; total time=   4.3s\n",
      "[CV] END ........................C=10, gamma=0.1, kernel=rbf; total time=   4.4s\n",
      "[CV] END .....................C=10, gamma=0.1, kernel=linear; total time=   4.2s\n",
      "[CV] END .....................C=10, gamma=0.1, kernel=linear; total time=   4.0s\n",
      "[CV] END .....................C=10, gamma=0.1, kernel=linear; total time=   4.1s\n",
      "[CV] END .....................C=10, gamma=0.1, kernel=linear; total time=   4.0s\n",
      "[CV] END .....................C=10, gamma=0.1, kernel=linear; total time=   4.1s\n",
      "[CV] END .......................C=10, gamma=0.01, kernel=rbf; total time=   4.2s\n",
      "[CV] END .......................C=10, gamma=0.01, kernel=rbf; total time=   4.3s\n",
      "[CV] END .......................C=10, gamma=0.01, kernel=rbf; total time=   4.2s\n",
      "[CV] END .......................C=10, gamma=0.01, kernel=rbf; total time=   4.2s\n",
      "[CV] END .......................C=10, gamma=0.01, kernel=rbf; total time=   4.2s\n",
      "[CV] END ....................C=10, gamma=0.01, kernel=linear; total time=   4.1s\n",
      "[CV] END ....................C=10, gamma=0.01, kernel=linear; total time=   4.0s\n",
      "[CV] END ....................C=10, gamma=0.01, kernel=linear; total time=   4.1s\n",
      "[CV] END ....................C=10, gamma=0.01, kernel=linear; total time=   4.1s\n",
      "[CV] END ....................C=10, gamma=0.01, kernel=linear; total time=   4.1s\n",
      "[CV] END ......................C=10, gamma=0.001, kernel=rbf; total time=   4.1s\n",
      "[CV] END ......................C=10, gamma=0.001, kernel=rbf; total time=   4.0s\n",
      "[CV] END ......................C=10, gamma=0.001, kernel=rbf; total time=   4.0s\n",
      "[CV] END ......................C=10, gamma=0.001, kernel=rbf; total time=   4.0s\n",
      "[CV] END ......................C=10, gamma=0.001, kernel=rbf; total time=   4.0s\n",
      "[CV] END ...................C=10, gamma=0.001, kernel=linear; total time=   4.1s\n",
      "[CV] END ...................C=10, gamma=0.001, kernel=linear; total time=   4.0s\n",
      "[CV] END ...................C=10, gamma=0.001, kernel=linear; total time=   4.1s\n",
      "[CV] END ...................C=10, gamma=0.001, kernel=linear; total time=   4.1s\n",
      "[CV] END ...................C=10, gamma=0.001, kernel=linear; total time=   4.1s\n",
      "[CV] END .........................C=100, gamma=1, kernel=rbf; total time=   4.3s\n",
      "[CV] END .........................C=100, gamma=1, kernel=rbf; total time=   4.3s\n",
      "[CV] END .........................C=100, gamma=1, kernel=rbf; total time=   4.4s\n",
      "[CV] END .........................C=100, gamma=1, kernel=rbf; total time=   4.4s\n",
      "[CV] END .........................C=100, gamma=1, kernel=rbf; total time=   4.3s\n",
      "[CV] END ......................C=100, gamma=1, kernel=linear; total time=   4.1s\n",
      "[CV] END ......................C=100, gamma=1, kernel=linear; total time=   4.1s\n",
      "[CV] END ......................C=100, gamma=1, kernel=linear; total time=   4.0s\n",
      "[CV] END ......................C=100, gamma=1, kernel=linear; total time=   4.1s\n",
      "[CV] END ......................C=100, gamma=1, kernel=linear; total time=   4.1s\n",
      "[CV] END .......................C=100, gamma=0.1, kernel=rbf; total time=   4.3s\n",
      "[CV] END .......................C=100, gamma=0.1, kernel=rbf; total time=   4.3s\n",
      "[CV] END .......................C=100, gamma=0.1, kernel=rbf; total time=   4.4s\n",
      "[CV] END .......................C=100, gamma=0.1, kernel=rbf; total time=   4.3s\n",
      "[CV] END .......................C=100, gamma=0.1, kernel=rbf; total time=   4.3s\n",
      "[CV] END ....................C=100, gamma=0.1, kernel=linear; total time=   4.0s\n",
      "[CV] END ....................C=100, gamma=0.1, kernel=linear; total time=   4.0s\n",
      "[CV] END ....................C=100, gamma=0.1, kernel=linear; total time=   4.2s\n",
      "[CV] END ....................C=100, gamma=0.1, kernel=linear; total time=   4.1s\n",
      "[CV] END ....................C=100, gamma=0.1, kernel=linear; total time=   4.1s\n",
      "[CV] END ......................C=100, gamma=0.01, kernel=rbf; total time=   4.3s\n",
      "[CV] END ......................C=100, gamma=0.01, kernel=rbf; total time=   4.3s\n",
      "[CV] END ......................C=100, gamma=0.01, kernel=rbf; total time=   4.3s\n",
      "[CV] END ......................C=100, gamma=0.01, kernel=rbf; total time=   4.3s\n",
      "[CV] END ......................C=100, gamma=0.01, kernel=rbf; total time=   4.3s\n",
      "[CV] END ...................C=100, gamma=0.01, kernel=linear; total time=   4.1s\n",
      "[CV] END ...................C=100, gamma=0.01, kernel=linear; total time=   4.2s\n",
      "[CV] END ...................C=100, gamma=0.01, kernel=linear; total time=   4.1s\n",
      "[CV] END ...................C=100, gamma=0.01, kernel=linear; total time=   4.1s\n",
      "[CV] END ...................C=100, gamma=0.01, kernel=linear; total time=   4.1s\n",
      "[CV] END .....................C=100, gamma=0.001, kernel=rbf; total time=   4.2s\n",
      "[CV] END .....................C=100, gamma=0.001, kernel=rbf; total time=   4.2s\n",
      "[CV] END .....................C=100, gamma=0.001, kernel=rbf; total time=   4.2s\n",
      "[CV] END .....................C=100, gamma=0.001, kernel=rbf; total time=   4.2s\n",
      "[CV] END .....................C=100, gamma=0.001, kernel=rbf; total time=   4.2s\n",
      "[CV] END ..................C=100, gamma=0.001, kernel=linear; total time=   4.1s\n",
      "[CV] END ..................C=100, gamma=0.001, kernel=linear; total time=   4.0s\n",
      "[CV] END ..................C=100, gamma=0.001, kernel=linear; total time=   4.1s\n",
      "[CV] END ..................C=100, gamma=0.001, kernel=linear; total time=   4.1s\n",
      "[CV] END ..................C=100, gamma=0.001, kernel=linear; total time=   4.1s\n"
     ]
    }
   ],
   "source": [
    "param_grid = {\n",
    "    'C': [0.1, 1, 10, 100],\n",
    "    'gamma': [1, 0.1, 0.01, 0.001],\n",
    "    'kernel': ['rbf', 'linear']\n",
    "}\n",
    "\n",
    "grid = GridSearchCV(\n",
    "    SVC(),\n",
    "    param_grid,\n",
    "    refit=True,\n",
    "    verbose=2\n",
    ")\n",
    "grid.fit(\n",
    "    X_train_tfidf[:X_train_tfidf.shape[0]//fast_coeff],\n",
    "    Y_train[:len(Y_train)//fast_coeff]\n",
    ")\n",
    "\n",
    "Y_pred_svm = grid.predict(X_test_tfidf[:X_test_tfidf.shape[0]//fast_coeff])"
   ],
   "metadata": {
    "collapsed": false,
    "ExecuteTime": {
     "end_time": "2024-05-22T09:03:53.317170Z",
     "start_time": "2024-05-22T08:53:01.058957Z"
    }
   }
  },
  {
   "cell_type": "code",
   "execution_count": 68,
   "outputs": [
    {
     "name": "stdout",
     "output_type": "stream",
     "text": [
      "Accuracy score : 0.1165821868211441\n"
     ]
    }
   ],
   "source": [
    "print(\n",
    "    \"Accuracy score :\",\n",
    "    accuracy_score(\n",
    "        Y_test[:X_test_tfidf.shape[0]//fast_coeff],\n",
    "        Y_pred_svm\n",
    "    )\n",
    ")"
   ],
   "metadata": {
    "collapsed": false,
    "ExecuteTime": {
     "end_time": "2024-05-22T09:06:36.456667Z",
     "start_time": "2024-05-22T09:06:36.453150Z"
    }
   }
  },
  {
   "cell_type": "code",
   "execution_count": null,
   "outputs": [],
   "source": [],
   "metadata": {
    "collapsed": false
   }
  }
 ],
 "metadata": {
  "kernelspec": {
   "display_name": "Python 3",
   "language": "python",
   "name": "python3"
  },
  "language_info": {
   "codemirror_mode": {
    "name": "ipython",
    "version": 2
   },
   "file_extension": ".py",
   "mimetype": "text/x-python",
   "name": "python",
   "nbconvert_exporter": "python",
   "pygments_lexer": "ipython2",
   "version": "2.7.6"
  }
 },
 "nbformat": 4,
 "nbformat_minor": 0
}
