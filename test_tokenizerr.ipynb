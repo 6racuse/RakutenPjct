{
 "cells": [
  {
   "cell_type": "code",
   "execution_count": 1,
   "metadata": {
    "collapsed": true,
    "ExecuteTime": {
     "end_time": "2024-05-24T19:08:31.035628Z",
     "start_time": "2024-05-24T19:08:29.860179Z"
    }
   },
   "outputs": [],
   "source": [
    "import header\n",
    "\n",
    "import numpy as np\n",
    "import pandas as pd\n",
    "import spacy\n",
    "\n",
    "import warnings\n",
    "import time\n",
    "import pickle\n",
    "import os\n",
    "import nltk\n",
    "\n",
    "from nltk.tokenize import word_tokenize\n",
    "from joblib import dump, load\n",
    "from sklearn.model_selection import train_test_split, GridSearchCV\n",
    "from sklearn.metrics import accuracy_score, f1_score\n",
    "from sklearn.feature_extraction.text import TfidfVectorizer\n",
    "from sklearn.svm import SVC"
   ]
  },
  {
   "cell_type": "code",
   "execution_count": 17,
   "outputs": [],
   "source": [
    "fast_coeff = 10\n",
    "\n",
    "X_train = pd.read_csv(\n",
    "        \"/Users/welto/Library/CloudStorage/OneDrive-CentraleSupelec/2A/CASA/RakutenPjct/data/X_train_update.csv\",\n",
    "        sep=',',\n",
    "        usecols=lambda column: column not in [\n",
    "            'Unnamed: 0',\n",
    "            'imageid',\n",
    "            'description'\n",
    "        ]\n",
    "    )\n",
    "X_test_challenge = pd.read_csv(\n",
    "    \"/Users/welto/Library/CloudStorage/OneDrive-CentraleSupelec/2A/CASA/RakutenPjct/data/X_test_update.csv\",\n",
    "    sep=',',\n",
    "    usecols=lambda column: column not in [\n",
    "        'Unnamed: 0',\n",
    "        'imageid',\n",
    "        'description'\n",
    "    ]\n",
    ")\n",
    "Y_train = pd.read_csv(\n",
    "    \"/Users/welto/Library/CloudStorage/OneDrive-CentraleSupelec/2A/CASA/RakutenPjct/data/Y_train_CVw08PX.csv\",\n",
    "    sep=',',\n",
    "    usecols=lambda column: column != 'Unnamed: 0'\n",
    ")\n",
    "\n",
    "X_train = X_train['designation'][:X_train.shape[0]//fast_coeff].tolist()\n",
    "X_test_challenge = X_test_challenge['designation'][:X_test_challenge.shape[0]//fast_coeff].tolist()\n",
    "\n",
    "Y_train = Y_train['prdtypecode'][:Y_train.shape[0]//fast_coeff].tolist()"
   ],
   "metadata": {
    "collapsed": false,
    "ExecuteTime": {
     "end_time": "2024-05-24T19:17:27.253287Z",
     "start_time": "2024-05-24T19:17:26.964971Z"
    }
   }
  },
  {
   "cell_type": "code",
   "execution_count": 25,
   "outputs": [
    {
     "name": "stdout",
     "output_type": "stream",
     "text": [
      "X_train_raw_designation_clean : |██████████████████████████████████████████████████| 100.0% Complete\r\n",
      "X_test_raw_designation_clean : |██████████████████████████████████████████████████| 100.0% Complete\r\n"
     ]
    },
    {
     "name": "stderr",
     "output_type": "stream",
     "text": [
      "[nltk_data] Downloading package punkt to /Users/welto/nltk_data...\n",
      "[nltk_data]   Package punkt is already up-to-date!\n"
     ]
    },
    {
     "ename": "AttributeError",
     "evalue": "'str' object has no attribute 'is_punct'",
     "output_type": "error",
     "traceback": [
      "\u001B[0;31m---------------------------------------------------------------------------\u001B[0m",
      "\u001B[0;31mAttributeError\u001B[0m                            Traceback (most recent call last)",
      "Cell \u001B[0;32mIn[25], line 47\u001B[0m\n\u001B[1;32m     38\u001B[0m     X_test_challenge_clean\u001B[38;5;241m.\u001B[39mappend(tokens)\n\u001B[1;32m     39\u001B[0m     header\u001B[38;5;241m.\u001B[39mprogress_bar(\n\u001B[1;32m     40\u001B[0m         k \u001B[38;5;241m+\u001B[39m \u001B[38;5;241m1\u001B[39m,\n\u001B[1;32m     41\u001B[0m         b,\n\u001B[0;32m   (...)\u001B[0m\n\u001B[1;32m     44\u001B[0m         length\u001B[38;5;241m=\u001B[39m\u001B[38;5;241m50\u001B[39m\n\u001B[1;32m     45\u001B[0m     )\n\u001B[0;32m---> 47\u001B[0m X_train_strings \u001B[38;5;241m=\u001B[39m [k \u001B[38;5;28;01mfor\u001B[39;00m k \u001B[38;5;129;01min\u001B[39;00m [\u001B[38;5;124m'\u001B[39m\u001B[38;5;124m \u001B[39m\u001B[38;5;124m'\u001B[39m\u001B[38;5;241m.\u001B[39mjoin(tokens) \u001B[38;5;28;01mfor\u001B[39;00m tokens \u001B[38;5;129;01min\u001B[39;00m X_train_clean] \u001B[38;5;28;01mif\u001B[39;00m \u001B[38;5;129;01mnot\u001B[39;00m \u001B[43mk\u001B[49m\u001B[38;5;241;43m.\u001B[39;49m\u001B[43mis_punct\u001B[49m \u001B[38;5;28;01mif\u001B[39;00m \u001B[38;5;129;01mnot\u001B[39;00m k\u001B[38;5;241m.\u001B[39mis_stop]\n\u001B[1;32m     48\u001B[0m X_test_strings \u001B[38;5;241m=\u001B[39m [k \u001B[38;5;28;01mfor\u001B[39;00m k \u001B[38;5;129;01min\u001B[39;00m [\u001B[38;5;124m'\u001B[39m\u001B[38;5;124m \u001B[39m\u001B[38;5;124m'\u001B[39m\u001B[38;5;241m.\u001B[39mjoin(tokens) \u001B[38;5;28;01mfor\u001B[39;00m tokens \u001B[38;5;129;01min\u001B[39;00m X_test_challenge_clean] \u001B[38;5;28;01mif\u001B[39;00m \u001B[38;5;129;01mnot\u001B[39;00m k\u001B[38;5;241m.\u001B[39mis_punct \u001B[38;5;28;01mif\u001B[39;00m \u001B[38;5;129;01mnot\u001B[39;00m k\u001B[38;5;241m.\u001B[39mis_stop]\n\u001B[1;32m     50\u001B[0m preprocessing_end_time \u001B[38;5;241m=\u001B[39m time\u001B[38;5;241m.\u001B[39mtime()\n",
      "\u001B[0;31mAttributeError\u001B[0m: 'str' object has no attribute 'is_punct'"
     ]
    }
   ],
   "source": [
    "nltk.download(\"punkt\")\n",
    "\n",
    "X_train_clean = []\n",
    "X_test_challenge_clean = []\n",
    "\n",
    "a = len(X_train)\n",
    "b = len(X_test_challenge)\n",
    "\n",
    "header.progress_bar(\n",
    "    0,\n",
    "    a,\n",
    "    prefix='Progress:',\n",
    "    suffix='Complete',\n",
    "    length=50\n",
    ")\n",
    "\n",
    "preprocessing_start_time = time.time()\n",
    "\n",
    "for k in range(a):\n",
    "    tokens = word_tokenize(\n",
    "        header.normalize_accent(X_train[k].lower()),\n",
    "        language='french'\n",
    "    )\n",
    "    X_train_clean.append(tokens)\n",
    "    header.progress_bar(\n",
    "        k + 1,\n",
    "        a,\n",
    "        prefix='X_train_raw_designation_clean :',\n",
    "        suffix='Complete',\n",
    "        length=50\n",
    "    )\n",
    "\n",
    "for k in range(b):\n",
    "    tokens = word_tokenize(\n",
    "        header.normalize_accent(X_test_challenge[k].lower()),\n",
    "        language='french'\n",
    "    )\n",
    "    X_test_challenge_clean.append(tokens)\n",
    "    header.progress_bar(\n",
    "        k + 1,\n",
    "        b,\n",
    "        prefix='X_test_raw_designation_clean :',\n",
    "        suffix='Complete',\n",
    "        length=50\n",
    "    )\n",
    "\n",
    "X_train_strings = [' '.join(tokens) for tokens in X_train_clean]\n",
    "X_test_strings = [' '.join(tokens) for tokens in X_test_challenge_clean]\n",
    "\n",
    "preprocessing_end_time = time.time()\n",
    "preprocessing_time_h, preprocessing_time_min, preprocessing_time_s = header.convert_seconds(\n",
    "    preprocessing_end_time - preprocessing_start_time)\n",
    "\n",
    "print(f\"Preprocessed in {int(preprocessing_time_h)}h {int(preprocessing_time_min)}min {int(preprocessing_time_s)}s\")"
   ],
   "metadata": {
    "collapsed": false,
    "ExecuteTime": {
     "end_time": "2024-05-24T19:24:02.690671Z",
     "start_time": "2024-05-24T19:24:02.667405Z"
    }
   }
  },
  {
   "cell_type": "code",
   "execution_count": 15,
   "outputs": [],
   "source": [],
   "metadata": {
    "collapsed": false,
    "ExecuteTime": {
     "end_time": "2024-05-24T19:16:52.958735Z",
     "start_time": "2024-05-24T19:16:52.953519Z"
    }
   }
  },
  {
   "cell_type": "code",
   "execution_count": null,
   "outputs": [],
   "source": [
    "X_train_strings"
   ],
   "metadata": {
    "collapsed": false
   }
  },
  {
   "cell_type": "code",
   "execution_count": 29,
   "outputs": [
    {
     "name": "stdout",
     "output_type": "stream",
     "text": [
      "X_train_raw_designation_clean : |██████████████████████████████████████████████████| 100.0% Complete\r\n",
      "X_test_raw_designation_clean : |██████████████████████████████████████████████████| 100.0% Complete\r\n",
      "Preprocessed in 0h 0min 0s\n"
     ]
    },
    {
     "name": "stderr",
     "output_type": "stream",
     "text": [
      "[nltk_data] Downloading package punkt to /Users/welto/nltk_data...\n",
      "[nltk_data]   Package punkt is already up-to-date!\n"
     ]
    }
   ],
   "source": [
    "import nltk\n",
    "from nltk.tokenize import word_tokenize\n",
    "import string\n",
    "import time\n",
    "\n",
    "nltk.download(\"punkt\")\n",
    "\n",
    "X_train_clean = []\n",
    "X_test_challenge_clean = []\n",
    "\n",
    "a = 10 #len(X_train)\n",
    "b = 10 #len(X_test_challenge)\n",
    "\n",
    "def progress_bar(current, total, prefix='', suffix='', length=50):\n",
    "    percent = (\"{0:.1f}\").format(100 * (current / float(total)))\n",
    "    filled_length = int(length * current // total)\n",
    "    bar = '█' * filled_length + '-' * (length - filled_length)\n",
    "    print(f'\\r{prefix} |{bar}| {percent}% {suffix}', end='\\r')\n",
    "    if current == total:\n",
    "        print()\n",
    "\n",
    "preprocessing_start_time = time.time()\n",
    "\n",
    "for k in range(a):\n",
    "    tokens = word_tokenize(header.normalize_accent(X_train[k].lower()), language='french')\n",
    "    tokens = [word for word in tokens if word not in string.punctuation]\n",
    "    X_train_clean.append(tokens)\n",
    "    progress_bar(k + 1, a, prefix='X_train_raw_designation_clean :', suffix='Complete', length=50)\n",
    "\n",
    "for k in range(b):\n",
    "    tokens = word_tokenize(header.normalize_accent(X_test_challenge[k].lower()), language='french')\n",
    "    tokens = [word for word in tokens if word not in string.punctuation]\n",
    "    X_test_challenge_clean.append(tokens)\n",
    "    progress_bar(k + 1, b, prefix='X_test_raw_designation_clean :', suffix='Complete', length=50)\n",
    "\n",
    "X_train_strings = [' '.join(tokens) for tokens in X_train_clean]\n",
    "X_test_strings = [' '.join(tokens) for tokens in X_test_challenge_clean]\n",
    "\n",
    "preprocessing_end_time = time.time()\n",
    "preprocessing_time_h, preprocessing_time_min, preprocessing_time_s = header.convert_seconds(\n",
    "    preprocessing_end_time - preprocessing_start_time)\n",
    "\n",
    "print(f\"Preprocessed in {int(preprocessing_time_h)}h {int(preprocessing_time_min)}min {int(preprocessing_time_s)}s\")\n"
   ],
   "metadata": {
    "collapsed": false,
    "ExecuteTime": {
     "end_time": "2024-05-24T19:33:41.765720Z",
     "start_time": "2024-05-24T19:33:41.751578Z"
    }
   }
  },
  {
   "cell_type": "code",
   "execution_count": 30,
   "outputs": [
    {
     "data": {
      "text/plain": "['olivia personalisiertes notizbuch 150 seiten punktraster ca din a5 rosen-design',\n \"journal des arts le n 133 du 28/09/2001 l'art et son marche salon d'art asiatique a paris jacques barrere francois perrier la reforme des ventes aux encheres publiques le sna fete ses cent ans\",\n 'grand stylet ergonomique bleu gamepad nintendo wii u speedlink pilot style',\n 'peluche donald europe disneyland 2000 marionnette a doigt',\n 'la guerre des tuques',\n 'afrique contemporaine n 212 hiver 2004 dossier japon afrique',\n 'christof e bildungsprozessen auf der spur',\n 'conquerant sept cahier couverture polypro 240 x 320 mm 96 pages 90g seyes incolore',\n 'puzzle scooby-doo avec poster 2x35 pieces',\n 'tente pliante v3s5-pro pvc blanc 3 x 4m50 longueur 4m50 largeur 3 m blanc h']"
     },
     "execution_count": 30,
     "metadata": {},
     "output_type": "execute_result"
    }
   ],
   "source": [
    "X_train_strings"
   ],
   "metadata": {
    "collapsed": false,
    "ExecuteTime": {
     "end_time": "2024-05-24T19:33:44.135937Z",
     "start_time": "2024-05-24T19:33:44.132117Z"
    }
   }
  },
  {
   "cell_type": "code",
   "execution_count": null,
   "outputs": [],
   "source": [],
   "metadata": {
    "collapsed": false
   }
  }
 ],
 "metadata": {
  "kernelspec": {
   "display_name": "Python 3",
   "language": "python",
   "name": "python3"
  },
  "language_info": {
   "codemirror_mode": {
    "name": "ipython",
    "version": 2
   },
   "file_extension": ".py",
   "mimetype": "text/x-python",
   "name": "python",
   "nbconvert_exporter": "python",
   "pygments_lexer": "ipython2",
   "version": "2.7.6"
  }
 },
 "nbformat": 4,
 "nbformat_minor": 0
}
