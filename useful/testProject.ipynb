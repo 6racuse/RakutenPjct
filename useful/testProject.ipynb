{
 "cells": [
  {
   "cell_type": "markdown",
   "metadata": {},
   "source": [
    "# Notebook de test\n"
   ]
  },
  {
   "cell_type": "markdown",
   "metadata": {},
   "source": [
    "## Importation des bibliothèques\n"
   ]
  },
  {
   "cell_type": "code",
   "execution_count": 1,
   "metadata": {},
   "outputs": [],
   "source": [
    "import numpy as np\n",
    "import pandas as pd\n",
    "import scipy\n",
    "import seaborn as sns\n",
    "import matplotlib.pyplot as plt\n",
    "\n",
    "\n",
    "import spacy\n",
    "import random\n",
    "import math\n",
    "from sklearn.linear_model import SGDRegressor\n",
    "from sklearn.model_selection import train_test_split\n",
    "from sklearn.metrics import mean_squared_error,f1_score\n",
    "from sklearn.neighbors import KNeighborsClassifier\n",
    "from sklearn.feature_extraction.text import TfidfVectorizer\n",
    "from sklearn.model_selection import GridSearchCV, KFold\n",
    "from sklearn.ensemble import RandomForestRegressor"
   ]
  },
  {
   "cell_type": "markdown",
   "metadata": {},
   "source": [
    "## Fonctions utiles"
   ]
  },
  {
   "cell_type": "code",
   "execution_count": 2,
   "metadata": {},
   "outputs": [],
   "source": [
    "def progress_bar(iteration, total, prefix='', suffix='', decimals=1, length=50, fill='█'):\n",
    "    \"\"\"Fonction d'affichage de progress bar, récupérée sur le Notebook du TD1 de Data Sciences de Myriam Tami\n",
    "    \"\"\"\n",
    "    percent = (\"{0:.\" + str(decimals) + \"f}\").format(100 * (iteration / float(total)))\n",
    "    filled_length = int(length * iteration // total)\n",
    "    bar = fill * filled_length + '-' * (length - filled_length)\n",
    "    print(f'\\r{prefix} |{bar}| {percent}% {suffix}', end='\\r')\n",
    "    # Print New Line on Complete\n",
    "    if iteration == total:\n",
    "        print()\n",
    "                \n",
    "def raw_to_tokens(raw_string, spacy_nlp):\n",
    "        # Write code for lower-casing\n",
    "    string = raw_string.lower()\n",
    "\n",
    "    # Write code to normalize the accents\n",
    "    string = normalize_accent(string)\n",
    "\n",
    "    # Write code to tokenize\n",
    "    spacy_tokens = spacy_nlp(string)\n",
    "    \n",
    "\n",
    "    # Write code to remove punctuation tokens and create string tokens\n",
    "    string_tokens = [token.orth_ for token in spacy_tokens if not token.is_punct if not token.is_stop]\n",
    "    # Write code to join the tokens back into a single string\n",
    "    clean_string = \" \".join(string_tokens)\n",
    "\n",
    "    return clean_string\n",
    "\n",
    "\n",
    "def normalize_accent(string):\n",
    "    string = string.replace('á', 'a')\n",
    "    string = string.replace('â', 'a')\n",
    "    string = string.replace('à', 'a')\n",
    "    \n",
    "    string = string.replace('é', 'e')\n",
    "    string = string.replace('è', 'e')\n",
    "    string = string.replace('ê', 'e')\n",
    "    string = string.replace('ë', 'e')\n",
    "\n",
    "    string = string.replace('î', 'i')\n",
    "    string = string.replace('ï', 'i')\n",
    "    string = string.replace('n°','n')\n",
    "    string = string.replace('ö', 'o')\n",
    "    string = string.replace('ô', 'o')\n",
    "    string = string.replace('ò', 'o')\n",
    "    string = string.replace('ó', 'o')\n",
    "\n",
    "    string = string.replace('ù', 'u')\n",
    "    string = string.replace('û', 'u')\n",
    "    string = string.replace('ü', 'u')\n",
    "\n",
    "    string = string.replace('ç', 'c')\n",
    "\n",
    "    return string"
   ]
  },
  {
   "cell_type": "markdown",
   "metadata": {},
   "source": [
    "## Récupération des données"
   ]
  },
  {
   "cell_type": "markdown",
   "metadata": {},
   "source": [
    "récupération du dico français"
   ]
  },
  {
   "cell_type": "code",
   "execution_count": 40,
   "metadata": {},
   "outputs": [],
   "source": [
    "spacy_nlp = spacy.load(\"fr_core_news_sm\")"
   ]
  },
  {
   "cell_type": "markdown",
   "metadata": {},
   "source": [
    "récupération des vecteurs x_data et y_data"
   ]
  },
  {
   "cell_type": "code",
   "execution_count": 70,
   "metadata": {},
   "outputs": [],
   "source": [
    "Reload = False\n",
    "filename = \"X_dt.mat\"\n",
    "subdata_ratio  = 1\n",
    "\n",
    "\n",
    "if not Reload:\n",
    "    X_data = scipy.io.loadmat('.\\data\\\\' + filename)['data']\n",
    "else:\n",
    "    Xtrain_filename = \".\\data\\X_train_update.csv\"   \n",
    "    #pour le x_data (ici la designation, ie string)\n",
    "    X_data = []\n",
    "    raw_data = pd.read_csv(Xtrain_filename,index_col=0)\n",
    "    design = raw_data['designation']\n",
    "    #la boucle suivante prend bcp de temps\n",
    "    for k in range(len(raw_data)//subdata_ratio):\n",
    "        X_data.append(raw_to_tokens(design[k],spacy_nlp))\n",
    "        progress_bar(k + 1,len(raw_data)//subdata_ratio, prefix='Preprocessing train:', suffix='Complété', length=50)\n",
    "            \n",
    "Y_train_filename = \".\\data\\Y_train_CVw08PX.csv\"\n",
    "#pour y_data (le product type id)\n",
    "y_data = pd.read_csv(Y_train_filename,index_col=0)[:len(X_data)//subdata_ratio] #récupération de la bonne colonne prdtypecode\n"
   ]
  },
  {
   "cell_type": "markdown",
   "metadata": {},
   "source": [
    "Enregistrement de X_data en mémoire pour éviter de le reload à chaque fois"
   ]
  },
  {
   "cell_type": "code",
   "execution_count": 7,
   "metadata": {},
   "outputs": [],
   "source": [
    "mdic = {\"data\": X_data}\n",
    "scipy.io.savemat('.\\data\\\\' + filename,mdic)"
   ]
  },
  {
   "cell_type": "markdown",
   "metadata": {},
   "source": [
    "On affiche le head du fichier"
   ]
  },
  {
   "cell_type": "code",
   "execution_count": 63,
   "metadata": {},
   "outputs": [
    {
     "name": "stdout",
     "output_type": "stream",
     "text": [
      "84916    Folkmanis Puppets - 2732 - Marionnette Et Théâ...\n",
      "84917    Porte Flamme Gaxix - Flamebringer Gaxix - 136/...\n",
      "84918                    Pompe de filtration Speck Badu 95\n",
      "84919                          Robot de piscine électrique\n",
      "84920    Hsm Destructeur Securio C16 Coupe Crois¿E: 4 X...\n",
      "                               ...                        \n",
      "98723    Robe De Soutien De Sac De Soins De Les Suspend...\n",
      "98724            Livre De Phrases - Français ? Thaïlandais\n",
      "98725                 Tifon1 200 M de Espa - Pompe piscine\n",
      "98726    Christmas Home Non Slip Door Floor Mats Hall R...\n",
      "98727    Suspension Cascade 6 Lumières Verra Noire Et C...\n",
      "Name: designation, Length: 13812, dtype: object\n"
     ]
    }
   ],
   "source": [
    "print(raw_data['designation'])\n",
    "\n"
   ]
  },
  {
   "cell_type": "code",
   "execution_count": 9,
   "metadata": {},
   "outputs": [
    {
     "data": {
      "text/plain": [
       "{10,\n",
       " 40,\n",
       " 50,\n",
       " 60,\n",
       " 1140,\n",
       " 1160,\n",
       " 1180,\n",
       " 1280,\n",
       " 1281,\n",
       " 1300,\n",
       " 1301,\n",
       " 1302,\n",
       " 1320,\n",
       " 1560,\n",
       " 1920,\n",
       " 1940,\n",
       " 2060,\n",
       " 2220,\n",
       " 2280,\n",
       " 2403,\n",
       " 2462,\n",
       " 2522,\n",
       " 2582,\n",
       " 2583,\n",
       " 2585,\n",
       " 2705,\n",
       " 2905}"
      ]
     },
     "execution_count": 9,
     "metadata": {},
     "output_type": "execute_result"
    }
   ],
   "source": [
    "y_data.head()\n",
    "set(y_data['prdtypecode'].tolist())"
   ]
  },
  {
   "cell_type": "markdown",
   "metadata": {},
   "source": [
    "On affiche l'histogramme du type de produit sur tout le jeu de données"
   ]
  },
  {
   "cell_type": "code",
   "execution_count": 3,
   "metadata": {},
   "outputs": [
    {
     "name": "stdout",
     "output_type": "stream",
     "text": [
      "Collecting unidecode\n",
      "  Downloading Unidecode-1.3.8-py3-none-any.whl.metadata (13 kB)\n",
      "Downloading Unidecode-1.3.8-py3-none-any.whl (235 kB)\n",
      "   ---------------------------------------- 0.0/235.5 kB ? eta -:--:--\n",
      "   ------ -------------------------------- 41.0/235.5 kB 991.0 kB/s eta 0:00:01\n",
      "   --------------- ------------------------ 92.2/235.5 kB 1.1 MB/s eta 0:00:01\n",
      "   --------------------------------- ------ 194.6/235.5 kB 1.5 MB/s eta 0:00:01\n",
      "   -------------------------------------- - 225.3/235.5 kB 1.5 MB/s eta 0:00:01\n",
      "   ---------------------------------------- 235.5/235.5 kB 1.2 MB/s eta 0:00:00\n",
      "Installing collected packages: unidecode\n",
      "Successfully installed unidecode-1.3.8\n",
      "Note: you may need to restart the kernel to use updated packages.\n"
     ]
    },
    {
     "name": "stderr",
     "output_type": "stream",
     "text": [
      "  WARNING: The script unidecode.exe is installed in 'c:\\Users\\chata\\AppData\\Local\\Programs\\Python\\Python39\\Scripts' which is not on PATH.\n",
      "  Consider adding this directory to PATH or, if you prefer to suppress this warning, use --no-warn-script-location.\n",
      "WARNING: There was an error checking the latest version of pip.\n"
     ]
    }
   ],
   "source": [
    "%pip install unidecode"
   ]
  },
  {
   "cell_type": "code",
   "execution_count": 10,
   "metadata": {},
   "outputs": [
    {
     "data": {
      "text/plain": [
       "<AxesSubplot: xlabel='Count', ylabel='Code_produit'>"
      ]
     },
     "execution_count": 10,
     "metadata": {},
     "output_type": "execute_result"
    },
    {
     "data": {
      "image/png": "[encoded data removed]",
      "text/plain": [
       "<Figure size 1000x1000 with 1 Axes>"
      ]
     },
     "metadata": {},
     "output_type": "display_data"
    }
   ],
   "source": [
    "hist_tab_y = pd.DataFrame(y_data.prdtypecode.value_counts()).reset_index()\n",
    "hist_tab_y.columns = ['Code_produit', 'Count']\n",
    "hist_y = hist_tab_y.sort_values(\"Count\", ascending=True)\n",
    "plt.figure(figsize=(10,10))\n",
    "sns.barplot(x='Count', y='Code_produit', data=hist_y, orient='h', order=hist_y.Code_produit.tolist())\n"
   ]
  },
  {
   "cell_type": "markdown",
   "metadata": {},
   "source": [
    "Une approche ici serait de repérer le vocabulaire endémique à chaque product type pour déterminer, en fonction de la désignation du produit, son type."
   ]
  },
  {
   "cell_type": "code",
   "execution_count": 11,
   "metadata": {},
   "outputs": [
    {
     "name": "stdout",
     "output_type": "stream",
     "text": [
      "Shape of the TF-IDF Matrix:\n",
      "(84916, 79882)\n",
      "TF-IDF Matrix:\n"
     ]
    }
   ],
   "source": [
    "tfidf = TfidfVectorizer()\n",
    "\n",
    "# Write code to vectorize the sample text\n",
    "X_tfidf_matrix = tfidf.fit_transform(X_data)\n",
    "\n",
    "print(\"Shape of the TF-IDF Matrix:\")\n",
    "print(X_tfidf_matrix.shape)\n",
    "print(\"TF-IDF Matrix:\")\n",
    "\n"
   ]
  },
  {
   "cell_type": "markdown",
   "metadata": {},
   "source": [
    "Split du jeu de données"
   ]
  },
  {
   "cell_type": "code",
   "execution_count": 12,
   "metadata": {},
   "outputs": [],
   "source": [
    "X_train, X_test, y_train, y_test = train_test_split(X_tfidf_matrix, y_data, test_size=0.2, random_state=42)"
   ]
  },
  {
   "cell_type": "markdown",
   "metadata": {},
   "source": [
    "# Méthode 1 : K-NN Classifier"
   ]
  },
  {
   "cell_type": "code",
   "execution_count": 13,
   "metadata": {},
   "outputs": [],
   "source": [
    "KNN_CL = False\n",
    "if KNN_CL:\n",
    "    params = {'n_neighbors':range(2,20)}\n",
    "    n_folds = 10\n",
    "    cv = KFold(n_splits=n_folds, shuffle=False)\n",
    "\n",
    "    grid_search = GridSearchCV(\n",
    "        estimator=KNeighborsClassifier(),\n",
    "        param_grid=params,\n",
    "        return_train_score=True,\n",
    "        cv=cv,\n",
    "        ).fit(X_train, y_train)\n"
   ]
  },
  {
   "cell_type": "code",
   "execution_count": 14,
   "metadata": {},
   "outputs": [
    {
     "ename": "NameError",
     "evalue": "name 'grid_search' is not defined",
     "output_type": "error",
     "traceback": [
      "\u001b[1;31m---------------------------------------------------------------------------\u001b[0m",
      "\u001b[1;31mNameError\u001b[0m                                 Traceback (most recent call last)",
      "Cell \u001b[1;32mIn[14], line 1\u001b[0m\n\u001b[1;32m----> 1\u001b[0m \u001b[43mgrid_search\u001b[49m\u001b[38;5;241m.\u001b[39mbest_estimator_\n",
      "\u001b[1;31mNameError\u001b[0m: name 'grid_search' is not defined"
     ]
    }
   ],
   "source": [
    "grid_search.best_estimator_"
   ]
  },
  {
   "cell_type": "code",
   "execution_count": null,
   "metadata": {},
   "outputs": [
    {
     "name": "stdout",
     "output_type": "stream",
     "text": [
      "0.44928423513714305\n"
     ]
    }
   ],
   "source": [
    "BestKNN = KNeighborsClassifier(n_neighbors=19).fit(X_train,y_train)\n",
    "\n",
    "y_predKNN = BestKNN.predict(X_test)\n",
    "\n",
    "F1_score = f1_score(y_test,y_predKNN,average='macro')\n",
    "print(F1_score)"
   ]
  },
  {
   "cell_type": "markdown",
   "metadata": {},
   "source": [
    "## Approche 2 : SVM"
   ]
  },
  {
   "cell_type": "code",
   "execution_count": null,
   "metadata": {},
   "outputs": [],
   "source": [
    "import pandas as pd\n",
    "from sklearn.feature_extraction.text import TfidfVectorizer\n",
    "from sklearn.model_selection import train_test_split\n",
    "from sklearn.preprocessing import LabelEncoder\n",
    "from sklearn.svm import SVC\n",
    "from sklearn.metrics import classification_report, accuracy_score, f1_score\n",
    "\n",
    "X_tfidf = X_tfidf_matrix\n",
    "\n",
    "label_encoder = LabelEncoder()\n",
    "y_train = label_encoder.fit_transform(y_train)\n",
    "y_test = label_encoder.fit_transform(y_test)\n",
    "\n",
    "\n",
    "svm_model = SVC(kernel='linear', probability=True) \n",
    "svm_model.fit(X_train, y_train)\n",
    "\n",
    "y_pred = svm_model.predict(X_test)\n",
    "\n",
    "accuracy = accuracy_score(y_test, y_pred)\n",
    "f1 = f1_score(y_test, y_pred, average='weighted')\n",
    "\n",
    "print(f'Accuracy: {accuracy}')\n",
    "print(f'F1 Score: {f1}')\n",
    "print(\"Classification Report:\\n\", classification_report(y_test, y_pred))\n"
   ]
  },
  {
   "cell_type": "code",
   "execution_count": 1,
   "metadata": {},
   "outputs": [
    {
     "name": "stdout",
     "output_type": "stream",
     "text": [
      "Collecting nltk\n",
      "  Downloading nltk-3.8.1-py3-none-any.whl.metadata (2.8 kB)\n",
      "Requirement already satisfied: click in c:\\users\\chata\\appdata\\local\\programs\\python\\python39\\lib\\site-packages (from nltk) (8.1.7)\n",
      "Requirement already satisfied: joblib in c:\\users\\chata\\appdata\\local\\programs\\python\\python39\\lib\\site-packages (from nltk) (1.2.0)\n",
      "Collecting regex>=2021.8.3 (from nltk)\n",
      "  Downloading regex-2024.5.15-cp39-cp39-win_amd64.whl.metadata (41 kB)\n",
      "     ---------------------------------------- 0.0/42.0 kB ? eta -:--:--\n",
      "     -------------------------------------- 42.0/42.0 kB 675.2 kB/s eta 0:00:00\n",
      "Requirement already satisfied: tqdm in c:\\users\\chata\\appdata\\local\\programs\\python\\python39\\lib\\site-packages (from nltk) (4.66.4)\n",
      "Requirement already satisfied: colorama in c:\\users\\chata\\appdata\\roaming\\python\\python39\\site-packages (from click->nltk) (0.4.6)\n",
      "Downloading nltk-3.8.1-py3-none-any.whl (1.5 MB)\n",
      "   ---------------------------------------- 0.0/1.5 MB ? eta -:--:--\n",
      "   --- ------------------------------------ 0.1/1.5 MB 3.5 MB/s eta 0:00:01\n",
      "   ------- -------------------------------- 0.3/1.5 MB 3.5 MB/s eta 0:00:01\n",
      "   -------- ------------------------------- 0.3/1.5 MB 2.6 MB/s eta 0:00:01\n",
      "   ---------------- ----------------------- 0.6/1.5 MB 3.6 MB/s eta 0:00:01\n",
      "   ----------------- ---------------------- 0.7/1.5 MB 3.8 MB/s eta 0:00:01\n",
      "   ----------------------- ---------------- 0.9/1.5 MB 3.7 MB/s eta 0:00:01\n",
      "   ------------------------------ --------- 1.2/1.5 MB 3.7 MB/s eta 0:00:01\n",
      "   ---------------------------------- ----- 1.3/1.5 MB 3.6 MB/s eta 0:00:01\n",
      "   ---------------------------------------  1.5/1.5 MB 3.6 MB/s eta 0:00:01\n",
      "   ---------------------------------------- 1.5/1.5 MB 3.6 MB/s eta 0:00:00\n",
      "Downloading regex-2024.5.15-cp39-cp39-win_amd64.whl (269 kB)\n",
      "   ---------------------------------------- 0.0/269.0 kB ? eta -:--:--\n",
      "   ------------------------ --------------- 163.8/269.0 kB 3.3 MB/s eta 0:00:01\n",
      "   ---------------------------------------- 269.0/269.0 kB 2.8 MB/s eta 0:00:00\n",
      "Installing collected packages: regex, nltk\n",
      "Successfully installed nltk-3.8.1 regex-2024.5.15\n",
      "Note: you may need to restart the kernel to use updated packages.\n"
     ]
    },
    {
     "name": "stderr",
     "output_type": "stream",
     "text": [
      "  WARNING: The script nltk.exe is installed in 'c:\\Users\\chata\\AppData\\Local\\Programs\\Python\\Python39\\Scripts' which is not on PATH.\n",
      "  Consider adding this directory to PATH or, if you prefer to suppress this warning, use --no-warn-script-location.\n",
      "WARNING: There was an error checking the latest version of pip.\n"
     ]
    }
   ],
   "source": [
    "%pip install nltk"
   ]
  },
  {
   "cell_type": "markdown",
   "metadata": {},
   "source": [
    "## Approche 3 : Deep Learning s1"
   ]
  },
  {
   "cell_type": "code",
   "execution_count": 15,
   "metadata": {},
   "outputs": [],
   "source": [
    "from sklearn.feature_extraction.text import TfidfVectorizer\n",
    "from sklearn.model_selection import train_test_split\n",
    "from tensorflow.keras.models import Sequential\n",
    "from tensorflow.keras.layers import Dense, Dropout\n",
    "from tensorflow.keras.utils import to_categorical\n",
    "from sklearn.preprocessing import LabelEncoder\n",
    "from sklearn.metrics import classification_report, accuracy_score"
   ]
  },
  {
   "cell_type": "code",
   "execution_count": 84,
   "metadata": {},
   "outputs": [
    {
     "name": "stderr",
     "output_type": "stream",
     "text": [
      "c:\\Users\\chata\\AppData\\Local\\Programs\\Python\\Python39\\lib\\site-packages\\sklearn\\preprocessing\\_label.py:116: DataConversionWarning: A column-vector y was passed when a 1d array was expected. Please change the shape of y to (n_samples, ), for example using ravel().\n",
      "  y = column_or_1d(y, warn=True)\n",
      "c:\\Users\\chata\\AppData\\Local\\Programs\\Python\\Python39\\lib\\site-packages\\keras\\src\\layers\\core\\dense.py:87: UserWarning: Do not pass an `input_shape`/`input_dim` argument to a layer. When using Sequential models, prefer using an `Input(shape)` object as the first layer in the model instead.\n",
      "  super().__init__(activity_regularizer=activity_regularizer, **kwargs)\n"
     ]
    },
    {
     "name": "stdout",
     "output_type": "stream",
     "text": [
      "Epoch 1/6\n"
     ]
    },
    {
     "name": "stderr",
     "output_type": "stream",
     "text": [
      "c:\\Users\\chata\\AppData\\Local\\Programs\\Python\\Python39\\lib\\site-packages\\keras\\src\\trainers\\data_adapters\\py_dataset_adapter.py:121: UserWarning: Your `PyDataset` class should call `super().__init__(**kwargs)` in its constructor. `**kwargs` can include `workers`, `use_multiprocessing`, `max_queue_size`. Do not pass these arguments to `fit()`, as they will be ignored.\n",
      "  self._warn_if_super_not_called()\n"
     ]
    },
    {
     "name": "stdout",
     "output_type": "stream",
     "text": [
      "\u001b[1m2123/2123\u001b[0m \u001b[32m━━━━━━━━━━━━━━━━━━━━\u001b[0m\u001b[37m\u001b[0m \u001b[1m0s\u001b[0m 472ms/step - f1_score: 0.5338 - loss: 1.8257\n",
      "Epoch 1: val_f1_score improved from -inf to 0.78696, saving model to best_model.keras\n",
      "\u001b[1m2123/2123\u001b[0m \u001b[32m━━━━━━━━━━━━━━━━━━━━\u001b[0m\u001b[37m\u001b[0m \u001b[1m1029s\u001b[0m 483ms/step - f1_score: 0.5339 - loss: 1.8254 - val_f1_score: 0.7870 - val_loss: 0.7410 - learning_rate: 0.0010\n",
      "Epoch 2/6\n",
      "\u001b[1m2123/2123\u001b[0m \u001b[32m━━━━━━━━━━━━━━━━━━━━\u001b[0m\u001b[37m\u001b[0m \u001b[1m0s\u001b[0m 472ms/step - f1_score: 0.8486 - loss: 0.5179\n",
      "Epoch 2: val_f1_score improved from 0.78696 to 0.79538, saving model to best_model.keras\n",
      "\u001b[1m2123/2123\u001b[0m \u001b[32m━━━━━━━━━━━━━━━━━━━━\u001b[0m\u001b[37m\u001b[0m \u001b[1m1021s\u001b[0m 481ms/step - f1_score: 0.8486 - loss: 0.5179 - val_f1_score: 0.7954 - val_loss: 0.7624 - learning_rate: 0.0010\n",
      "Epoch 3/6\n",
      "\u001b[1m2123/2123\u001b[0m \u001b[32m━━━━━━━━━━━━━━━━━━━━\u001b[0m\u001b[37m\u001b[0m \u001b[1m0s\u001b[0m 471ms/step - f1_score: 0.9238 - loss: 0.2536\n",
      "Epoch 3: val_f1_score did not improve from 0.79538\n",
      "\u001b[1m2123/2123\u001b[0m \u001b[32m━━━━━━━━━━━━━━━━━━━━\u001b[0m\u001b[37m\u001b[0m \u001b[1m1016s\u001b[0m 479ms/step - f1_score: 0.9238 - loss: 0.2536 - val_f1_score: 0.7919 - val_loss: 0.8924 - learning_rate: 0.0010\n",
      "Epoch 4/6\n",
      "\u001b[1m2123/2123\u001b[0m \u001b[32m━━━━━━━━━━━━━━━━━━━━\u001b[0m\u001b[37m\u001b[0m \u001b[1m0s\u001b[0m 477ms/step - f1_score: 0.9507 - loss: 0.1638\n",
      "Epoch 4: val_f1_score did not improve from 0.79538\n",
      "\u001b[1m2123/2123\u001b[0m \u001b[32m━━━━━━━━━━━━━━━━━━━━\u001b[0m\u001b[37m\u001b[0m \u001b[1m1029s\u001b[0m 485ms/step - f1_score: 0.9507 - loss: 0.1638 - val_f1_score: 0.7878 - val_loss: 1.0272 - learning_rate: 0.0010\n",
      "Epoch 5/6\n",
      "\u001b[1m2123/2123\u001b[0m \u001b[32m━━━━━━━━━━━━━━━━━━━━\u001b[0m\u001b[37m\u001b[0m \u001b[1m0s\u001b[0m 480ms/step - f1_score: 0.9622 - loss: 0.1230\n",
      "Epoch 5: val_f1_score did not improve from 0.79538\n",
      "\u001b[1m2123/2123\u001b[0m \u001b[32m━━━━━━━━━━━━━━━━━━━━\u001b[0m\u001b[37m\u001b[0m \u001b[1m1037s\u001b[0m 488ms/step - f1_score: 0.9622 - loss: 0.1230 - val_f1_score: 0.7906 - val_loss: 1.1200 - learning_rate: 0.0010\n",
      "Epoch 6/6\n",
      "\u001b[1m2123/2123\u001b[0m \u001b[32m━━━━━━━━━━━━━━━━━━━━\u001b[0m\u001b[37m\u001b[0m \u001b[1m0s\u001b[0m 482ms/step - f1_score: 0.9686 - loss: 0.1005\n",
      "Epoch 6: val_f1_score did not improve from 0.79538\n",
      "\u001b[1m2123/2123\u001b[0m \u001b[32m━━━━━━━━━━━━━━━━━━━━\u001b[0m\u001b[37m\u001b[0m \u001b[1m1039s\u001b[0m 489ms/step - f1_score: 0.9686 - loss: 0.1005 - val_f1_score: 0.7894 - val_loss: 1.2227 - learning_rate: 0.0010\n",
      "\u001b[1m531/531\u001b[0m \u001b[32m━━━━━━━━━━━━━━━━━━━━\u001b[0m\u001b[37m\u001b[0m \u001b[1m17s\u001b[0m 32ms/step - f1_score: 0.7934 - loss: 0.7698\n",
      "Test Loss: 0.7623956799507141\n",
      "Test F1 Score: 0.7953782677650452\n"
     ]
    }
   ],
   "source": [
    "import pandas as pd\n",
    "import numpy as np\n",
    "from sklearn.feature_extraction.text import TfidfVectorizer\n",
    "from sklearn.model_selection import train_test_split\n",
    "from tensorflow.keras.models import Sequential\n",
    "from tensorflow.keras.layers import Dense, Dropout, BatchNormalization\n",
    "from tensorflow.keras.utils import to_categorical\n",
    "from sklearn.preprocessing import LabelEncoder\n",
    "from tensorflow.keras.callbacks import EarlyStopping, ReduceLROnPlateau, ModelCheckpoint\n",
    "import matplotlib.pyplot as plt\n",
    "import tensorflow as tf\n",
    "from tensorflow.keras.utils import Sequence\n",
    "from tensorflow.keras import backend as K\n",
    "\n",
    "# Supposons que X_tfidf_matrix et y_data soient déjà définis\n",
    "X_tfidf = X_tfidf_matrix\n",
    "\n",
    "# Encodage des labels\n",
    "label_encoder = LabelEncoder()\n",
    "y_encoded = label_encoder.fit_transform(y_data)\n",
    "\n",
    "# Conversion des labels en une représentation catégorielle\n",
    "y_categorical = to_categorical(y_encoded)\n",
    "\n",
    "# Division des données en ensembles d'entraînement et de test\n",
    "X_train, X_test, y_train, y_test = train_test_split(X_tfidf, y_categorical, test_size=0.2, random_state=42)\n",
    "\n",
    "# Création d'un générateur personnalisé\n",
    "class SparseMatrixBatchGenerator(Sequence):\n",
    "    def __init__(self, X, y, batch_size):\n",
    "        self.X = X\n",
    "        self.y = y\n",
    "        self.batch_size = batch_size\n",
    "\n",
    "    def __len__(self):\n",
    "        return int(np.ceil(self.X.shape[0] / float(self.batch_size)))\n",
    "\n",
    "    def __getitem__(self, idx):\n",
    "        batch_x = self.X[idx * self.batch_size:(idx + 1) * self.batch_size]\n",
    "        batch_y = self.y[idx * self.batch_size:(idx + 1) * self.batch_size]\n",
    "        return batch_x.toarray(), batch_y\n",
    "\n",
    "# Définir la fonction personnalisée pour le F1 score\n",
    "def f1_score(y_true, y_pred):\n",
    "    y_true = tf.cast(y_true, tf.float32)\n",
    "    y_pred = tf.cast(y_pred, tf.float32)\n",
    "\n",
    "    def recall(y_true, y_pred):\n",
    "        true_positives = K.sum(K.round(K.clip(y_true * y_pred, 0, 1)))\n",
    "        possible_positives = K.sum(K.round(K.clip(y_true, 0, 1)))\n",
    "        recall = true_positives / (possible_positives + K.epsilon())\n",
    "        return recall\n",
    "\n",
    "    def precision(y_true, y_pred):\n",
    "        true_positives = K.sum(K.round(K.clip(y_true * y_pred, 0, 1)))\n",
    "        predicted_positives = K.sum(K.round(K.clip(y_pred, 0, 1)))\n",
    "        precision = true_positives / (predicted_positives + K.epsilon())\n",
    "        return precision\n",
    "\n",
    "    precision_value = precision(y_true, y_pred)\n",
    "    recall_value = recall(y_true, y_pred)\n",
    "    f1 = 2 * ((precision_value * recall_value) / (precision_value + recall_value + K.epsilon()))\n",
    "    return f1\n",
    "\n",
    "# Définir et compiler le modèle\n",
    "input_dim = X_train.shape[1]\n",
    "num_classes = y_categorical.shape[1]\n",
    "\n",
    "model = Sequential()\n",
    "model.add(Dense(1024, input_dim=input_dim, activation='relu'))\n",
    "model.add(BatchNormalization())\n",
    "model.add(Dropout(0.5))\n",
    "model.add(Dense(512, activation='relu'))\n",
    "model.add(BatchNormalization())\n",
    "model.add(Dropout(0.5))\n",
    "model.add(Dense(256, activation='relu'))\n",
    "model.add(BatchNormalization())\n",
    "model.add(Dropout(0.5))\n",
    "model.add(Dense(num_classes, activation='softmax'))\n",
    "\n",
    "model.compile(loss='categorical_crossentropy',\n",
    "              optimizer='adam',\n",
    "              metrics=[f1_score])\n",
    "\n",
    "# Callbacks\n",
    "early_stopping = EarlyStopping(monitor='val_loss', patience=5, restore_best_weights=True)\n",
    "reduce_lr = ReduceLROnPlateau(monitor='val_loss', factor=0.2, patience=3, min_lr=0.001)\n",
    "model_checkpoint = ModelCheckpoint('best_model.keras', monitor='val_f1_score', mode='max', save_best_only=True, verbose=1)\n",
    "\n",
    "# Entraîner le modèle en utilisant le générateur\n",
    "batch_size = 32\n",
    "train_generator = SparseMatrixBatchGenerator(X_train, y_train, batch_size)\n",
    "val_generator = SparseMatrixBatchGenerator(X_test, y_test, batch_size)\n",
    "\n",
    "history = model.fit(train_generator,\n",
    "                    epochs=6, \n",
    "                    validation_data=val_generator,\n",
    "                    callbacks=[early_stopping, reduce_lr, model_checkpoint])\n",
    "\n",
    "# Charger le meilleur modèle\n",
    "model.load_weights('best_model.keras')\n",
    "\n",
    "# Évaluation du modèle\n",
    "loss, f1 = model.evaluate(val_generator)\n",
    "print(f'Test Loss: {loss}')\n",
    "print(f'Test F1 Score: {f1}')\n"
   ]
  },
  {
   "cell_type": "code",
   "execution_count": 99,
   "metadata": {},
   "outputs": [
    {
     "name": "stdout",
     "output_type": "stream",
     "text": [
      "Preprocessing train: |██████████████████████████████████████████████████| 100.0% Complété\n"
     ]
    }
   ],
   "source": [
    "Reload = True\n",
    "filename = \"X_dt.mat\"\n",
    "subdata_ratio  = 1\n",
    "\n",
    "\n",
    "if not Reload:\n",
    "    X_data_test = scipy.io.loadmat('.\\data\\\\' + filename)['data']\n",
    "else:\n",
    "    Xtest_filename = \".\\data\\X_test_update.csv\"   \n",
    "    #pour le x_data (ici la designation, ie string)\n",
    "    X_data_test = []\n",
    "    raw_data_test = pd.read_csv(Xtest_filename,index_col=0)\n",
    "    design_test = raw_data_test['designation']\n",
    "    #la boucle suivante prend bcp de temps\n",
    "    for k in range(len(raw_data_test)//subdata_ratio):\n",
    "        X_data_test.append(raw_to_tokens(design_test[len(X_data)+k],spacy_nlp))\n",
    "        progress_bar(k + 1,len(raw_data_test)//subdata_ratio, prefix='Preprocessing train:', suffix='Complété', length=50)\n",
    "           \n"
   ]
  },
  {
   "cell_type": "markdown",
   "metadata": {},
   "source": [
    "v1 à 79.17%"
   ]
  },
  {
   "cell_type": "code",
   "execution_count": 115,
   "metadata": {},
   "outputs": [
    {
     "name": "stdout",
     "output_type": "stream",
     "text": [
      "Epoch 1/5\n"
     ]
    },
    {
     "name": "stderr",
     "output_type": "stream",
     "text": [
      "c:\\Users\\chata\\AppData\\Local\\Programs\\Python\\Python39\\lib\\site-packages\\sklearn\\preprocessing\\_label.py:116: DataConversionWarning: A column-vector y was passed when a 1d array was expected. Please change the shape of y to (n_samples, ), for example using ravel().\n",
      "  y = column_or_1d(y, warn=True)\n",
      "c:\\Users\\chata\\AppData\\Local\\Programs\\Python\\Python39\\lib\\site-packages\\keras\\src\\layers\\core\\dense.py:87: UserWarning: Do not pass an `input_shape`/`input_dim` argument to a layer. When using Sequential models, prefer using an `Input(shape)` object as the first layer in the model instead.\n",
      "  super().__init__(activity_regularizer=activity_regularizer, **kwargs)\n"
     ]
    },
    {
     "name": "stdout",
     "output_type": "stream",
     "text": [
      "\u001b[1m   2/2123\u001b[0m \u001b[37m━━━━━━━━━━━━━━━━━━━━\u001b[0m \u001b[1m2:27\u001b[0m 70ms/step - f1_score: 0.0405 - loss: 4.5112"
     ]
    },
    {
     "name": "stderr",
     "output_type": "stream",
     "text": [
      "c:\\Users\\chata\\AppData\\Local\\Programs\\Python\\Python39\\lib\\site-packages\\keras\\src\\trainers\\data_adapters\\py_dataset_adapter.py:121: UserWarning: Your `PyDataset` class should call `super().__init__(**kwargs)` in its constructor. `**kwargs` can include `workers`, `use_multiprocessing`, `max_queue_size`. Do not pass these arguments to `fit()`, as they will be ignored.\n",
      "  self._warn_if_super_not_called()\n"
     ]
    },
    {
     "name": "stdout",
     "output_type": "stream",
     "text": [
      "\u001b[1m2123/2123\u001b[0m \u001b[32m━━━━━━━━━━━━━━━━━━━━\u001b[0m\u001b[37m\u001b[0m \u001b[1m0s\u001b[0m 67ms/step - f1_score: 0.4274 - loss: 2.0025\n",
      "Epoch 1: val_f1_score improved from -inf to 0.76946, saving model to best_model.keras\n",
      "\u001b[1m2123/2123\u001b[0m \u001b[32m━━━━━━━━━━━━━━━━━━━━\u001b[0m\u001b[37m\u001b[0m \u001b[1m148s\u001b[0m 69ms/step - f1_score: 0.4274 - loss: 2.0023 - val_f1_score: 0.7695 - val_loss: 0.7765 - learning_rate: 0.0010\n",
      "Epoch 2/5\n",
      "\u001b[1m2123/2123\u001b[0m \u001b[32m━━━━━━━━━━━━━━━━━━━━\u001b[0m\u001b[37m\u001b[0m \u001b[1m0s\u001b[0m 67ms/step - f1_score: 0.7620 - loss: 0.7831\n",
      "Epoch 2: val_f1_score improved from 0.76946 to 0.79765, saving model to best_model.keras\n",
      "\u001b[1m2123/2123\u001b[0m \u001b[32m━━━━━━━━━━━━━━━━━━━━\u001b[0m\u001b[37m\u001b[0m \u001b[1m148s\u001b[0m 70ms/step - f1_score: 0.7620 - loss: 0.7831 - val_f1_score: 0.7977 - val_loss: 0.7153 - learning_rate: 0.0010\n",
      "Epoch 3/5\n",
      "\u001b[1m2123/2123\u001b[0m \u001b[32m━━━━━━━━━━━━━━━━━━━━\u001b[0m\u001b[37m\u001b[0m \u001b[1m0s\u001b[0m 68ms/step - f1_score: 0.8474 - loss: 0.4982\n",
      "Epoch 3: val_f1_score improved from 0.79765 to 0.80193, saving model to best_model.keras\n",
      "\u001b[1m2123/2123\u001b[0m \u001b[32m━━━━━━━━━━━━━━━━━━━━\u001b[0m\u001b[37m\u001b[0m \u001b[1m150s\u001b[0m 70ms/step - f1_score: 0.8474 - loss: 0.4982 - val_f1_score: 0.8019 - val_loss: 0.7598 - learning_rate: 0.0010\n",
      "Epoch 4/5\n",
      "\u001b[1m2123/2123\u001b[0m \u001b[32m━━━━━━━━━━━━━━━━━━━━\u001b[0m\u001b[37m\u001b[0m \u001b[1m0s\u001b[0m 68ms/step - f1_score: 0.8905 - loss: 0.3634\n",
      "Epoch 4: val_f1_score improved from 0.80193 to 0.80348, saving model to best_model.keras\n",
      "\u001b[1m2123/2123\u001b[0m \u001b[32m━━━━━━━━━━━━━━━━━━━━\u001b[0m\u001b[37m\u001b[0m \u001b[1m149s\u001b[0m 70ms/step - f1_score: 0.8905 - loss: 0.3634 - val_f1_score: 0.8035 - val_loss: 0.8016 - learning_rate: 0.0010\n",
      "Epoch 5/5\n",
      "\u001b[1m2123/2123\u001b[0m \u001b[32m━━━━━━━━━━━━━━━━━━━━\u001b[0m\u001b[37m\u001b[0m \u001b[1m0s\u001b[0m 67ms/step - f1_score: 0.9137 - loss: 0.2909\n",
      "Epoch 5: val_f1_score did not improve from 0.80348\n",
      "\u001b[1m2123/2123\u001b[0m \u001b[32m━━━━━━━━━━━━━━━━━━━━\u001b[0m\u001b[37m\u001b[0m \u001b[1m147s\u001b[0m 69ms/step - f1_score: 0.9137 - loss: 0.2909 - val_f1_score: 0.8026 - val_loss: 0.8627 - learning_rate: 0.0010\n",
      "\u001b[1m432/432\u001b[0m \u001b[32m━━━━━━━━━━━━━━━━━━━━\u001b[0m\u001b[37m\u001b[0m \u001b[1m4s\u001b[0m 9ms/step\n",
      "Prédictions sur le dataset de test: [1281 1160 2583 ... 2583 2582 2060]\n"
     ]
    }
   ],
   "source": [
    "import pandas as pd\n",
    "import numpy as np\n",
    "from sklearn.feature_extraction.text import TfidfVectorizer\n",
    "from sklearn.preprocessing import LabelEncoder\n",
    "from tensorflow.keras.models import Sequential\n",
    "from tensorflow.keras.layers import Dense, Dropout, BatchNormalization\n",
    "from tensorflow.keras.utils import to_categorical\n",
    "from sklearn.model_selection import train_test_split\n",
    "from tensorflow.keras.callbacks import EarlyStopping, ReduceLROnPlateau, ModelCheckpoint\n",
    "from tensorflow.keras.utils import Sequence\n",
    "import tensorflow as tf\n",
    "from tensorflow.keras import backend as K\n",
    "\n",
    "# Supposons que X_data, y_data et X_data_test soient déjà définis\n",
    "\n",
    "# Création du transformateur TFIDF et transformation des données\n",
    "tfidf_vectorizer = TfidfVectorizer()\n",
    "X_tfidf = tfidf_vectorizer.fit_transform(X_data)\n",
    "X_tfidf_test = tfidf_vectorizer.transform(X_data_test)\n",
    "\n",
    "# Encodage des labels\n",
    "label_encoder = LabelEncoder()\n",
    "y_encoded = label_encoder.fit_transform(y_data)\n",
    "\n",
    "# Conversion des labels en une représentation catégorielle\n",
    "y_categorical = to_categorical(y_encoded)\n",
    "\n",
    "# Division des données en ensembles d'entraînement et de validation\n",
    "X_train, X_val, y_train, y_val = train_test_split(X_tfidf, y_categorical, test_size=0.2, random_state=42)\n",
    "\n",
    "# Création d'un générateur personnalisé\n",
    "class SparseMatrixBatchGenerator(Sequence):\n",
    "    def __init__(self, X, y, batch_size):\n",
    "        self.X = X\n",
    "        self.y = y\n",
    "        self.batch_size = batch_size\n",
    "\n",
    "    def __len__(self):\n",
    "        return int(np.ceil(self.X.shape[0] / float(self.batch_size)))\n",
    "\n",
    "    def __getitem__(self, idx):\n",
    "        batch_x = self.X[idx * self.batch_size:(idx + 1) * self.batch_size]\n",
    "        batch_y = self.y[idx * self.batch_size:(idx + 1) * self.batch_size]\n",
    "        return batch_x.toarray(), batch_y\n",
    "\n",
    "# Création d'un générateur pour la prédiction\n",
    "class SparseMatrixPredictionGenerator(Sequence):\n",
    "    def __init__(self, X, batch_size):\n",
    "        self.X = X\n",
    "        self.batch_size = batch_size\n",
    "\n",
    "    def __len__(self):\n",
    "        return int(np.ceil(self.X.shape[0] / float(self.batch_size)))\n",
    "\n",
    "    def __getitem__(self, idx):\n",
    "        batch_x = self.X[idx * self.batch_size:(idx + 1) * self.batch_size]\n",
    "        return batch_x.toarray()\n",
    "\n",
    "# Définir la fonction personnalisée pour le F1 score\n",
    "def f1_score(y_true, y_pred):\n",
    "    y_true = tf.cast(y_true, tf.float32)\n",
    "    y_pred = tf.cast(y_pred, tf.float32)\n",
    "\n",
    "    def recall(y_true, y_pred):\n",
    "        true_positives = K.sum(K.round(K.clip(y_true * y_pred, 0, 1)))\n",
    "        possible_positives = K.sum(K.round(K.clip(y_true, 0, 1)))\n",
    "        recall = true_positives / (possible_positives + K.epsilon())\n",
    "        return recall\n",
    "\n",
    "    def precision(y_true, y_pred):\n",
    "        true_positives = K.sum(K.round(K.clip(y_true * y_pred, 0, 1)))\n",
    "        predicted_positives = K.sum(K.round(K.clip(y_pred, 0, 1)))\n",
    "        precision = true_positives / (predicted_positives + K.epsilon())\n",
    "        return precision\n",
    "\n",
    "    precision_value = precision(y_true, y_pred)\n",
    "    recall_value = recall(y_true, y_pred)\n",
    "    f1 = 2 * ((precision_value * recall_value) / (precision_value + recall_value + K.epsilon()))\n",
    "    return f1\n",
    "\n",
    "# Définir et compiler le modèle avec moins de couches\n",
    "input_dim = X_train.shape[1]\n",
    "num_classes = y_categorical.shape[1]\n",
    "\n",
    "model = Sequential()\n",
    "model.add(Dense(128, input_dim=input_dim, activation='relu'))\n",
    "model.add(BatchNormalization())\n",
    "model.add(Dropout(0.5))\n",
    "model.add(Dense(64, activation='relu'))\n",
    "model.add(BatchNormalization())\n",
    "model.add(Dropout(0.5))\n",
    "model.add(Dense(num_classes, activation='softmax'))\n",
    "\n",
    "model.compile(loss='categorical_crossentropy',\n",
    "              optimizer='adam',\n",
    "              metrics=[f1_score])\n",
    "\n",
    "# Callbacks\n",
    "early_stopping = EarlyStopping(monitor='val_loss', patience=5, restore_best_weights=True)\n",
    "reduce_lr = ReduceLROnPlateau(monitor='val_loss', factor=0.2, patience=3, min_lr=0.001)\n",
    "model_checkpoint = ModelCheckpoint('best_model.keras', monitor='val_f1_score', mode='max', save_best_only=True, verbose=1)\n",
    "\n",
    "# Entraîner le modèle en utilisant le générateur\n",
    "batch_size = 32\n",
    "train_generator = SparseMatrixBatchGenerator(X_train, y_train, batch_size)\n",
    "val_generator = SparseMatrixBatchGenerator(X_val, y_val, batch_size)\n",
    "\n",
    "history = model.fit(train_generator,\n",
    "                    epochs=5, \n",
    "                    validation_data=val_generator,\n",
    "                    callbacks=[early_stopping, reduce_lr, model_checkpoint])\n",
    "\n",
    "# Charger le meilleur modèle\n",
    "model.load_weights('best_model.keras')\n",
    "\n",
    "# Prédiction sur les nouvelles données de test en utilisant le générateur\n",
    "test_generator = SparseMatrixPredictionGenerator(X_tfidf_test, batch_size)\n",
    "y_pred_prob = model.predict(test_generator)\n",
    "y_pred = np.argmax(y_pred_prob, axis=1)\n",
    "\n",
    "# Décoder les prédictions en labels originaux\n",
    "y_pred_labels = label_encoder.inverse_transform(y_pred)\n",
    "\n",
    "# Afficher les résultats\n",
    "print(\"Prédictions sur le dataset de test:\", y_pred_labels)\n"
   ]
  },
  {
   "cell_type": "markdown",
   "metadata": {},
   "source": [
    "V2"
   ]
  },
  {
   "cell_type": "code",
   "execution_count": 119,
   "metadata": {},
   "outputs": [
    {
     "name": "stdout",
     "output_type": "stream",
     "text": [
      "Epoch 1/5\n"
     ]
    },
    {
     "name": "stderr",
     "output_type": "stream",
     "text": [
      "c:\\Users\\chata\\AppData\\Local\\Programs\\Python\\Python39\\lib\\site-packages\\sklearn\\preprocessing\\_label.py:116: DataConversionWarning: A column-vector y was passed when a 1d array was expected. Please change the shape of y to (n_samples, ), for example using ravel().\n",
      "  y = column_or_1d(y, warn=True)\n",
      "c:\\Users\\chata\\AppData\\Local\\Programs\\Python\\Python39\\lib\\site-packages\\keras\\src\\layers\\core\\dense.py:87: UserWarning: Do not pass an `input_shape`/`input_dim` argument to a layer. When using Sequential models, prefer using an `Input(shape)` object as the first layer in the model instead.\n",
      "  super().__init__(activity_regularizer=activity_regularizer, **kwargs)\n",
      "c:\\Users\\chata\\AppData\\Local\\Programs\\Python\\Python39\\lib\\site-packages\\keras\\src\\trainers\\data_adapters\\py_dataset_adapter.py:121: UserWarning: Your `PyDataset` class should call `super().__init__(**kwargs)` in its constructor. `**kwargs` can include `workers`, `use_multiprocessing`, `max_queue_size`. Do not pass these arguments to `fit()`, as they will be ignored.\n",
      "  self._warn_if_super_not_called()\n"
     ]
    },
    {
     "name": "stdout",
     "output_type": "stream",
     "text": [
      "\u001b[1m2123/2123\u001b[0m \u001b[32m━━━━━━━━━━━━━━━━━━━━\u001b[0m\u001b[37m\u001b[0m \u001b[1m0s\u001b[0m 245ms/step - f1_score: 0.5505 - loss: 1.6460\n",
      "Epoch 1: val_f1_score improved from -inf to 0.78836, saving model to best_model.keras\n",
      "\u001b[1m2123/2123\u001b[0m \u001b[32m━━━━━━━━━━━━━━━━━━━━\u001b[0m\u001b[37m\u001b[0m \u001b[1m533s\u001b[0m 250ms/step - f1_score: 0.5506 - loss: 1.6458 - val_f1_score: 0.7884 - val_loss: 0.7305 - learning_rate: 0.0010\n",
      "Epoch 2/5\n",
      "\u001b[1m2123/2123\u001b[0m \u001b[32m━━━━━━━━━━━━━━━━━━━━\u001b[0m\u001b[37m\u001b[0m \u001b[1m0s\u001b[0m 245ms/step - f1_score: 0.8590 - loss: 0.4801\n",
      "Epoch 2: val_f1_score improved from 0.78836 to 0.79667, saving model to best_model.keras\n",
      "\u001b[1m2123/2123\u001b[0m \u001b[32m━━━━━━━━━━━━━━━━━━━━\u001b[0m\u001b[37m\u001b[0m \u001b[1m531s\u001b[0m 250ms/step - f1_score: 0.8590 - loss: 0.4801 - val_f1_score: 0.7967 - val_loss: 0.7837 - learning_rate: 0.0010\n",
      "Epoch 3/5\n",
      "\u001b[1m2123/2123\u001b[0m \u001b[32m━━━━━━━━━━━━━━━━━━━━\u001b[0m\u001b[37m\u001b[0m \u001b[1m0s\u001b[0m 244ms/step - f1_score: 0.9332 - loss: 0.2267\n",
      "Epoch 3: val_f1_score did not improve from 0.79667\n",
      "\u001b[1m2123/2123\u001b[0m \u001b[32m━━━━━━━━━━━━━━━━━━━━\u001b[0m\u001b[37m\u001b[0m \u001b[1m527s\u001b[0m 248ms/step - f1_score: 0.9332 - loss: 0.2267 - val_f1_score: 0.7896 - val_loss: 0.9111 - learning_rate: 0.0010\n",
      "Epoch 4/5\n",
      "\u001b[1m2123/2123\u001b[0m \u001b[32m━━━━━━━━━━━━━━━━━━━━\u001b[0m\u001b[37m\u001b[0m \u001b[1m0s\u001b[0m 241ms/step - f1_score: 0.9568 - loss: 0.1414\n",
      "Epoch 4: val_f1_score did not improve from 0.79667\n",
      "\u001b[1m2123/2123\u001b[0m \u001b[32m━━━━━━━━━━━━━━━━━━━━\u001b[0m\u001b[37m\u001b[0m \u001b[1m522s\u001b[0m 246ms/step - f1_score: 0.9568 - loss: 0.1414 - val_f1_score: 0.7914 - val_loss: 1.0357 - learning_rate: 0.0010\n",
      "Epoch 5/5\n",
      "\u001b[1m2123/2123\u001b[0m \u001b[32m━━━━━━━━━━━━━━━━━━━━\u001b[0m\u001b[37m\u001b[0m \u001b[1m0s\u001b[0m 241ms/step - f1_score: 0.9667 - loss: 0.1076\n",
      "Epoch 5: val_f1_score did not improve from 0.79667\n",
      "\u001b[1m2123/2123\u001b[0m \u001b[32m━━━━━━━━━━━━━━━━━━━━\u001b[0m\u001b[37m\u001b[0m \u001b[1m521s\u001b[0m 245ms/step - f1_score: 0.9667 - loss: 0.1076 - val_f1_score: 0.7880 - val_loss: 1.1566 - learning_rate: 0.0010\n",
      "\u001b[1m432/432\u001b[0m \u001b[32m━━━━━━━━━━━━━━━━━━━━\u001b[0m\u001b[37m\u001b[0m \u001b[1m9s\u001b[0m 19ms/step\n",
      "Prédictions sur le dataset de test: [2705 1160 2583 ... 2583 2582 2060]\n"
     ]
    }
   ],
   "source": [
    "\n"
   ]
  },
  {
   "cell_type": "code",
   "execution_count": 106,
   "metadata": {},
   "outputs": [
    {
     "name": "stdout",
     "output_type": "stream",
     "text": [
      "13812 13812\n"
     ]
    }
   ],
   "source": [
    "print(len(y_pred_labels),len(X_data_test))\n"
   ]
  },
  {
   "cell_type": "code",
   "execution_count": 120,
   "metadata": {},
   "outputs": [],
   "source": [
    "import csv\n",
    "\n",
    "filename = 'output1.csv'\n",
    "# Écriture de la liste dans le fichier CSV\n",
    "with open(filename, mode='w', newline='') as file:\n",
    "    writer = csv.writer(file, lineterminator='\\n')\n",
    "    writer.writerow(['','prdtypecode'])\n",
    "    k=0\n",
    "    for value in y_pred_labels:\n",
    "        writer.writerow([len(X_data)+k,value])\n",
    "        k+=1"
   ]
  },
  {
   "cell_type": "code",
   "execution_count": 122,
   "metadata": {},
   "outputs": [
    {
     "name": "stdout",
     "output_type": "stream",
     "text": [
      "\u001b[1m531/531\u001b[0m \u001b[32m━━━━━━━━━━━━━━━━━━━━\u001b[0m\u001b[37m\u001b[0m \u001b[1m12s\u001b[0m 22ms/step\n",
      "Classification Report:\n",
      "               precision    recall  f1-score   support\n",
      "\n",
      "           0       0.48      0.47      0.48       612\n",
      "           1       0.71      0.63      0.67       521\n",
      "           2       0.81      0.80      0.80       357\n",
      "           3       0.94      0.81      0.87       161\n",
      "           4       0.72      0.76      0.74       539\n",
      "           5       0.91      0.93      0.92       786\n",
      "           6       0.61      0.62      0.62       146\n",
      "           7       0.64      0.65      0.65       961\n",
      "           8       0.58      0.39      0.47       424\n",
      "           9       0.92      0.94      0.93       974\n",
      "          10       0.94      0.91      0.92       169\n",
      "          11       0.84      0.74      0.79       507\n",
      "          12       0.77      0.75      0.76       672\n",
      "          13       0.85      0.80      0.82      1013\n",
      "          14       0.86      0.93      0.89       841\n",
      "          15       0.80      0.83      0.82       137\n",
      "          16       0.76      0.79      0.78      1029\n",
      "          17       0.84      0.79      0.81       170\n",
      "          18       0.77      0.77      0.77       942\n",
      "          19       0.78      0.71      0.74       986\n",
      "          20       0.74      0.79      0.77       306\n",
      "          21       0.92      0.92      0.92       991\n",
      "          22       0.72      0.66      0.69       462\n",
      "          23       0.95      0.97      0.96      2047\n",
      "          24       0.80      0.75      0.78       525\n",
      "          25       0.38      0.60      0.46       517\n",
      "          26       0.98      0.99      0.99       189\n",
      "\n",
      "    accuracy                           0.79     16984\n",
      "   macro avg       0.78      0.77      0.77     16984\n",
      "weighted avg       0.80      0.79      0.79     16984\n",
      "\n"
     ]
    },
    {
     "data": {
      "image/png": "[encoded data removed]",
      "text/plain": [
       "<Figure size 1200x600 with 2 Axes>"
      ]
     },
     "metadata": {},
     "output_type": "display_data"
    }
   ],
   "source": [
    "\n",
    "# Prédiction sur l'ensemble de test\n",
    "y_pred_prob = model.predict(val_generator)\n",
    "y_pred = np.argmax(y_pred_prob, axis=1)\n",
    "y_test_true = np.argmax(y_test, axis=1)\n",
    "\n",
    "print(\"Classification Report:\\n\", classification_report(y_test_true, y_pred))\n",
    "\n",
    "# Visualiser les résultats\n",
    "plt.figure(figsize=(12, 6))\n",
    "plt.subplot(1, 2, 1)\n",
    "plt.plot(history.history['f1_score'])\n",
    "plt.plot(history.history['val_f1_score'])\n",
    "plt.title('Model F1 Score')\n",
    "plt.ylabel('F1 Score')\n",
    "plt.xlabel('Epoch')\n",
    "plt.legend(['Train', 'Validation'], loc='upper left')\n",
    "\n",
    "plt.subplot(1, 2, 2)\n",
    "plt.plot(history.history['loss'])\n",
    "plt.plot(history.history['val_loss'])\n",
    "plt.title('Model loss')\n",
    "plt.ylabel('Loss')\n",
    "plt.xlabel('Epoch')\n",
    "plt.legend(['Train', 'Validation'], loc='upper left')\n",
    "\n",
    "plt.show()\n",
    "\n"
   ]
  },
  {
   "cell_type": "code",
   "execution_count": 27,
   "metadata": {},
   "outputs": [
    {
     "name": "stdout",
     "output_type": "stream",
     "text": [
      "[26  5 16 ... 24 21 14]\n"
     ]
    }
   ],
   "source": [
    "print(y_pred)\n"
   ]
  },
  {
   "cell_type": "code",
   "execution_count": null,
   "metadata": {},
   "outputs": [
    {
     "name": "stderr",
     "output_type": "stream",
     "text": [
      "c:\\Users\\chata\\AppData\\Local\\Programs\\Python\\Python39\\lib\\site-packages\\sklearn\\preprocessing\\_label.py:116: DataConversionWarning: A column-vector y was passed when a 1d array was expected. Please change the shape of y to (n_samples, ), for example using ravel().\n",
      "  y = column_or_1d(y, warn=True)\n",
      "c:\\Users\\chata\\AppData\\Local\\Programs\\Python\\Python39\\lib\\site-packages\\keras\\src\\layers\\core\\dense.py:87: UserWarning: Do not pass an `input_shape`/`input_dim` argument to a layer. When using Sequential models, prefer using an `Input(shape)` object as the first layer in the model instead.\n",
      "  super().__init__(activity_regularizer=activity_regularizer, **kwargs)\n"
     ]
    },
    {
     "name": "stdout",
     "output_type": "stream",
     "text": [
      "Shape of y_categorical: (84916, 27)\n",
      "Shape of X_train: (67932, 79882)\n",
      "Shape of y_train: (67932, 27)\n",
      "Shape of X_test: (16984, 79882)\n",
      "Shape of y_test: (16984, 27)\n"
     ]
    },
    {
     "ename": "MemoryError",
     "evalue": "Unable to allocate 40.4 GiB for an array with shape (67932, 79882) and data type float64",
     "output_type": "error",
     "traceback": [
      "\u001b[1;31m---------------------------------------------------------------------------\u001b[0m",
      "\u001b[1;31mMemoryError\u001b[0m                               Traceback (most recent call last)",
      "Cell \u001b[1;32mIn[119], line 44\u001b[0m\n\u001b[0;32m     38\u001b[0m model\u001b[38;5;241m.\u001b[39madd(Dense(num_classes, activation\u001b[38;5;241m=\u001b[39m\u001b[38;5;124m'\u001b[39m\u001b[38;5;124msoftmax\u001b[39m\u001b[38;5;124m'\u001b[39m))\n\u001b[0;32m     40\u001b[0m model\u001b[38;5;241m.\u001b[39mcompile(loss\u001b[38;5;241m=\u001b[39m\u001b[38;5;124m'\u001b[39m\u001b[38;5;124mcategorical_crossentropy\u001b[39m\u001b[38;5;124m'\u001b[39m,\n\u001b[0;32m     41\u001b[0m               optimizer\u001b[38;5;241m=\u001b[39m\u001b[38;5;124m'\u001b[39m\u001b[38;5;124madam\u001b[39m\u001b[38;5;124m'\u001b[39m,\n\u001b[0;32m     42\u001b[0m               metrics\u001b[38;5;241m=\u001b[39m[\u001b[38;5;124m'\u001b[39m\u001b[38;5;124mf1_score\u001b[39m\u001b[38;5;124m'\u001b[39m])\n\u001b[1;32m---> 44\u001b[0m model\u001b[38;5;241m.\u001b[39mfit(\u001b[43mX_train\u001b[49m\u001b[38;5;241;43m.\u001b[39;49m\u001b[43mtoarray\u001b[49m\u001b[43m(\u001b[49m\u001b[43m)\u001b[49m, y_train, epochs\u001b[38;5;241m=\u001b[39m\u001b[38;5;241m5\u001b[39m, batch_size\u001b[38;5;241m=\u001b[39m\u001b[38;5;241m32\u001b[39m, validation_split\u001b[38;5;241m=\u001b[39m\u001b[38;5;241m0.2\u001b[39m)\n\u001b[0;32m     46\u001b[0m loss, accuracy \u001b[38;5;241m=\u001b[39m model\u001b[38;5;241m.\u001b[39mevaluate(X_test\u001b[38;5;241m.\u001b[39mtoarray(), y_test)\n\u001b[0;32m     48\u001b[0m \u001b[38;5;28mprint\u001b[39m(\u001b[38;5;124mf\u001b[39m\u001b[38;5;124m'\u001b[39m\u001b[38;5;124mTest Loss: \u001b[39m\u001b[38;5;132;01m{\u001b[39;00mloss\u001b[38;5;132;01m}\u001b[39;00m\u001b[38;5;124m'\u001b[39m)\n",
      "File \u001b[1;32mc:\\Users\\chata\\AppData\\Local\\Programs\\Python\\Python39\\lib\\site-packages\\scipy\\sparse\\_compressed.py:1051\u001b[0m, in \u001b[0;36m_cs_matrix.toarray\u001b[1;34m(self, order, out)\u001b[0m\n\u001b[0;32m   1049\u001b[0m \u001b[38;5;28;01mif\u001b[39;00m out \u001b[38;5;129;01mis\u001b[39;00m \u001b[38;5;28;01mNone\u001b[39;00m \u001b[38;5;129;01mand\u001b[39;00m order \u001b[38;5;129;01mis\u001b[39;00m \u001b[38;5;28;01mNone\u001b[39;00m:\n\u001b[0;32m   1050\u001b[0m     order \u001b[38;5;241m=\u001b[39m \u001b[38;5;28mself\u001b[39m\u001b[38;5;241m.\u001b[39m_swap(\u001b[38;5;124m'\u001b[39m\u001b[38;5;124mcf\u001b[39m\u001b[38;5;124m'\u001b[39m)[\u001b[38;5;241m0\u001b[39m]\n\u001b[1;32m-> 1051\u001b[0m out \u001b[38;5;241m=\u001b[39m \u001b[38;5;28;43mself\u001b[39;49m\u001b[38;5;241;43m.\u001b[39;49m\u001b[43m_process_toarray_args\u001b[49m\u001b[43m(\u001b[49m\u001b[43morder\u001b[49m\u001b[43m,\u001b[49m\u001b[43m \u001b[49m\u001b[43mout\u001b[49m\u001b[43m)\u001b[49m\n\u001b[0;32m   1052\u001b[0m \u001b[38;5;28;01mif\u001b[39;00m \u001b[38;5;129;01mnot\u001b[39;00m (out\u001b[38;5;241m.\u001b[39mflags\u001b[38;5;241m.\u001b[39mc_contiguous \u001b[38;5;129;01mor\u001b[39;00m out\u001b[38;5;241m.\u001b[39mflags\u001b[38;5;241m.\u001b[39mf_contiguous):\n\u001b[0;32m   1053\u001b[0m     \u001b[38;5;28;01mraise\u001b[39;00m \u001b[38;5;167;01mValueError\u001b[39;00m(\u001b[38;5;124m'\u001b[39m\u001b[38;5;124mOutput array must be C or F contiguous\u001b[39m\u001b[38;5;124m'\u001b[39m)\n",
      "File \u001b[1;32mc:\\Users\\chata\\AppData\\Local\\Programs\\Python\\Python39\\lib\\site-packages\\scipy\\sparse\\_base.py:1298\u001b[0m, in \u001b[0;36mspmatrix._process_toarray_args\u001b[1;34m(self, order, out)\u001b[0m\n\u001b[0;32m   1296\u001b[0m     \u001b[38;5;28;01mreturn\u001b[39;00m out\n\u001b[0;32m   1297\u001b[0m \u001b[38;5;28;01melse\u001b[39;00m:\n\u001b[1;32m-> 1298\u001b[0m     \u001b[38;5;28;01mreturn\u001b[39;00m \u001b[43mnp\u001b[49m\u001b[38;5;241;43m.\u001b[39;49m\u001b[43mzeros\u001b[49m\u001b[43m(\u001b[49m\u001b[38;5;28;43mself\u001b[39;49m\u001b[38;5;241;43m.\u001b[39;49m\u001b[43mshape\u001b[49m\u001b[43m,\u001b[49m\u001b[43m \u001b[49m\u001b[43mdtype\u001b[49m\u001b[38;5;241;43m=\u001b[39;49m\u001b[38;5;28;43mself\u001b[39;49m\u001b[38;5;241;43m.\u001b[39;49m\u001b[43mdtype\u001b[49m\u001b[43m,\u001b[49m\u001b[43m \u001b[49m\u001b[43morder\u001b[49m\u001b[38;5;241;43m=\u001b[39;49m\u001b[43morder\u001b[49m\u001b[43m)\u001b[49m\n",
      "\u001b[1;31mMemoryError\u001b[0m: Unable to allocate 40.4 GiB for an array with shape (67932, 79882) and data type float64"
     ]
    }
   ],
   "source": [
    "import pandas as pd\n",
    "import numpy as np\n",
    "from sklearn.feature_extraction.text import TfidfVectorizer\n",
    "from sklearn.model_selection import train_test_split\n",
    "from tensorflow.keras.models import Sequential\n",
    "from tensorflow.keras.layers import Dense, Dropout, BatchNormalization\n",
    "from tensorflow.keras.utils import to_categorical\n",
    "from sklearn.preprocessing import LabelEncoder\n",
    "from sklearn.metrics import classification_report, accuracy_score\n",
    "from tensorflow.keras.callbacks import EarlyStopping, ReduceLROnPlateau\n",
    "import matplotlib.pyplot as plt\n",
    "\n",
    "# Chargement des données\n",
    "df = pd.read_csv('votre_fichier.csv')\n",
    "\n",
    "# Extraction des features et des labels\n",
    "X_data = df['designation']\n",
    "y_data = df['identifiant_produit']\n",
    "\n",
    "# Vectorisation TF-IDF\n",
    "tfidf_vectorizer = TfidfVectorizer()\n",
    "X_tfidf = tfidf_vectorizer.fit_transform(X_data)\n",
    "\n",
    "# Encodage des labels\n",
    "label_encoder = LabelEncoder()\n",
    "y_encoded = label_encoder.fit_transform(y_data)\n",
    "\n",
    "# Conversion des labels en une représentation catégorielle\n",
    "y_categorical = to_categorical(y_encoded)\n",
    "\n",
    "# Division des données en ensembles d'entraînement et de test\n",
    "X_train, X_test, y_train, y_test = train_test_split(X_tfidf, y_categorical, test_size=0.2, random_state=42)\n",
    "\n",
    "# Définir et compiler le modèle\n",
    "input_dim = X_train.shape[1]\n",
    "num_classes = y_categorical.shape[1]\n",
    "\n",
    "model = Sequential()\n",
    "model.add(Dense(1024, input_dim=input_dim, activation='relu'))\n",
    "model.add(BatchNormalization())\n",
    "model.add(Dropout(0.5))\n",
    "model.add(Dense(512, activation='relu'))\n",
    "model.add(BatchNormalization())\n",
    "model.add(Dropout(0.5))\n",
    "model.add(Dense(256, activation='relu'))\n",
    "model.add(BatchNormalization())\n",
    "model.add(Dropout(0.5))\n",
    "model.add(Dense(num_classes, activation='softmax'))\n",
    "\n",
    "model.compile(loss='categorical_crossentropy',\n",
    "              optimizer='adam',\n",
    "              metrics=['accuracy'])\n",
    "\n",
    "# Callbacks\n",
    "early_stopping = EarlyStopping(monitor='val_loss', patience=5, restore_best_weights=True)\n",
    "reduce_lr = ReduceLROnPlateau(monitor='val_loss', factor=0.2, patience=3, min_lr=0.001)\n",
    "\n",
    "# Entraîner le modèle\n",
    "history = model.fit(X_train.toarray(), y_train,\n",
    "                    epochs=50, \n",
    "                    batch_size=32, \n",
    "                    validation_split=0.2,\n",
    "                    callbacks=[early_stopping, reduce_lr])\n",
    "\n",
    "# Évaluation du modèle\n",
    "loss, accuracy = model.evaluate(X_test.toarray(), y_test)\n",
    "print(f'Test Loss: {loss}')\n",
    "print(f'Test Accuracy: {accuracy}')\n",
    "\n",
    "y_pred_prob = model.predict(X_test.toarray())\n",
    "y_pred = np.argmax(y_pred_prob, axis=1)\n",
    "y_test_true = np.argmax(y_test, axis=1)\n",
    "\n",
    "print(\"Classification Report:\\n\", classification_report(y_test_true, y_pred))\n",
    "\n",
    "# Visualiser les résultats\n",
    "plt.figure(figsize=(12, 6))\n",
    "plt.subplot(1, 2, 1)\n",
    "plt.plot(history.history['accuracy'])\n",
    "plt.plot(history.history['val_accuracy'])\n",
    "plt.title('Model accuracy')\n",
    "plt.ylabel('Accuracy')\n",
    "plt.xlabel('Epoch')\n",
    "plt.legend(['Train', 'Validation'], loc='upper left')\n",
    "\n",
    "plt.subplot(1, 2, 2)\n",
    "plt.plot(history.history['loss'])\n",
    "plt.plot(history.history['val_loss'])\n",
    "plt.title('Model loss')\n",
    "plt.ylabel('Loss')\n",
    "plt.xlabel('Epoch')\n",
    "plt.legend(['Train', 'Validation'], loc='upper left')\n",
    "\n",
    "plt.show()\n"
   ]
  },
  {
   "cell_type": "code",
   "execution_count": null,
   "metadata": {},
   "outputs": [
    {
     "name": "stdout",
     "output_type": "stream",
     "text": [
      "0.7018172599405393\n"
     ]
    }
   ],
   "source": [
    "print(f1_score(y_test_true,y_pred,average='macro'))"
   ]
  }
 ],
 "metadata": {
  "kernelspec": {
   "display_name": "Python 3",
   "language": "python",
   "name": "python3"
  },
  "language_info": {
   "codemirror_mode": {
    "name": "ipython",
    "version": 3
   },
   "file_extension": ".py",
   "mimetype": "text/x-python",
   "name": "python",
   "nbconvert_exporter": "python",
   "pygments_lexer": "ipython3",
   "version": "3.9.13"
  }
 },
 "nbformat": 4,
 "nbformat_minor": 2
}
