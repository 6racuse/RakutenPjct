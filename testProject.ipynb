{
 "cells": [
  {
   "cell_type": "markdown",
   "metadata": {},
   "source": [
    "# Notebook de test\n"
   ]
  },
  {
   "cell_type": "markdown",
   "metadata": {},
   "source": [
    "## Importation des bibliothèques\n"
   ]
  },
  {
   "cell_type": "code",
   "execution_count": 1,
   "metadata": {},
   "outputs": [],
   "source": [
    "import numpy as np\n",
    "import pandas as pd\n",
    "import matplotlib.pyplot as plt\n",
    "import scipy\n",
    "\n",
    "import spacy\n",
    "import random\n",
    "import math\n",
    "from sklearn.linear_model import SGDRegressor\n",
    "from sklearn.model_selection import train_test_split\n",
    "from sklearn.metrics import mean_squared_error\n",
    "from sklearn.feature_extraction.text import TfidfVectorizer\n",
    "from sklearn.model_selection import GridSearchCV, KFold\n",
    "from sklearn.ensemble import RandomForestRegressor"
   ]
  },
  {
   "cell_type": "markdown",
   "metadata": {},
   "source": [
    "## Fonctions utiles"
   ]
  },
  {
   "cell_type": "code",
   "execution_count": 2,
   "metadata": {},
   "outputs": [],
   "source": [
    "def progress_bar(iteration, total, prefix='', suffix='', decimals=1, length=50, fill='█'):\n",
    "    \"\"\"Fonction d'affichage de progress bar, récupérée sur le Notebook du TD1 de Data Sciences de Myriam Tami\n",
    "    \"\"\"\n",
    "    percent = (\"{0:.\" + str(decimals) + \"f}\").format(100 * (iteration / float(total)))\n",
    "    filled_length = int(length * iteration // total)\n",
    "    bar = fill * filled_length + '-' * (length - filled_length)\n",
    "    print(f'\\r{prefix} |{bar}| {percent}% {suffix}', end='\\r')\n",
    "    # Print New Line on Complete\n",
    "    if iteration == total:\n",
    "        print()\n",
    "                \n",
    "def raw_to_tokens(raw_string, spacy_nlp):\n",
    "        # Write code for lower-casing\n",
    "    string = raw_string.lower()\n",
    "\n",
    "    # Write code to normalize the accents\n",
    "    string = normalize_accent(string)\n",
    "\n",
    "    # Write code to tokenize\n",
    "    spacy_tokens = spacy_nlp(string)\n",
    "    \n",
    "\n",
    "    # Write code to remove punctuation tokens and create string tokens\n",
    "    string_tokens = [token.orth_ for token in spacy_tokens if not token.is_punct if not token.is_stop]\n",
    "    # Write code to join the tokens back into a single string\n",
    "    clean_string = \" \".join(string_tokens)\n",
    "\n",
    "    return clean_string\n",
    "\n",
    "\n",
    "def normalize_accent(string):\n",
    "    string = string.replace('á', 'a')\n",
    "    string = string.replace('â', 'a')\n",
    "    string = string.replace('à', 'a')\n",
    "    \n",
    "    string = string.replace('é', 'e')\n",
    "    string = string.replace('è', 'e')\n",
    "    string = string.replace('ê', 'e')\n",
    "    string = string.replace('ë', 'e')\n",
    "\n",
    "    string = string.replace('î', 'i')\n",
    "    string = string.replace('ï', 'i')\n",
    "    string = string.replace('n°','n')\n",
    "    string = string.replace('ö', 'o')\n",
    "    string = string.replace('ô', 'o')\n",
    "    string = string.replace('ò', 'o')\n",
    "    string = string.replace('ó', 'o')\n",
    "\n",
    "    string = string.replace('ù', 'u')\n",
    "    string = string.replace('û', 'u')\n",
    "    string = string.replace('ü', 'u')\n",
    "\n",
    "    string = string.replace('ç', 'c')\n",
    "\n",
    "    return string"
   ]
  },
  {
   "cell_type": "markdown",
   "metadata": {},
   "source": [
    "## Récupération des données"
   ]
  },
  {
   "cell_type": "markdown",
   "metadata": {},
   "source": [
    "récupération du dico français"
   ]
  },
  {
   "cell_type": "code",
   "execution_count": 3,
   "metadata": {},
   "outputs": [],
   "source": [
    "spacy_nlp = spacy.load(\"fr_core_news_sm\")"
   ]
  },
  {
   "cell_type": "markdown",
   "metadata": {},
   "source": [
    "récupération des vecteurs x_data et y_data"
   ]
  },
  {
   "cell_type": "code",
   "execution_count": 7,
   "metadata": {},
   "outputs": [],
   "source": [
    "Reload = False\n",
    "filename = \"X_dt.mat\"\n",
    "\n",
    "Y_train_filename = \".\\data\\Y_train_CVw08PX.csv\"\n",
    "#pour y_data (le product type id)\n",
    "y_data = pd.read_csv(Y_train_filename,sep=',')['prdtypecode'] #récupération de la bonne colonne prdtypecode\n",
    "\n",
    "if not Reload:\n",
    "    X_data = scipy.io.loadmat('.\\data\\\\' + filename)['data']\n",
    "else:\n",
    "    Xtrain_filename = \".\\data\\X_train_update.csv\"   \n",
    "    #pour le x_data (ici la designation, ie string)\n",
    "    X_data = []\n",
    "    raw_data = pd.read_csv(Xtrain_filename,sep=',')\n",
    "    design = raw_data['designation']\n",
    "    for k in range(len(design)):\n",
    "        X_data.append(raw_to_tokens(design[k],spacy_nlp))\n",
    "        progress_bar(k + 1,len(design), prefix='Preprocessing train:', suffix='Complété', length=50)\n",
    "            \n"
   ]
  },
  {
   "cell_type": "markdown",
   "metadata": {},
   "source": [
    "Enregistrement de X_data en mémoire pour éviter de le reload à chaque fois"
   ]
  },
  {
   "cell_type": "code",
   "execution_count": 8,
   "metadata": {},
   "outputs": [],
   "source": [
    "mdic = {\"data\": X_data}\n",
    "\n",
    "\n",
    "scipy.io.savemat('.\\data\\\\' + filename,mdic)"
   ]
  },
  {
   "cell_type": "code",
   "execution_count": null,
   "metadata": {},
   "outputs": [],
   "source": []
  },
  {
   "cell_type": "code",
   "execution_count": 5,
   "metadata": {},
   "outputs": [
    {
     "ename": "IndentationError",
     "evalue": "unexpected indent (264228122.py, line 21)",
     "output_type": "error",
     "traceback": [
      "\u001b[1;36m  Cell \u001b[1;32mIn[5], line 21\u001b[1;36m\u001b[0m\n\u001b[1;33m    header.\u001b[0m\n\u001b[1;37m    ^\u001b[0m\n\u001b[1;31mIndentationError\u001b[0m\u001b[1;31m:\u001b[0m unexpected indent\n"
     ]
    }
   ],
   "source": [
    "\n",
    "def import_data(spacy_nlp,reload):\n",
    "    \n",
    "    \n",
    "    \n",
    "    y = y_data\n",
    "    filename = \"X_dt.mat\"\n",
    "    part =20\n",
    "    \n",
    "    \n",
    "    if reload:\n",
    "        \n",
    "\n",
    "       \n",
    "        raw_data = raw_data.drop(labels='imageid',axis=1)\n",
    "\n",
    "        descrip = raw_data['description']\n",
    "        \n",
    "        \n",
    "        X_data = []\n",
    "        \n",
    "            header.\n",
    "            progress_bar(k + 1,len(design)//part, prefix='Preprocessing train:', suffix='Complété', length=50)\n",
    "        mdic = {\"data\": X_data}\n",
    "        scipy.io.savemat('.\\data\\\\' + filename,mdic)\n",
    "    else:\n",
    "        X_data = scipy.io.loadmat('.\\data\\\\' + filename)['data']\n",
    "    \n",
    "    tfidf = TfidfVectorizer()\n",
    "    X_tfidf_sample = tfidf.fit_transform(X_data)\n",
    "    print(X_tfidf_sample.shape)\n",
    "    return train_test_split(X_tfidf_sample[:len(X_data)//part],y[:len(X_data)//part],test_size=0.25,random_state=42,shuffle=True)"
   ]
  },
  {
   "cell_type": "code",
   "execution_count": null,
   "metadata": {},
   "outputs": [],
   "source": [
    "spacy_nlp = spacy.load(\"fr_core_news_sm\")"
   ]
  },
  {
   "cell_type": "code",
   "execution_count": null,
   "metadata": {},
   "outputs": [],
   "source": [
    "hist_tab_y =pd.DataFrame(y_train.prdtypecode.value_counts()).reset_index()\n",
    "hist_tab_y.columns = ['Code_produit', 'Count']\n",
    "hist_y = hist_tab_y.sort_values(\"Count\", ascending = True)\n",
    "plt.figure(figsize = (10,10))\n",
    "sns.barplot(hist_y.Count,hist_y.Code_produit , orient = \"h\", order = hist_y.Code_produit.tolist() )\n",
    "plt.title(\"Barplot des différents code produit\");"
   ]
  },
  {
   "cell_type": "code",
   "execution_count": null,
   "metadata": {},
   "outputs": [],
   "source": []
  },
  {
   "cell_type": "code",
   "execution_count": null,
   "metadata": {},
   "outputs": [],
   "source": [
    "\n",
    "\n",
    "# Load spaCy for french\n"
   ]
  },
  {
   "cell_type": "code",
   "execution_count": null,
   "metadata": {},
   "outputs": [
    {
     "name": "stdout",
     "output_type": "stream",
     "text": [
      "Preprocessing train: |██████████████████████████████████████████████████| 100.0% Complété\n"
     ]
    }
   ],
   "source": [
    "\n",
    "\n",
    "\n",
    "\n",
    "\n"
   ]
  },
  {
   "cell_type": "code",
   "execution_count": null,
   "metadata": {},
   "outputs": [
    {
     "name": "stdout",
     "output_type": "stream",
     "text": [
      "Shape of the TF-IDF Matrix:\n",
      "(16983, 29981)\n",
      "TF-IDF Matrix:\n",
      "[[0. 0. 0. ... 0. 0. 0.]\n",
      " [0. 0. 0. ... 0. 0. 0.]\n",
      " [0. 0. 0. ... 0. 0. 0.]\n",
      " ...\n",
      " [0. 0. 0. ... 0. 0. 0.]\n",
      " [0. 0. 0. ... 0. 0. 0.]\n",
      " [0. 0. 0. ... 0. 0. 0.]]\n",
      "['00' '000' '0000' ... 'ø75' 'ø80' 'úlaire']\n"
     ]
    }
   ],
   "source": [
    "tfidf = TfidfVectorizer()\n",
    "\n",
    "# Write code to vectorize the sample text\n",
    "X_tfidf_sample = tfidf.fit_transform(X_data)\n",
    "\n",
    "print(\"Shape of the TF-IDF Matrix:\")\n",
    "print(X_tfidf_sample.shape)\n",
    "print(\"TF-IDF Matrix:\")\n",
    "print(X_tfidf_sample.todense())\n",
    "print(tfidf.get_feature_names_out())\n",
    "\n"
   ]
  },
  {
   "cell_type": "code",
   "execution_count": null,
   "metadata": {},
   "outputs": [
    {
     "name": "stdout",
     "output_type": "stream",
     "text": [
      "(16983, 29981)\n",
      "2.9006834528632526\n"
     ]
    }
   ],
   "source": [
    "Dd = X_tfidf_sample.todense()\n",
    "print(Dd.shape)\n",
    "sum = 0\n",
    "for k in range(len(Dd)):\n",
    "    for i in range(len(Dd[0])):\n",
    "        # print(Dd[k,i])\n",
    "        sum+= Dd[k,i]\n",
    "        \n",
    "print(sum)"
   ]
  },
  {
   "cell_type": "code",
   "execution_count": null,
   "metadata": {},
   "outputs": [],
   "source": [
    "params = {\n",
    "    'Random forest': {'n_estimators': [200, 400, 600, 800]}\n",
    "}\n",
    "\n",
    "models = {\n",
    "    'Random forest': RandomForestRegressor(\n",
    "        n_jobs=-1\n",
    "    )}\n",
    "\n",
    "\n",
    "n_folds = 10\n",
    "\n",
    "cv = KFold(n_splits=n_folds, shuffle=True)\n",
    "X = X_tfidf_sample\n",
    "\n",
    "\n",
    "for name,model in models.items():\n",
    "    grid_search = GridSearchCV(\n",
    "        estimator=model,\n",
    "        param_grid=params[name],\n",
    "        scoring='neg_mean_squared_error',\n",
    "        return_train_score=True,\n",
    "        cv=cv,\n",
    "    ).fit(X, y)"
   ]
  }
 ],
 "metadata": {
  "kernelspec": {
   "display_name": "Python 3",
   "language": "python",
   "name": "python3"
  },
  "language_info": {
   "codemirror_mode": {
    "name": "ipython",
    "version": 3
   },
   "file_extension": ".py",
   "mimetype": "text/x-python",
   "name": "python",
   "nbconvert_exporter": "python",
   "pygments_lexer": "ipython3",
   "version": "3.9.13"
  }
 },
 "nbformat": 4,
 "nbformat_minor": 2
}
