{
 "cells": [
  {
   "cell_type": "markdown",
   "source": [
    "# Importation des librairies"
   ],
   "metadata": {
    "collapsed": false
   }
  },
  {
   "cell_type": "code",
   "execution_count": null,
   "metadata": {
    "collapsed": true
   },
   "outputs": [],
   "source": [
    "import BankModel\n",
    "import header\n",
    "import ProcessRakuten\n",
    "\n",
    "import numpy as np\n",
    "import pandas as pd\n",
    "import spacy\n",
    "\n",
    "from sklearn.ensemble import GradientBoostingClassifier\n",
    "from sklearn.model_selection import train_test_split, GridSearchCV\n",
    "from sklearn.metrics import accuracy_score, f1_score\n",
    "from sklearn.feature_extraction.text import TfidfVectorizer\n",
    "from sklearn.svm import SVC\n",
    "from sklearn.pipeline import make_pipeline"
   ]
  },
  {
   "cell_type": "markdown",
   "source": [
    "# Importation des données"
   ],
   "metadata": {
    "collapsed": false
   }
  },
  {
   "cell_type": "code",
   "execution_count": null,
   "outputs": [],
   "source": [
    "X_train = pd.read_csv(\n",
    "    \"/Users/welto/Library/CloudStorage/OneDrive-CentraleSupelec/2A/CASA/RakutenPjct/data/X_train_update.csv\",\n",
    "    sep=','\n",
    ")\n",
    "\n",
    "Y_train = pd.read_csv(\n",
    "    \"/Users/welto/Library/CloudStorage/OneDrive-CentraleSupelec/2A/CASA/RakutenPjct/data/Y_train_CVw08PX.csv\",\n",
    "    sep=','\n",
    ")"
   ],
   "metadata": {
    "collapsed": false
   }
  },
  {
   "cell_type": "markdown",
   "source": [
    "# Preprocessing"
   ],
   "metadata": {
    "collapsed": false
   }
  },
  {
   "cell_type": "markdown",
   "source": [
    "### Supression des colonnes inutilisées"
   ],
   "metadata": {
    "collapsed": false
   }
  },
  {
   "cell_type": "code",
   "execution_count": null,
   "outputs": [],
   "source": [
    "X_train = X_train.drop(\n",
    "    labels=['Unnamed: 0', 'imageid', 'description']\n",
    "    , axis=1\n",
    ")\n",
    "Y_train = Y_train.drop(\n",
    "    labels='Unnamed: 0',\n",
    "    axis=1\n",
    ")"
   ],
   "metadata": {
    "collapsed": false
   }
  },
  {
   "cell_type": "code",
   "execution_count": null,
   "outputs": [],
   "source": [
    "X_train.shape, Y_train.shape"
   ],
   "metadata": {
    "collapsed": false
   }
  },
  {
   "cell_type": "markdown",
   "source": [
    "### Séparation train-test"
   ],
   "metadata": {
    "collapsed": false
   }
  },
  {
   "cell_type": "code",
   "execution_count": null,
   "outputs": [],
   "source": [
    "X_train, X_test = train_test_split(\n",
    "    X_train,\n",
    "    test_size=0.2,\n",
    "    random_state=42\n",
    ")\n",
    "Y_train, Y_test = train_test_split(\n",
    "    Y_train,\n",
    "    test_size=0.2,\n",
    "    random_state=42\n",
    ")"
   ],
   "metadata": {
    "collapsed": false
   }
  },
  {
   "cell_type": "code",
   "execution_count": null,
   "outputs": [],
   "source": [
    "X_train.shape, X_test.shape, Y_train.shape, Y_test.shape"
   ],
   "metadata": {
    "collapsed": false
   }
  },
  {
   "cell_type": "markdown",
   "source": [
    "### Conversion en listes"
   ],
   "metadata": {
    "collapsed": false
   }
  },
  {
   "cell_type": "code",
   "execution_count": null,
   "outputs": [],
   "source": [
    "### Tokenisation et cleaning"
   ],
   "metadata": {
    "collapsed": false
   }
  },
  {
   "cell_type": "code",
   "execution_count": null,
   "outputs": [],
   "source": [
    "X_train_raw_designation = X_train['designation'].tolist()\n",
    "X_test_raw_designation = X_test['designation'].tolist()"
   ],
   "metadata": {
    "collapsed": false
   }
  },
  {
   "cell_type": "code",
   "execution_count": null,
   "outputs": [],
   "source": [
    "spacy_nlp = spacy.load(\"fr_core_news_sm\")\n",
    "\n",
    "X_train_raw_designation_clean = []\n",
    "X_test_raw_designation_clean = []\n",
    "\n",
    "a = len(X_train_raw_designation)\n",
    "b = len(X_test_raw_designation)\n",
    "\n",
    "header.progress_bar(\n",
    "    0,\n",
    "    a,\n",
    "    prefix='Progress:',\n",
    "    suffix='Complete',\n",
    "    length=50\n",
    ")\n",
    "\n",
    "for k in range(a):\n",
    "    X_train_raw_designation_clean.append(\n",
    "        header.raw_to_tokens(\n",
    "            X_train_raw_designation[k],\n",
    "            spacy_nlp\n",
    "        )\n",
    "    )\n",
    "    header.progress_bar(\n",
    "        k + 1,\n",
    "        a,\n",
    "        prefix='X_train_raw_designation_clean:',\n",
    "        suffix='Complete',\n",
    "        length=50\n",
    "    )\n",
    "\n",
    "for k in range(b):\n",
    "    X_test_raw_designation_clean.append(\n",
    "        header.raw_to_tokens(\n",
    "            X_test_raw_designation[k],\n",
    "            spacy_nlp\n",
    "        )\n",
    "    )\n",
    "    header.progress_bar(\n",
    "        k + 1,\n",
    "        b,\n",
    "        prefix='X_test_raw_designation_clean:',\n",
    "        suffix='Complete',\n",
    "        length=50\n",
    "    )"
   ],
   "metadata": {
    "collapsed": false
   }
  },
  {
   "cell_type": "markdown",
   "source": [
    "### Vectorisation"
   ],
   "metadata": {
    "collapsed": false
   }
  },
  {
   "cell_type": "code",
   "execution_count": null,
   "outputs": [],
   "source": [
    "tfidf = TfidfVectorizer()\n",
    "\n",
    "X_train_tfidf = tfidf.fit_transform(X_train_raw_designation_clean)\n",
    "X_test_tfidf = tfidf.transform(X_test_raw_designation_clean)\n",
    "\n",
    "print(\"X_train_tfidf shape:\", X_train_tfidf.shape)\n",
    "print(\"X_test_tfidf shape:\", X_test_tfidf.shape)"
   ],
   "metadata": {
    "collapsed": false
   }
  },
  {
   "cell_type": "code",
   "execution_count": null,
   "outputs": [],
   "source": [
    "X_train_tfidf.todense(), X_test_tfidf.todense()"
   ],
   "metadata": {
    "collapsed": false
   }
  },
  {
   "cell_type": "markdown",
   "source": [
    "# Entraînement"
   ],
   "metadata": {
    "collapsed": false
   }
  },
  {
   "cell_type": "code",
   "execution_count": null,
   "outputs": [],
   "source": [
    "fast_coeff = 1"
   ],
   "metadata": {
    "collapsed": false
   }
  },
  {
   "cell_type": "markdown",
   "source": [
    "## Gradient Boosting (ne fonctionne pas)"
   ],
   "metadata": {
    "collapsed": false
   }
  },
  {
   "cell_type": "code",
   "execution_count": null,
   "outputs": [],
   "source": [
    "params = {\n",
    "    'n_estimators': [100, 150, 200, 250, 300],\n",
    "    'learning_rate': [0.02, 0.03, 0.04, 0.05, 0.1]\n",
    "}\n",
    "\n",
    "gb = GradientBoostingClassifier()\n",
    "\n",
    "gb_grid = GridSearchCV(\n",
    "    estimator=gb,\n",
    "    param_grid=params,\n",
    "    scoring='accuracy',\n",
    "    cv=10, n_jobs=-1,\n",
    "    verbose=10\n",
    ")\n",
    "\n",
    "gb_grid.fit(\n",
    "    X_train_tfidf,\n",
    "    Y_train\n",
    ")\n",
    "\n",
    "Y_pred_gb = gb_grid.predict(X_test_tfidf)\n",
    "print(\n",
    "    \"Accuracy score:\",\n",
    "    accuracy_score(\n",
    "        Y_test,\n",
    "        Y_pred_gb\n",
    "    )\n",
    ")"
   ],
   "metadata": {
    "collapsed": false
   }
  },
  {
   "cell_type": "markdown",
   "source": [
    "# SVM"
   ],
   "metadata": {
    "collapsed": false
   }
  },
  {
   "cell_type": "markdown",
   "source": [
    "13min"
   ],
   "metadata": {
    "collapsed": false
   }
  },
  {
   "cell_type": "code",
   "execution_count": null,
   "outputs": [],
   "source": [
    "svm = SVC()\n",
    "\n",
    "svm.fit(\n",
    "    X_train_tfidf[:X_train_tfidf.shape[0]//fast_coeff],\n",
    "    Y_train[:len(Y_train)//fast_coeff]\n",
    ")\n",
    "\n",
    "Y_pred_svm = svm.predict(X_test_tfidf[:X_test_tfidf.shape[0]//fast_coeff])"
   ],
   "metadata": {
    "collapsed": false
   }
  },
  {
   "cell_type": "code",
   "execution_count": null,
   "outputs": [],
   "source": [
    "param_grid = {\n",
    "    'C': [0.01, 0.1, 1, 10],\n",
    "    'gamma': [10, 1, 0.1, 0.01],\n",
    "    'kernel': ['rbf']\n",
    "}\n",
    "\n",
    "grid = GridSearchCV(\n",
    "    SVC(),\n",
    "    param_grid,\n",
    "    refit=True,\n",
    "    verbose=4\n",
    ")\n",
    "grid.fit(\n",
    "    X_train_tfidf[:X_train_tfidf.shape[0]//fast_coeff],\n",
    "    Y_train[:len(Y_train)//fast_coeff]\n",
    ")\n",
    "\n",
    "Y_pred_svm = grid.predict(X_test_tfidf[:X_test_tfidf.shape[0]//fast_coeff])"
   ],
   "metadata": {
    "collapsed": false,
    "is_executing": true
   }
  },
  {
   "cell_type": "code",
   "execution_count": null,
   "outputs": [],
   "source": [
    "grid.best_params_"
   ],
   "metadata": {
    "collapsed": false
   }
  },
  {
   "cell_type": "code",
   "execution_count": null,
   "outputs": [],
   "source": [
    "print(\n",
    "    \"f1 score :\",\n",
    "    f1_score(\n",
    "        Y_test[:X_test_tfidf.shape[0]//fast_coeff],\n",
    "        Y_pred_svm,\n",
    "        average='macro'\n",
    "    )\n",
    ")\n",
    "print(\n",
    "    \"accuracy score :\",\n",
    "    accuracy_score(\n",
    "        Y_test[:X_test_tfidf.shape[0]//fast_coeff],\n",
    "        Y_pred_svm\n",
    "    )\n",
    ")"
   ],
   "metadata": {
    "collapsed": false
   }
  },
  {
   "cell_type": "markdown",
   "source": [
    "# Full"
   ],
   "metadata": {
    "collapsed": false
   }
  },
  {
   "cell_type": "code",
   "execution_count": 6,
   "outputs": [
    {
     "name": "stdout",
     "output_type": "stream",
     "text": [
      "X_train_raw_designation_clean n°1/10 : |██████████████████████████████████████████████████| 100.0% Complete\r\n",
      "X_test_raw_designation_clean n°1/10 : |██████████████████████████████████████████████████| 100.0% Complete\r\n",
      "Preprocessed in 0h 1min 7s\n",
      "(13586, 26138) (3396, 26138)\n",
      "Model trained in 0h 0min 21s\n",
      "X_train_raw_designation_clean n°2/10 : |██████████████████████████████████████████████████| 100.0% Complete\r\n",
      "X_test_raw_designation_clean n°2/10 : |██████████████████████████████████████████████████| 100.0% Complete\r\n",
      "Preprocessed in 0h 1min 8s\n",
      "(13586, 26093) (3396, 26093)\n",
      "Model trained in 0h 0min 21s\n",
      "X_train_raw_designation_clean n°3/10 : |██████████████████████████████████████████████████| 100.0% Complete\r\n",
      "X_test_raw_designation_clean n°3/10 : |██████████████████████████████████████████████████| 100.0% Complete\r\n",
      "Preprocessed in 0h 1min 8s\n",
      "(13586, 25990) (3396, 25990)\n",
      "Model trained in 0h 0min 21s\n",
      "X_train_raw_designation_clean n°4/10 : |██████████████████████████████████████████████████| 100.0% Complete\r\n",
      "X_test_raw_designation_clean n°4/10 : |██████████████████████████████████████████████████| 100.0% Complete\r\n",
      "Preprocessed in 0h 1min 7s\n",
      "(13586, 26235) (3396, 26235)\n",
      "Model trained in 0h 0min 21s\n",
      "X_train_raw_designation_clean n°5/10 : |██████████████████████████████████████████████████| 100.0% Complete\r\n",
      "X_test_raw_designation_clean n°5/10 : |██████████████████████████████████████████████████| 100.0% Complete\r\n",
      "Preprocessed in 0h 1min 7s\n",
      "(13586, 26050) (3396, 26050)\n",
      "Model trained in 0h 0min 21s\n",
      "X_train_raw_designation_clean n°6/10 : |██████████████████████████████████████████████████| 100.0% Complete\r\n",
      "X_test_raw_designation_clean n°6/10 : |██████████████████████████████████████████████████| 100.0% Complete\r\n",
      "Preprocessed in 0h 1min 7s\n",
      "(13586, 26169) (3396, 26169)\n",
      "Model trained in 0h 0min 21s\n",
      "X_train_raw_designation_clean n°7/10 : |██████████████████████████████████████████████████| 100.0% Complete\r\n",
      "X_test_raw_designation_clean n°7/10 : |██████████████████████████████████████████████████| 100.0% Complete\r\n",
      "Preprocessed in 0h 1min 7s\n",
      "(13586, 26013) (3396, 26013)\n",
      "Model trained in 0h 0min 21s\n",
      "X_train_raw_designation_clean n°8/10 : |██████████████████████████████████████████████████| 100.0% Complete\r\n",
      "X_test_raw_designation_clean n°8/10 : |██████████████████████████████████████████████████| 100.0% Complete\r\n",
      "Preprocessed in 0h 1min 7s\n",
      "(13586, 25934) (3396, 25934)\n",
      "Model trained in 0h 0min 21s\n",
      "X_train_raw_designation_clean n°9/10 : |██████████████████████████████████████████████████| 100.0% Complete\r\n",
      "X_test_raw_designation_clean n°9/10 : |██████████████████████████████████████████████████| 100.0% Complete\r\n",
      "Preprocessed in 0h 1min 7s\n",
      "(13586, 26099) (3396, 26099)\n",
      "Model trained in 0h 0min 21s\n",
      "X_train_raw_designation_clean n°10/10 : |██████████████████████████████████████████████████| 100.0% Complete\r\n",
      "X_test_raw_designation_clean n°10/10 : |██████████████████████████████████████████████████| 100.0% Complete\r\n",
      "Preprocessed in 0h 1min 7s\n",
      "(13586, 26060) (3396, 26060)\n",
      "Model trained in 0h 0min 21s\n"
     ]
    },
    {
     "data": {
      "text/plain": "<Figure size 1000x500 with 1 Axes>",
      "image/png": "[encoded data removed]"
     },
     "metadata": {},
     "output_type": "display_data"
    }
   ],
   "source": [
    "import BankModel\n",
    "import header\n",
    "import ProcessRakuten\n",
    "\n",
    "import numpy as np\n",
    "import pandas as pd\n",
    "import spacy\n",
    "import matplotlib.pyplot as plt\n",
    "\n",
    "import warnings\n",
    "import time\n",
    "\n",
    "from sklearn.ensemble import GradientBoostingClassifier\n",
    "from sklearn.model_selection import train_test_split, GridSearchCV\n",
    "from sklearn.metrics import accuracy_score, f1_score\n",
    "from sklearn.feature_extraction.text import TfidfVectorizer\n",
    "from sklearn.svm import SVC\n",
    "from sklearn.pipeline import make_pipeline\n",
    "\n",
    "def convert_seconds(seconds):\n",
    "    hours = seconds // 3600\n",
    "    minutes = (seconds % 3600) // 60\n",
    "    secs = seconds % 60\n",
    "    return hours, minutes, secs\n",
    "\n",
    "# Ignore warnings\n",
    "warnings.filterwarnings(\"ignore\")\n",
    "\n",
    "# Évolution des scores en fonction du random state\n",
    "random_state = np.linspace(0, 100, 10)\n",
    "\n",
    "# Séparation train-test\n",
    "f1 = []\n",
    "accuracy = []\n",
    "c = 1\n",
    "tot = len(random_state)\n",
    "\n",
    "full_time_start = time.time()\n",
    "\n",
    "for number in random_state :\n",
    "    # Importation des données\n",
    "    X_train = pd.read_csv(\n",
    "        \"/Users/welto/Library/CloudStorage/OneDrive-CentraleSupelec/2A/CASA/RakutenPjct/data/X_train_update.csv\",\n",
    "        sep=','\n",
    "    )\n",
    "\n",
    "    Y_train = pd.read_csv(\n",
    "        \"/Users/welto/Library/CloudStorage/OneDrive-CentraleSupelec/2A/CASA/RakutenPjct/data/Y_train_CVw08PX.csv\",\n",
    "        sep=','\n",
    "    )\n",
    "\n",
    "    # Preprocessing\n",
    "    fast_coeff = 5\n",
    "\n",
    "    # Suppression des colonnes inutiles\n",
    "    X_train = X_train.drop(\n",
    "        labels=['Unnamed: 0', 'imageid', 'description']\n",
    "        , axis=1\n",
    "    )\n",
    "    Y_train = Y_train.drop(\n",
    "        labels='Unnamed: 0',\n",
    "        axis=1\n",
    "    )\n",
    "\n",
    "    X_train, X_test = train_test_split(\n",
    "        X_train,\n",
    "        test_size=0.2,\n",
    "        random_state=int(number)\n",
    "    )\n",
    "    Y_train, Y_test = train_test_split(\n",
    "        Y_train,\n",
    "        test_size=0.2,\n",
    "        random_state=int(number)\n",
    "    )\n",
    "\n",
    "    # Tokenisation et cleaning\n",
    "    X_train_raw_designation = X_train['designation'][:X_train.shape[0]//fast_coeff].tolist()\n",
    "    X_test_raw_designation = X_test['designation'][:X_test.shape[0]//fast_coeff].tolist()\n",
    "    Y_train = Y_train['prdtypecode'][:Y_train.shape[0]//fast_coeff].tolist()\n",
    "    Y_test = Y_test['prdtypecode'][:Y_test.shape[0]//fast_coeff].tolist()\n",
    "\n",
    "    spacy_nlp = spacy.load(\"fr_core_news_sm\")\n",
    "\n",
    "    X_train_raw_designation_clean = []\n",
    "    X_test_raw_designation_clean = []\n",
    "\n",
    "    a = len(X_train_raw_designation)\n",
    "    b = len(X_test_raw_designation)\n",
    "\n",
    "    header.progress_bar(\n",
    "        0,\n",
    "        a,\n",
    "        prefix='Progress:',\n",
    "        suffix='Complete',\n",
    "        length=50\n",
    "    )\n",
    "\n",
    "    preprocessing_start_time = time.time()\n",
    "\n",
    "    for k in range(a):\n",
    "        X_train_raw_designation_clean.append(\n",
    "            header.raw_to_tokens(\n",
    "                X_train_raw_designation[k],\n",
    "                spacy_nlp\n",
    "            )\n",
    "        )\n",
    "        header.progress_bar(\n",
    "            k + 1,\n",
    "            a,\n",
    "            prefix=f'X_train_raw_designation_clean n°{c}/{tot} :',\n",
    "            suffix='Complete',\n",
    "            length=50\n",
    "        )\n",
    "\n",
    "    for k in range(b):\n",
    "        X_test_raw_designation_clean.append(\n",
    "            header.raw_to_tokens(\n",
    "                X_test_raw_designation[k],\n",
    "                spacy_nlp\n",
    "            )\n",
    "        )\n",
    "        header.progress_bar(\n",
    "            k + 1,\n",
    "            b,\n",
    "            prefix=f'X_test_raw_designation_clean n°{c}/{tot} :',\n",
    "            suffix='Complete',\n",
    "            length=50\n",
    "        )\n",
    "\n",
    "    preprocessing_end_time = time.time()\n",
    "    preprocessing_time_h, preprocessing_time_min, preprocessing_time_s = convert_seconds(preprocessing_end_time - preprocessing_start_time)\n",
    "\n",
    "    print(f\"Preprocessed in {int(preprocessing_time_h)}h {int(preprocessing_time_min)}min {int(preprocessing_time_s)}s\")\n",
    "\n",
    "    # Vectorisation\n",
    "    tfidf = TfidfVectorizer()\n",
    "\n",
    "    X_train_tfidf = tfidf.fit_transform(X_train_raw_designation_clean)\n",
    "    X_test_tfidf = tfidf.transform(X_test_raw_designation_clean)\n",
    "\n",
    "    #print(X_train_tfidf.shape, X_test_tfidf.shape)\n",
    "\n",
    "    # Entraînement\n",
    "    svm = SVC(kernel='rbf')\n",
    "\n",
    "    training_start_time = time.time()\n",
    "\n",
    "    svm.fit(\n",
    "        X_train_tfidf,\n",
    "        Y_train\n",
    "    )\n",
    "\n",
    "    training_end_time = time.time()\n",
    "    training_time_h, training_time_min, training_time_s = convert_seconds(training_end_time - training_start_time)\n",
    "\n",
    "    print(f\"Model trained in {int(training_time_h)}h {int(training_time_min)}min {int(training_time_s)}s\")\n",
    "\n",
    "    Y_pred_svm = svm.predict(X_test_tfidf)\n",
    "\n",
    "    # Évaluation du modèle\n",
    "    f1.append(\n",
    "        f1_score(\n",
    "            Y_test,\n",
    "            Y_pred_svm,\n",
    "            average='macro'\n",
    "        )\n",
    "    )\n",
    "    accuracy.append(\n",
    "        accuracy_score(\n",
    "            Y_test,\n",
    "            Y_pred_svm\n",
    "        )\n",
    "    )\n",
    "    c += 1\n",
    "\n",
    "full_time_end = time.time()\n",
    "full_time_h, full_time_min, full_time_s = convert_seconds(full_time_end - full_time_start)\n",
    "\n",
    "print(f\"Preprocessed in {int(full_time_h)}h {int(full_time_min)}min {int(full_time_s)}s\")\n",
    "\n",
    "plt.figure(figsize=(10, 5))\n",
    "plt.plot(random_state, f1, label='F1 Score', marker='o')\n",
    "plt.plot(random_state, accuracy, label='Accuracy', marker='x')\n",
    "plt.xlabel('Random State')\n",
    "plt.ylabel('Score')\n",
    "plt.title('Effect of Random State on Model Performance')\n",
    "plt.legend()\n",
    "plt.grid(True)\n",
    "plt.show()"
   ],
   "metadata": {
    "collapsed": false,
    "ExecuteTime": {
     "end_time": "2024-05-22T22:24:23.277047Z",
     "start_time": "2024-05-22T22:08:55.712915Z"
    }
   }
  },
  {
   "cell_type": "code",
   "execution_count": null,
   "outputs": [],
   "source": [],
   "metadata": {
    "collapsed": false
   }
  }
 ],
 "metadata": {
  "kernelspec": {
   "display_name": "Python 3",
   "language": "python",
   "name": "python3"
  },
  "language_info": {
   "codemirror_mode": {
    "name": "ipython",
    "version": 2
   },
   "file_extension": ".py",
   "mimetype": "text/x-python",
   "name": "python",
   "nbconvert_exporter": "python",
   "pygments_lexer": "ipython2",
   "version": "2.7.6"
  }
 },
 "nbformat": 4,
 "nbformat_minor": 0
}
