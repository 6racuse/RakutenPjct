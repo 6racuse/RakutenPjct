{
 "cells": [
  {
   "cell_type": "markdown",
   "metadata": {},
   "source": [
    "# fonctions normalisation du texte"
   ]
  },
  {
   "cell_type": "code",
   "execution_count": 8,
   "metadata": {},
   "outputs": [],
   "source": [
    "import numpy as np\n",
    "import pandas as pd\n",
    "\n",
    "\n",
    "import random\n",
    "import math\n",
    "from sklearn.linear_model import SGDRegressor\n",
    "from sklearn.model_selection import train_test_split\n",
    "from sklearn.metrics import mean_squared_error\n",
    "from sklearn.feature_extraction.text import TfidfVectorizer\n",
    "from sklearn.model_selection import GridSearchCV, KFold\n",
    "\n",
    "from sklearn.ensemble import RandomForestRegressor"
   ]
  },
  {
   "cell_type": "code",
   "execution_count": 2,
   "metadata": {},
   "outputs": [],
   "source": []
  },
  {
   "cell_type": "code",
   "execution_count": 3,
   "metadata": {},
   "outputs": [],
   "source": []
  },
  {
   "cell_type": "code",
   "execution_count": 4,
   "metadata": {},
   "outputs": [],
   "source": [
    "\n",
    "\n",
    "# Load spaCy for french\n"
   ]
  },
  {
   "cell_type": "code",
   "execution_count": 6,
   "metadata": {},
   "outputs": [
    {
     "name": "stdout",
     "output_type": "stream",
     "text": [
      "Preprocessing train: |██████████████████████████████████████████████████| 100.0% Complété\n"
     ]
    }
   ],
   "source": [
    "\n",
    "\n",
    "\n",
    "\n",
    "\n"
   ]
  },
  {
   "cell_type": "code",
   "execution_count": 9,
   "metadata": {},
   "outputs": [
    {
     "name": "stdout",
     "output_type": "stream",
     "text": [
      "Shape of the TF-IDF Matrix:\n",
      "(16983, 29981)\n",
      "TF-IDF Matrix:\n",
      "[[0. 0. 0. ... 0. 0. 0.]\n",
      " [0. 0. 0. ... 0. 0. 0.]\n",
      " [0. 0. 0. ... 0. 0. 0.]\n",
      " ...\n",
      " [0. 0. 0. ... 0. 0. 0.]\n",
      " [0. 0. 0. ... 0. 0. 0.]\n",
      " [0. 0. 0. ... 0. 0. 0.]]\n",
      "['00' '000' '0000' ... 'ø75' 'ø80' 'úlaire']\n"
     ]
    }
   ],
   "source": [
    "tfidf = TfidfVectorizer()\n",
    "\n",
    "# Write code to vectorize the sample text\n",
    "X_tfidf_sample = tfidf.fit_transform(X_data)\n",
    "\n",
    "print(\"Shape of the TF-IDF Matrix:\")\n",
    "print(X_tfidf_sample.shape)\n",
    "print(\"TF-IDF Matrix:\")\n",
    "print(X_tfidf_sample.todense())\n",
    "print(tfidf.get_feature_names_out())\n",
    "\n"
   ]
  },
  {
   "cell_type": "code",
   "execution_count": 10,
   "metadata": {},
   "outputs": [
    {
     "name": "stdout",
     "output_type": "stream",
     "text": [
      "(16983, 29981)\n",
      "2.9006834528632526\n"
     ]
    }
   ],
   "source": [
    "Dd = X_tfidf_sample.todense()\n",
    "print(Dd.shape)\n",
    "sum = 0\n",
    "for k in range(len(Dd)):\n",
    "    for i in range(len(Dd[0])):\n",
    "        # print(Dd[k,i])\n",
    "        sum+= Dd[k,i]\n",
    "        \n",
    "print(sum)"
   ]
  },
  {
   "cell_type": "code",
   "execution_count": null,
   "metadata": {},
   "outputs": [],
   "source": [
    "params = {\n",
    "    'Random forest': {'n_estimators': [200, 400, 600, 800]}\n",
    "}\n",
    "\n",
    "models = {\n",
    "    'Random forest': RandomForestRegressor(\n",
    "        n_jobs=-1\n",
    "    )}\n",
    "\n",
    "\n",
    "n_folds = 10\n",
    "\n",
    "cv = KFold(n_splits=n_folds, shuffle=True)\n",
    "X = X_tfidf_sample\n",
    "\n",
    "\n",
    "for name,model in models.items():\n",
    "    grid_search = GridSearchCV(\n",
    "        estimator=model,\n",
    "        param_grid=params[name],\n",
    "        scoring='neg_mean_squared_error',\n",
    "        return_train_score=True,\n",
    "        cv=cv,\n",
    "    ).fit(X, y)"
   ]
  }
 ],
 "metadata": {
  "kernelspec": {
   "display_name": "Python 3",
   "language": "python",
   "name": "python3"
  },
  "language_info": {
   "codemirror_mode": {
    "name": "ipython",
    "version": 3
   },
   "file_extension": ".py",
   "mimetype": "text/x-python",
   "name": "python",
   "nbconvert_exporter": "python",
   "pygments_lexer": "ipython3",
   "version": "3.9.13"
  }
 },
 "nbformat": 4,
 "nbformat_minor": 2
}
